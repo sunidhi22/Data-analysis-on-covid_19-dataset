{
 "cells": [
  {
   "cell_type": "code",
   "execution_count": 1,
   "metadata": {},
   "outputs": [],
   "source": [
    "import pandas as pd\n",
    "import numpy as np"
   ]
  },
  {
   "cell_type": "code",
   "execution_count": 2,
   "metadata": {},
   "outputs": [
    {
     "name": "stdout",
     "output_type": "stream",
     "text": [
      "/Users/mdsajidhussain/Documents/Online Sessions/Python & Tableau\r\n"
     ]
    }
   ],
   "source": [
    "!pwd"
   ]
  },
  {
   "cell_type": "code",
   "execution_count": 5,
   "metadata": {},
   "outputs": [],
   "source": [
    "df = pd.read_csv('/Users/mdsajidhussain/Downloads/covid_19_india.csv')"
   ]
  },
  {
   "cell_type": "code",
   "execution_count": 7,
   "metadata": {},
   "outputs": [
    {
     "data": {
      "text/html": [
       "<div>\n",
       "<style scoped>\n",
       "    .dataframe tbody tr th:only-of-type {\n",
       "        vertical-align: middle;\n",
       "    }\n",
       "\n",
       "    .dataframe tbody tr th {\n",
       "        vertical-align: top;\n",
       "    }\n",
       "\n",
       "    .dataframe thead th {\n",
       "        text-align: right;\n",
       "    }\n",
       "</style>\n",
       "<table border=\"1\" class=\"dataframe\">\n",
       "  <thead>\n",
       "    <tr style=\"text-align: right;\">\n",
       "      <th></th>\n",
       "      <th>Sno</th>\n",
       "      <th>Date</th>\n",
       "      <th>Time</th>\n",
       "      <th>State/UnionTerritory</th>\n",
       "      <th>ConfirmedIndianNational</th>\n",
       "      <th>ConfirmedForeignNational</th>\n",
       "      <th>Cured</th>\n",
       "      <th>Deaths</th>\n",
       "      <th>Confirmed</th>\n",
       "    </tr>\n",
       "  </thead>\n",
       "  <tbody>\n",
       "    <tr>\n",
       "      <th>2986</th>\n",
       "      <td>2987</td>\n",
       "      <td>13/06/20</td>\n",
       "      <td>8:00 AM</td>\n",
       "      <td>Tripura</td>\n",
       "      <td>-</td>\n",
       "      <td>-</td>\n",
       "      <td>278</td>\n",
       "      <td>1</td>\n",
       "      <td>961</td>\n",
       "    </tr>\n",
       "    <tr>\n",
       "      <th>2987</th>\n",
       "      <td>2988</td>\n",
       "      <td>13/06/20</td>\n",
       "      <td>8:00 AM</td>\n",
       "      <td>Uttarakhand</td>\n",
       "      <td>-</td>\n",
       "      <td>-</td>\n",
       "      <td>947</td>\n",
       "      <td>21</td>\n",
       "      <td>1724</td>\n",
       "    </tr>\n",
       "    <tr>\n",
       "      <th>2988</th>\n",
       "      <td>2989</td>\n",
       "      <td>13/06/20</td>\n",
       "      <td>8:00 AM</td>\n",
       "      <td>Uttar Pradesh</td>\n",
       "      <td>-</td>\n",
       "      <td>-</td>\n",
       "      <td>7609</td>\n",
       "      <td>365</td>\n",
       "      <td>12616</td>\n",
       "    </tr>\n",
       "    <tr>\n",
       "      <th>2989</th>\n",
       "      <td>2990</td>\n",
       "      <td>13/06/20</td>\n",
       "      <td>8:00 AM</td>\n",
       "      <td>West Bengal</td>\n",
       "      <td>-</td>\n",
       "      <td>-</td>\n",
       "      <td>4206</td>\n",
       "      <td>451</td>\n",
       "      <td>10244</td>\n",
       "    </tr>\n",
       "    <tr>\n",
       "      <th>2990</th>\n",
       "      <td>2991</td>\n",
       "      <td>13/06/20</td>\n",
       "      <td>8:00 AM</td>\n",
       "      <td>Cases being reassigned to states</td>\n",
       "      <td>-</td>\n",
       "      <td>-</td>\n",
       "      <td>0</td>\n",
       "      <td>0</td>\n",
       "      <td>7984</td>\n",
       "    </tr>\n",
       "  </tbody>\n",
       "</table>\n",
       "</div>"
      ],
      "text/plain": [
       "       Sno      Date     Time              State/UnionTerritory  \\\n",
       "2986  2987  13/06/20  8:00 AM                           Tripura   \n",
       "2987  2988  13/06/20  8:00 AM                       Uttarakhand   \n",
       "2988  2989  13/06/20  8:00 AM                     Uttar Pradesh   \n",
       "2989  2990  13/06/20  8:00 AM                       West Bengal   \n",
       "2990  2991  13/06/20  8:00 AM  Cases being reassigned to states   \n",
       "\n",
       "     ConfirmedIndianNational ConfirmedForeignNational  Cured  Deaths  \\\n",
       "2986                       -                        -    278       1   \n",
       "2987                       -                        -    947      21   \n",
       "2988                       -                        -   7609     365   \n",
       "2989                       -                        -   4206     451   \n",
       "2990                       -                        -      0       0   \n",
       "\n",
       "      Confirmed  \n",
       "2986        961  \n",
       "2987       1724  \n",
       "2988      12616  \n",
       "2989      10244  \n",
       "2990       7984  "
      ]
     },
     "execution_count": 7,
     "metadata": {},
     "output_type": "execute_result"
    }
   ],
   "source": [
    "df.tail()"
   ]
  },
  {
   "cell_type": "code",
   "execution_count": null,
   "metadata": {},
   "outputs": [],
   "source": [
    "x\n",
    "pd.DataFrame(x) # convert it to pandas df"
   ]
  },
  {
   "cell_type": "code",
   "execution_count": 5,
   "metadata": {},
   "outputs": [
    {
     "data": {
      "text/html": [
       "<div>\n",
       "<style scoped>\n",
       "    .dataframe tbody tr th:only-of-type {\n",
       "        vertical-align: middle;\n",
       "    }\n",
       "\n",
       "    .dataframe tbody tr th {\n",
       "        vertical-align: top;\n",
       "    }\n",
       "\n",
       "    .dataframe thead th {\n",
       "        text-align: right;\n",
       "    }\n",
       "</style>\n",
       "<table border=\"1\" class=\"dataframe\">\n",
       "  <thead>\n",
       "    <tr style=\"text-align: right;\">\n",
       "      <th></th>\n",
       "      <th>Sno</th>\n",
       "      <th>Date</th>\n",
       "      <th>Time</th>\n",
       "      <th>State/UnionTerritory</th>\n",
       "      <th>ConfirmedIndianNational</th>\n",
       "      <th>ConfirmedForeignNational</th>\n",
       "      <th>Cured</th>\n",
       "      <th>Deaths</th>\n",
       "      <th>Confirmed</th>\n",
       "    </tr>\n",
       "  </thead>\n",
       "  <tbody>\n",
       "    <tr>\n",
       "      <th>0</th>\n",
       "      <td>1</td>\n",
       "      <td>30/01/20</td>\n",
       "      <td>6:00 PM</td>\n",
       "      <td>Kerala</td>\n",
       "      <td>1</td>\n",
       "      <td>0</td>\n",
       "      <td>0</td>\n",
       "      <td>0</td>\n",
       "      <td>1</td>\n",
       "    </tr>\n",
       "    <tr>\n",
       "      <th>1</th>\n",
       "      <td>2</td>\n",
       "      <td>31/01/20</td>\n",
       "      <td>6:00 PM</td>\n",
       "      <td>Kerala</td>\n",
       "      <td>1</td>\n",
       "      <td>0</td>\n",
       "      <td>0</td>\n",
       "      <td>0</td>\n",
       "      <td>1</td>\n",
       "    </tr>\n",
       "    <tr>\n",
       "      <th>2</th>\n",
       "      <td>3</td>\n",
       "      <td>01/02/20</td>\n",
       "      <td>6:00 PM</td>\n",
       "      <td>Kerala</td>\n",
       "      <td>2</td>\n",
       "      <td>0</td>\n",
       "      <td>0</td>\n",
       "      <td>0</td>\n",
       "      <td>2</td>\n",
       "    </tr>\n",
       "    <tr>\n",
       "      <th>3</th>\n",
       "      <td>4</td>\n",
       "      <td>02/02/20</td>\n",
       "      <td>6:00 PM</td>\n",
       "      <td>Kerala</td>\n",
       "      <td>3</td>\n",
       "      <td>0</td>\n",
       "      <td>0</td>\n",
       "      <td>0</td>\n",
       "      <td>3</td>\n",
       "    </tr>\n",
       "    <tr>\n",
       "      <th>4</th>\n",
       "      <td>5</td>\n",
       "      <td>03/02/20</td>\n",
       "      <td>6:00 PM</td>\n",
       "      <td>Kerala</td>\n",
       "      <td>3</td>\n",
       "      <td>0</td>\n",
       "      <td>0</td>\n",
       "      <td>0</td>\n",
       "      <td>3</td>\n",
       "    </tr>\n",
       "  </tbody>\n",
       "</table>\n",
       "</div>"
      ],
      "text/plain": [
       "   Sno      Date     Time State/UnionTerritory ConfirmedIndianNational  \\\n",
       "0    1  30/01/20  6:00 PM               Kerala                       1   \n",
       "1    2  31/01/20  6:00 PM               Kerala                       1   \n",
       "2    3  01/02/20  6:00 PM               Kerala                       2   \n",
       "3    4  02/02/20  6:00 PM               Kerala                       3   \n",
       "4    5  03/02/20  6:00 PM               Kerala                       3   \n",
       "\n",
       "  ConfirmedForeignNational  Cured  Deaths  Confirmed  \n",
       "0                        0      0       0          1  \n",
       "1                        0      0       0          1  \n",
       "2                        0      0       0          2  \n",
       "3                        0      0       0          3  \n",
       "4                        0      0       0          3  "
      ]
     },
     "execution_count": 5,
     "metadata": {},
     "output_type": "execute_result"
    }
   ],
   "source": [
    "df.head()"
   ]
  },
  {
   "cell_type": "code",
   "execution_count": 6,
   "metadata": {},
   "outputs": [
    {
     "data": {
      "text/plain": [
       "pandas.core.frame.DataFrame"
      ]
     },
     "execution_count": 6,
     "metadata": {},
     "output_type": "execute_result"
    }
   ],
   "source": [
    "type(df)"
   ]
  },
  {
   "cell_type": "code",
   "execution_count": 9,
   "metadata": {},
   "outputs": [
    {
     "data": {
      "text/html": [
       "<div>\n",
       "<style scoped>\n",
       "    .dataframe tbody tr th:only-of-type {\n",
       "        vertical-align: middle;\n",
       "    }\n",
       "\n",
       "    .dataframe tbody tr th {\n",
       "        vertical-align: top;\n",
       "    }\n",
       "\n",
       "    .dataframe thead th {\n",
       "        text-align: right;\n",
       "    }\n",
       "</style>\n",
       "<table border=\"1\" class=\"dataframe\">\n",
       "  <thead>\n",
       "    <tr style=\"text-align: right;\">\n",
       "      <th></th>\n",
       "      <th>Sno</th>\n",
       "      <th>Date</th>\n",
       "      <th>Time</th>\n",
       "      <th>State/UnionTerritory</th>\n",
       "      <th>ConfirmedIndianNational</th>\n",
       "      <th>ConfirmedForeignNational</th>\n",
       "      <th>Cured</th>\n",
       "      <th>Deaths</th>\n",
       "      <th>Confirmed</th>\n",
       "    </tr>\n",
       "  </thead>\n",
       "  <tbody>\n",
       "    <tr>\n",
       "      <th>2981</th>\n",
       "      <td>2982</td>\n",
       "      <td>13/06/20</td>\n",
       "      <td>8:00 AM</td>\n",
       "      <td>Punjab</td>\n",
       "      <td>-</td>\n",
       "      <td>-</td>\n",
       "      <td>2282</td>\n",
       "      <td>63</td>\n",
       "      <td>2986</td>\n",
       "    </tr>\n",
       "    <tr>\n",
       "      <th>2982</th>\n",
       "      <td>2983</td>\n",
       "      <td>13/06/20</td>\n",
       "      <td>8:00 AM</td>\n",
       "      <td>Rajasthan</td>\n",
       "      <td>-</td>\n",
       "      <td>-</td>\n",
       "      <td>8898</td>\n",
       "      <td>272</td>\n",
       "      <td>12068</td>\n",
       "    </tr>\n",
       "    <tr>\n",
       "      <th>2983</th>\n",
       "      <td>2984</td>\n",
       "      <td>13/06/20</td>\n",
       "      <td>8:00 AM</td>\n",
       "      <td>Sikkim</td>\n",
       "      <td>-</td>\n",
       "      <td>-</td>\n",
       "      <td>2</td>\n",
       "      <td>0</td>\n",
       "      <td>63</td>\n",
       "    </tr>\n",
       "    <tr>\n",
       "      <th>2984</th>\n",
       "      <td>2985</td>\n",
       "      <td>13/06/20</td>\n",
       "      <td>8:00 AM</td>\n",
       "      <td>Tamil Nadu</td>\n",
       "      <td>-</td>\n",
       "      <td>-</td>\n",
       "      <td>22047</td>\n",
       "      <td>367</td>\n",
       "      <td>40698</td>\n",
       "    </tr>\n",
       "    <tr>\n",
       "      <th>2985</th>\n",
       "      <td>2986</td>\n",
       "      <td>13/06/20</td>\n",
       "      <td>8:00 AM</td>\n",
       "      <td>Telangana</td>\n",
       "      <td>-</td>\n",
       "      <td>-</td>\n",
       "      <td>2278</td>\n",
       "      <td>174</td>\n",
       "      <td>4484</td>\n",
       "    </tr>\n",
       "    <tr>\n",
       "      <th>2986</th>\n",
       "      <td>2987</td>\n",
       "      <td>13/06/20</td>\n",
       "      <td>8:00 AM</td>\n",
       "      <td>Tripura</td>\n",
       "      <td>-</td>\n",
       "      <td>-</td>\n",
       "      <td>278</td>\n",
       "      <td>1</td>\n",
       "      <td>961</td>\n",
       "    </tr>\n",
       "    <tr>\n",
       "      <th>2987</th>\n",
       "      <td>2988</td>\n",
       "      <td>13/06/20</td>\n",
       "      <td>8:00 AM</td>\n",
       "      <td>Uttarakhand</td>\n",
       "      <td>-</td>\n",
       "      <td>-</td>\n",
       "      <td>947</td>\n",
       "      <td>21</td>\n",
       "      <td>1724</td>\n",
       "    </tr>\n",
       "    <tr>\n",
       "      <th>2988</th>\n",
       "      <td>2989</td>\n",
       "      <td>13/06/20</td>\n",
       "      <td>8:00 AM</td>\n",
       "      <td>Uttar Pradesh</td>\n",
       "      <td>-</td>\n",
       "      <td>-</td>\n",
       "      <td>7609</td>\n",
       "      <td>365</td>\n",
       "      <td>12616</td>\n",
       "    </tr>\n",
       "    <tr>\n",
       "      <th>2989</th>\n",
       "      <td>2990</td>\n",
       "      <td>13/06/20</td>\n",
       "      <td>8:00 AM</td>\n",
       "      <td>West Bengal</td>\n",
       "      <td>-</td>\n",
       "      <td>-</td>\n",
       "      <td>4206</td>\n",
       "      <td>451</td>\n",
       "      <td>10244</td>\n",
       "    </tr>\n",
       "    <tr>\n",
       "      <th>2990</th>\n",
       "      <td>2991</td>\n",
       "      <td>13/06/20</td>\n",
       "      <td>8:00 AM</td>\n",
       "      <td>Cases being reassigned to states</td>\n",
       "      <td>-</td>\n",
       "      <td>-</td>\n",
       "      <td>0</td>\n",
       "      <td>0</td>\n",
       "      <td>7984</td>\n",
       "    </tr>\n",
       "  </tbody>\n",
       "</table>\n",
       "</div>"
      ],
      "text/plain": [
       "       Sno      Date     Time              State/UnionTerritory  \\\n",
       "2981  2982  13/06/20  8:00 AM                            Punjab   \n",
       "2982  2983  13/06/20  8:00 AM                         Rajasthan   \n",
       "2983  2984  13/06/20  8:00 AM                            Sikkim   \n",
       "2984  2985  13/06/20  8:00 AM                        Tamil Nadu   \n",
       "2985  2986  13/06/20  8:00 AM                         Telangana   \n",
       "2986  2987  13/06/20  8:00 AM                           Tripura   \n",
       "2987  2988  13/06/20  8:00 AM                       Uttarakhand   \n",
       "2988  2989  13/06/20  8:00 AM                     Uttar Pradesh   \n",
       "2989  2990  13/06/20  8:00 AM                       West Bengal   \n",
       "2990  2991  13/06/20  8:00 AM  Cases being reassigned to states   \n",
       "\n",
       "     ConfirmedIndianNational ConfirmedForeignNational  Cured  Deaths  \\\n",
       "2981                       -                        -   2282      63   \n",
       "2982                       -                        -   8898     272   \n",
       "2983                       -                        -      2       0   \n",
       "2984                       -                        -  22047     367   \n",
       "2985                       -                        -   2278     174   \n",
       "2986                       -                        -    278       1   \n",
       "2987                       -                        -    947      21   \n",
       "2988                       -                        -   7609     365   \n",
       "2989                       -                        -   4206     451   \n",
       "2990                       -                        -      0       0   \n",
       "\n",
       "      Confirmed  \n",
       "2981       2986  \n",
       "2982      12068  \n",
       "2983         63  \n",
       "2984      40698  \n",
       "2985       4484  \n",
       "2986        961  \n",
       "2987       1724  \n",
       "2988      12616  \n",
       "2989      10244  \n",
       "2990       7984  "
      ]
     },
     "execution_count": 9,
     "metadata": {},
     "output_type": "execute_result"
    }
   ],
   "source": [
    "df.tail(10)"
   ]
  },
  {
   "cell_type": "code",
   "execution_count": 10,
   "metadata": {},
   "outputs": [
    {
     "data": {
      "text/plain": [
       "(2991, 9)"
      ]
     },
     "execution_count": 10,
     "metadata": {},
     "output_type": "execute_result"
    }
   ],
   "source": [
    "df.shape # (2738, 9)"
   ]
  },
  {
   "cell_type": "code",
   "execution_count": 11,
   "metadata": {},
   "outputs": [],
   "source": [
    "# axis = 0 means row operations \n",
    "# = 1 means columns operations\n",
    "df.drop(['Sno'], axis=1, inplace=True)"
   ]
  },
  {
   "cell_type": "code",
   "execution_count": null,
   "metadata": {},
   "outputs": [],
   "source": [
    "# 1VA0dq-oH5hwAOwt-1rW8j7iQoNFYFQ7o3rnmIF48P7g"
   ]
  },
  {
   "cell_type": "code",
   "execution_count": 12,
   "metadata": {},
   "outputs": [
    {
     "data": {
      "text/html": [
       "<div>\n",
       "<style scoped>\n",
       "    .dataframe tbody tr th:only-of-type {\n",
       "        vertical-align: middle;\n",
       "    }\n",
       "\n",
       "    .dataframe tbody tr th {\n",
       "        vertical-align: top;\n",
       "    }\n",
       "\n",
       "    .dataframe thead th {\n",
       "        text-align: right;\n",
       "    }\n",
       "</style>\n",
       "<table border=\"1\" class=\"dataframe\">\n",
       "  <thead>\n",
       "    <tr style=\"text-align: right;\">\n",
       "      <th></th>\n",
       "      <th>Date</th>\n",
       "      <th>Time</th>\n",
       "      <th>State/UnionTerritory</th>\n",
       "      <th>ConfirmedIndianNational</th>\n",
       "      <th>ConfirmedForeignNational</th>\n",
       "      <th>Cured</th>\n",
       "      <th>Deaths</th>\n",
       "      <th>Confirmed</th>\n",
       "    </tr>\n",
       "  </thead>\n",
       "  <tbody>\n",
       "    <tr>\n",
       "      <th>0</th>\n",
       "      <td>30/01/20</td>\n",
       "      <td>6:00 PM</td>\n",
       "      <td>Kerala</td>\n",
       "      <td>1</td>\n",
       "      <td>0</td>\n",
       "      <td>0</td>\n",
       "      <td>0</td>\n",
       "      <td>1</td>\n",
       "    </tr>\n",
       "    <tr>\n",
       "      <th>1</th>\n",
       "      <td>31/01/20</td>\n",
       "      <td>6:00 PM</td>\n",
       "      <td>Kerala</td>\n",
       "      <td>1</td>\n",
       "      <td>0</td>\n",
       "      <td>0</td>\n",
       "      <td>0</td>\n",
       "      <td>1</td>\n",
       "    </tr>\n",
       "    <tr>\n",
       "      <th>2</th>\n",
       "      <td>01/02/20</td>\n",
       "      <td>6:00 PM</td>\n",
       "      <td>Kerala</td>\n",
       "      <td>2</td>\n",
       "      <td>0</td>\n",
       "      <td>0</td>\n",
       "      <td>0</td>\n",
       "      <td>2</td>\n",
       "    </tr>\n",
       "    <tr>\n",
       "      <th>3</th>\n",
       "      <td>02/02/20</td>\n",
       "      <td>6:00 PM</td>\n",
       "      <td>Kerala</td>\n",
       "      <td>3</td>\n",
       "      <td>0</td>\n",
       "      <td>0</td>\n",
       "      <td>0</td>\n",
       "      <td>3</td>\n",
       "    </tr>\n",
       "    <tr>\n",
       "      <th>4</th>\n",
       "      <td>03/02/20</td>\n",
       "      <td>6:00 PM</td>\n",
       "      <td>Kerala</td>\n",
       "      <td>3</td>\n",
       "      <td>0</td>\n",
       "      <td>0</td>\n",
       "      <td>0</td>\n",
       "      <td>3</td>\n",
       "    </tr>\n",
       "    <tr>\n",
       "      <th>...</th>\n",
       "      <td>...</td>\n",
       "      <td>...</td>\n",
       "      <td>...</td>\n",
       "      <td>...</td>\n",
       "      <td>...</td>\n",
       "      <td>...</td>\n",
       "      <td>...</td>\n",
       "      <td>...</td>\n",
       "    </tr>\n",
       "    <tr>\n",
       "      <th>2986</th>\n",
       "      <td>13/06/20</td>\n",
       "      <td>8:00 AM</td>\n",
       "      <td>Tripura</td>\n",
       "      <td>-</td>\n",
       "      <td>-</td>\n",
       "      <td>278</td>\n",
       "      <td>1</td>\n",
       "      <td>961</td>\n",
       "    </tr>\n",
       "    <tr>\n",
       "      <th>2987</th>\n",
       "      <td>13/06/20</td>\n",
       "      <td>8:00 AM</td>\n",
       "      <td>Uttarakhand</td>\n",
       "      <td>-</td>\n",
       "      <td>-</td>\n",
       "      <td>947</td>\n",
       "      <td>21</td>\n",
       "      <td>1724</td>\n",
       "    </tr>\n",
       "    <tr>\n",
       "      <th>2988</th>\n",
       "      <td>13/06/20</td>\n",
       "      <td>8:00 AM</td>\n",
       "      <td>Uttar Pradesh</td>\n",
       "      <td>-</td>\n",
       "      <td>-</td>\n",
       "      <td>7609</td>\n",
       "      <td>365</td>\n",
       "      <td>12616</td>\n",
       "    </tr>\n",
       "    <tr>\n",
       "      <th>2989</th>\n",
       "      <td>13/06/20</td>\n",
       "      <td>8:00 AM</td>\n",
       "      <td>West Bengal</td>\n",
       "      <td>-</td>\n",
       "      <td>-</td>\n",
       "      <td>4206</td>\n",
       "      <td>451</td>\n",
       "      <td>10244</td>\n",
       "    </tr>\n",
       "    <tr>\n",
       "      <th>2990</th>\n",
       "      <td>13/06/20</td>\n",
       "      <td>8:00 AM</td>\n",
       "      <td>Cases being reassigned to states</td>\n",
       "      <td>-</td>\n",
       "      <td>-</td>\n",
       "      <td>0</td>\n",
       "      <td>0</td>\n",
       "      <td>7984</td>\n",
       "    </tr>\n",
       "  </tbody>\n",
       "</table>\n",
       "<p>2991 rows × 8 columns</p>\n",
       "</div>"
      ],
      "text/plain": [
       "          Date     Time              State/UnionTerritory  \\\n",
       "0     30/01/20  6:00 PM                            Kerala   \n",
       "1     31/01/20  6:00 PM                            Kerala   \n",
       "2     01/02/20  6:00 PM                            Kerala   \n",
       "3     02/02/20  6:00 PM                            Kerala   \n",
       "4     03/02/20  6:00 PM                            Kerala   \n",
       "...        ...      ...                               ...   \n",
       "2986  13/06/20  8:00 AM                           Tripura   \n",
       "2987  13/06/20  8:00 AM                       Uttarakhand   \n",
       "2988  13/06/20  8:00 AM                     Uttar Pradesh   \n",
       "2989  13/06/20  8:00 AM                       West Bengal   \n",
       "2990  13/06/20  8:00 AM  Cases being reassigned to states   \n",
       "\n",
       "     ConfirmedIndianNational ConfirmedForeignNational  Cured  Deaths  \\\n",
       "0                          1                        0      0       0   \n",
       "1                          1                        0      0       0   \n",
       "2                          2                        0      0       0   \n",
       "3                          3                        0      0       0   \n",
       "4                          3                        0      0       0   \n",
       "...                      ...                      ...    ...     ...   \n",
       "2986                       -                        -    278       1   \n",
       "2987                       -                        -    947      21   \n",
       "2988                       -                        -   7609     365   \n",
       "2989                       -                        -   4206     451   \n",
       "2990                       -                        -      0       0   \n",
       "\n",
       "      Confirmed  \n",
       "0             1  \n",
       "1             1  \n",
       "2             2  \n",
       "3             3  \n",
       "4             3  \n",
       "...         ...  \n",
       "2986        961  \n",
       "2987       1724  \n",
       "2988      12616  \n",
       "2989      10244  \n",
       "2990       7984  \n",
       "\n",
       "[2991 rows x 8 columns]"
      ]
     },
     "execution_count": 12,
     "metadata": {},
     "output_type": "execute_result"
    }
   ],
   "source": [
    "df"
   ]
  },
  {
   "cell_type": "code",
   "execution_count": 18,
   "metadata": {},
   "outputs": [],
   "source": [
    "df.drop('ConfirmedIndianNational', axis=1, inplace=True)"
   ]
  },
  {
   "cell_type": "code",
   "execution_count": 20,
   "metadata": {},
   "outputs": [],
   "source": [
    "df.drop('ConfirmedForeignNational', axis=1, inplace=True)"
   ]
  },
  {
   "cell_type": "code",
   "execution_count": 22,
   "metadata": {},
   "outputs": [
    {
     "data": {
      "text/plain": [
       "6587180"
      ]
     },
     "execution_count": 22,
     "metadata": {},
     "output_type": "execute_result"
    }
   ],
   "source": [
    "df['Confirmed']"
   ]
  },
  {
   "cell_type": "code",
   "execution_count": 25,
   "metadata": {},
   "outputs": [],
   "source": [
    "df_today = df[df.Date == '13/06/20']"
   ]
  },
  {
   "cell_type": "code",
   "execution_count": 26,
   "metadata": {},
   "outputs": [
    {
     "data": {
      "text/plain": [
       "308993"
      ]
     },
     "execution_count": 26,
     "metadata": {},
     "output_type": "execute_result"
    }
   ],
   "source": [
    "df_today['Confirmed'].sum()"
   ]
  },
  {
   "cell_type": "code",
   "execution_count": 27,
   "metadata": {},
   "outputs": [
    {
     "data": {
      "text/html": [
       "<div>\n",
       "<style scoped>\n",
       "    .dataframe tbody tr th:only-of-type {\n",
       "        vertical-align: middle;\n",
       "    }\n",
       "\n",
       "    .dataframe tbody tr th {\n",
       "        vertical-align: top;\n",
       "    }\n",
       "\n",
       "    .dataframe thead th {\n",
       "        text-align: right;\n",
       "    }\n",
       "</style>\n",
       "<table border=\"1\" class=\"dataframe\">\n",
       "  <thead>\n",
       "    <tr style=\"text-align: right;\">\n",
       "      <th></th>\n",
       "      <th>Date</th>\n",
       "      <th>Time</th>\n",
       "      <th>State/UnionTerritory</th>\n",
       "      <th>Cured</th>\n",
       "      <th>Deaths</th>\n",
       "      <th>Confirmed</th>\n",
       "    </tr>\n",
       "  </thead>\n",
       "  <tbody>\n",
       "    <tr>\n",
       "      <th>2955</th>\n",
       "      <td>13/06/20</td>\n",
       "      <td>8:00 AM</td>\n",
       "      <td>Andaman and Nicobar Islands</td>\n",
       "      <td>33</td>\n",
       "      <td>0</td>\n",
       "      <td>38</td>\n",
       "    </tr>\n",
       "    <tr>\n",
       "      <th>2956</th>\n",
       "      <td>13/06/20</td>\n",
       "      <td>8:00 AM</td>\n",
       "      <td>Andhra Pradesh</td>\n",
       "      <td>3105</td>\n",
       "      <td>80</td>\n",
       "      <td>5680</td>\n",
       "    </tr>\n",
       "    <tr>\n",
       "      <th>2957</th>\n",
       "      <td>13/06/20</td>\n",
       "      <td>8:00 AM</td>\n",
       "      <td>Arunachal Pradesh</td>\n",
       "      <td>4</td>\n",
       "      <td>0</td>\n",
       "      <td>67</td>\n",
       "    </tr>\n",
       "    <tr>\n",
       "      <th>2958</th>\n",
       "      <td>13/06/20</td>\n",
       "      <td>8:00 AM</td>\n",
       "      <td>Assam</td>\n",
       "      <td>1537</td>\n",
       "      <td>8</td>\n",
       "      <td>3498</td>\n",
       "    </tr>\n",
       "    <tr>\n",
       "      <th>2959</th>\n",
       "      <td>13/06/20</td>\n",
       "      <td>8:00 AM</td>\n",
       "      <td>Bihar</td>\n",
       "      <td>3587</td>\n",
       "      <td>36</td>\n",
       "      <td>6103</td>\n",
       "    </tr>\n",
       "  </tbody>\n",
       "</table>\n",
       "</div>"
      ],
      "text/plain": [
       "          Date     Time         State/UnionTerritory  Cured  Deaths  Confirmed\n",
       "2955  13/06/20  8:00 AM  Andaman and Nicobar Islands     33       0         38\n",
       "2956  13/06/20  8:00 AM               Andhra Pradesh   3105      80       5680\n",
       "2957  13/06/20  8:00 AM            Arunachal Pradesh      4       0         67\n",
       "2958  13/06/20  8:00 AM                        Assam   1537       8       3498\n",
       "2959  13/06/20  8:00 AM                        Bihar   3587      36       6103"
      ]
     },
     "execution_count": 27,
     "metadata": {},
     "output_type": "execute_result"
    }
   ],
   "source": [
    "df_today.head()"
   ]
  },
  {
   "cell_type": "code",
   "execution_count": null,
   "metadata": {},
   "outputs": [],
   "source": [
    "Total_Active_Cases\n",
    "\n",
    "Confirmed - Cured - Deaths"
   ]
  },
  {
   "cell_type": "code",
   "execution_count": 28,
   "metadata": {},
   "outputs": [
    {
     "name": "stderr",
     "output_type": "stream",
     "text": [
      "/Users/mdsajidhussain/anaconda/envs/py36/lib/python3.6/site-packages/ipykernel_launcher.py:1: SettingWithCopyWarning: \n",
      "A value is trying to be set on a copy of a slice from a DataFrame.\n",
      "Try using .loc[row_indexer,col_indexer] = value instead\n",
      "\n",
      "See the caveats in the documentation: https://pandas.pydata.org/pandas-docs/stable/user_guide/indexing.html#returning-a-view-versus-a-copy\n",
      "  \"\"\"Entry point for launching an IPython kernel.\n"
     ]
    }
   ],
   "source": [
    "df_today['Total_Active_Cases'] = df_today['Confirmed']-df_today['Cured'] - df_today['Deaths']"
   ]
  },
  {
   "cell_type": "code",
   "execution_count": 29,
   "metadata": {},
   "outputs": [
    {
     "data": {
      "text/html": [
       "<div>\n",
       "<style scoped>\n",
       "    .dataframe tbody tr th:only-of-type {\n",
       "        vertical-align: middle;\n",
       "    }\n",
       "\n",
       "    .dataframe tbody tr th {\n",
       "        vertical-align: top;\n",
       "    }\n",
       "\n",
       "    .dataframe thead th {\n",
       "        text-align: right;\n",
       "    }\n",
       "</style>\n",
       "<table border=\"1\" class=\"dataframe\">\n",
       "  <thead>\n",
       "    <tr style=\"text-align: right;\">\n",
       "      <th></th>\n",
       "      <th>Date</th>\n",
       "      <th>Time</th>\n",
       "      <th>State/UnionTerritory</th>\n",
       "      <th>Cured</th>\n",
       "      <th>Deaths</th>\n",
       "      <th>Confirmed</th>\n",
       "      <th>Total_Active_Cases</th>\n",
       "    </tr>\n",
       "  </thead>\n",
       "  <tbody>\n",
       "    <tr>\n",
       "      <th>2955</th>\n",
       "      <td>13/06/20</td>\n",
       "      <td>8:00 AM</td>\n",
       "      <td>Andaman and Nicobar Islands</td>\n",
       "      <td>33</td>\n",
       "      <td>0</td>\n",
       "      <td>38</td>\n",
       "      <td>5</td>\n",
       "    </tr>\n",
       "    <tr>\n",
       "      <th>2956</th>\n",
       "      <td>13/06/20</td>\n",
       "      <td>8:00 AM</td>\n",
       "      <td>Andhra Pradesh</td>\n",
       "      <td>3105</td>\n",
       "      <td>80</td>\n",
       "      <td>5680</td>\n",
       "      <td>2495</td>\n",
       "    </tr>\n",
       "    <tr>\n",
       "      <th>2957</th>\n",
       "      <td>13/06/20</td>\n",
       "      <td>8:00 AM</td>\n",
       "      <td>Arunachal Pradesh</td>\n",
       "      <td>4</td>\n",
       "      <td>0</td>\n",
       "      <td>67</td>\n",
       "      <td>63</td>\n",
       "    </tr>\n",
       "    <tr>\n",
       "      <th>2958</th>\n",
       "      <td>13/06/20</td>\n",
       "      <td>8:00 AM</td>\n",
       "      <td>Assam</td>\n",
       "      <td>1537</td>\n",
       "      <td>8</td>\n",
       "      <td>3498</td>\n",
       "      <td>1953</td>\n",
       "    </tr>\n",
       "    <tr>\n",
       "      <th>2959</th>\n",
       "      <td>13/06/20</td>\n",
       "      <td>8:00 AM</td>\n",
       "      <td>Bihar</td>\n",
       "      <td>3587</td>\n",
       "      <td>36</td>\n",
       "      <td>6103</td>\n",
       "      <td>2480</td>\n",
       "    </tr>\n",
       "  </tbody>\n",
       "</table>\n",
       "</div>"
      ],
      "text/plain": [
       "          Date     Time         State/UnionTerritory  Cured  Deaths  \\\n",
       "2955  13/06/20  8:00 AM  Andaman and Nicobar Islands     33       0   \n",
       "2956  13/06/20  8:00 AM               Andhra Pradesh   3105      80   \n",
       "2957  13/06/20  8:00 AM            Arunachal Pradesh      4       0   \n",
       "2958  13/06/20  8:00 AM                        Assam   1537       8   \n",
       "2959  13/06/20  8:00 AM                        Bihar   3587      36   \n",
       "\n",
       "      Confirmed  Total_Active_Cases  \n",
       "2955         38                   5  \n",
       "2956       5680                2495  \n",
       "2957         67                  63  \n",
       "2958       3498                1953  \n",
       "2959       6103                2480  "
      ]
     },
     "execution_count": 29,
     "metadata": {},
     "output_type": "execute_result"
    }
   ],
   "source": [
    "df_today.head()"
   ]
  },
  {
   "cell_type": "code",
   "execution_count": null,
   "metadata": {},
   "outputs": [],
   "source": [
    "!pip install plotly"
   ]
  },
  {
   "cell_type": "code",
   "execution_count": 91,
   "metadata": {},
   "outputs": [],
   "source": [
    "import matplotlib.pyplot as plt\n",
    "import plotly\n",
    "import plotly.express as px\n"
   ]
  },
  {
   "cell_type": "code",
   "execution_count": 43,
   "metadata": {},
   "outputs": [
    {
     "data": {
      "text/plain": [
       "<Figure size 1600x800 with 0 Axes>"
      ]
     },
     "execution_count": 43,
     "metadata": {},
     "output_type": "execute_result"
    },
    {
     "data": {
      "text/plain": [
       "<Figure size 1600x800 with 0 Axes>"
      ]
     },
     "metadata": {},
     "output_type": "display_data"
    }
   ],
   "source": [
    "from matplotlib.pyplot import figure\n",
    "figure(num=None, figsize=(20, 10), dpi=80, facecolor='w', edgecolor='k')"
   ]
  },
  {
   "cell_type": "code",
   "execution_count": 52,
   "metadata": {},
   "outputs": [
    {
     "data": {
      "text/plain": [
       "<BarContainer object of 36 artists>"
      ]
     },
     "execution_count": 52,
     "metadata": {},
     "output_type": "execute_result"
    },
    {
     "data": {
      "image/png": "[encoded data removed]",
      "text/plain": [
       "<Figure size 2160x1080 with 1 Axes>"
      ]
     },
     "metadata": {
      "needs_background": "light"
     },
     "output_type": "display_data"
    }
   ],
   "source": [
    "plt.figure(figsize=(30,15))\n",
    "plt.barh(df_today['State/UnionTerritory'], df_today['Total_Active_Cases'])"
   ]
  },
  {
   "cell_type": "code",
   "execution_count": 48,
   "metadata": {},
   "outputs": [
    {
     "data": {
      "text/html": [
       "<style  type=\"text/css\" >\n",
       "    #T_d8f9f28a_ae10_11ea_9c1a_48bf6be162d8row0_col3 {\n",
       "            background-color:  #fff5f0;\n",
       "            color:  #000000;\n",
       "        }    #T_d8f9f28a_ae10_11ea_9c1a_48bf6be162d8row0_col4 {\n",
       "            background-color:  #fff5f0;\n",
       "            color:  #000000;\n",
       "        }    #T_d8f9f28a_ae10_11ea_9c1a_48bf6be162d8row0_col5 {\n",
       "            background-color:  #fff5f0;\n",
       "            color:  #000000;\n",
       "        }    #T_d8f9f28a_ae10_11ea_9c1a_48bf6be162d8row0_col6 {\n",
       "            background-color:  #fff5f0;\n",
       "            color:  #000000;\n",
       "        }    #T_d8f9f28a_ae10_11ea_9c1a_48bf6be162d8row1_col3 {\n",
       "            background-color:  #feeae1;\n",
       "            color:  #000000;\n",
       "        }    #T_d8f9f28a_ae10_11ea_9c1a_48bf6be162d8row1_col4 {\n",
       "            background-color:  #fff2eb;\n",
       "            color:  #000000;\n",
       "        }    #T_d8f9f28a_ae10_11ea_9c1a_48bf6be162d8row1_col5 {\n",
       "            background-color:  #ffece3;\n",
       "            color:  #000000;\n",
       "        }    #T_d8f9f28a_ae10_11ea_9c1a_48bf6be162d8row1_col6 {\n",
       "            background-color:  #ffede5;\n",
       "            color:  #000000;\n",
       "        }    #T_d8f9f28a_ae10_11ea_9c1a_48bf6be162d8row2_col3 {\n",
       "            background-color:  #fff5f0;\n",
       "            color:  #000000;\n",
       "        }    #T_d8f9f28a_ae10_11ea_9c1a_48bf6be162d8row2_col4 {\n",
       "            background-color:  #fff5f0;\n",
       "            color:  #000000;\n",
       "        }    #T_d8f9f28a_ae10_11ea_9c1a_48bf6be162d8row2_col5 {\n",
       "            background-color:  #fff5f0;\n",
       "            color:  #000000;\n",
       "        }    #T_d8f9f28a_ae10_11ea_9c1a_48bf6be162d8row2_col6 {\n",
       "            background-color:  #fff5f0;\n",
       "            color:  #000000;\n",
       "        }    #T_d8f9f28a_ae10_11ea_9c1a_48bf6be162d8row3_col3 {\n",
       "            background-color:  #fff0e8;\n",
       "            color:  #000000;\n",
       "        }    #T_d8f9f28a_ae10_11ea_9c1a_48bf6be162d8row3_col4 {\n",
       "            background-color:  #fff5f0;\n",
       "            color:  #000000;\n",
       "        }    #T_d8f9f28a_ae10_11ea_9c1a_48bf6be162d8row3_col5 {\n",
       "            background-color:  #fff0e8;\n",
       "            color:  #000000;\n",
       "        }    #T_d8f9f28a_ae10_11ea_9c1a_48bf6be162d8row3_col6 {\n",
       "            background-color:  #ffeee7;\n",
       "            color:  #000000;\n",
       "        }    #T_d8f9f28a_ae10_11ea_9c1a_48bf6be162d8row4_col3 {\n",
       "            background-color:  #fee8de;\n",
       "            color:  #000000;\n",
       "        }    #T_d8f9f28a_ae10_11ea_9c1a_48bf6be162d8row4_col4 {\n",
       "            background-color:  #fff4ee;\n",
       "            color:  #000000;\n",
       "        }    #T_d8f9f28a_ae10_11ea_9c1a_48bf6be162d8row4_col5 {\n",
       "            background-color:  #ffebe2;\n",
       "            color:  #000000;\n",
       "        }    #T_d8f9f28a_ae10_11ea_9c1a_48bf6be162d8row4_col6 {\n",
       "            background-color:  #ffede5;\n",
       "            color:  #000000;\n",
       "        }    #T_d8f9f28a_ae10_11ea_9c1a_48bf6be162d8row5_col3 {\n",
       "            background-color:  #fff4ef;\n",
       "            color:  #000000;\n",
       "        }    #T_d8f9f28a_ae10_11ea_9c1a_48bf6be162d8row5_col4 {\n",
       "            background-color:  #fff5f0;\n",
       "            color:  #000000;\n",
       "        }    #T_d8f9f28a_ae10_11ea_9c1a_48bf6be162d8row5_col5 {\n",
       "            background-color:  #fff5f0;\n",
       "            color:  #000000;\n",
       "        }    #T_d8f9f28a_ae10_11ea_9c1a_48bf6be162d8row5_col6 {\n",
       "            background-color:  #fff5f0;\n",
       "            color:  #000000;\n",
       "        }    #T_d8f9f28a_ae10_11ea_9c1a_48bf6be162d8row6_col3 {\n",
       "            background-color:  #fff4ee;\n",
       "            color:  #000000;\n",
       "        }    #T_d8f9f28a_ae10_11ea_9c1a_48bf6be162d8row6_col4 {\n",
       "            background-color:  #fff5f0;\n",
       "            color:  #000000;\n",
       "        }    #T_d8f9f28a_ae10_11ea_9c1a_48bf6be162d8row6_col5 {\n",
       "            background-color:  #fff3ed;\n",
       "            color:  #000000;\n",
       "        }    #T_d8f9f28a_ae10_11ea_9c1a_48bf6be162d8row6_col6 {\n",
       "            background-color:  #fff2ec;\n",
       "            color:  #000000;\n",
       "        }    #T_d8f9f28a_ae10_11ea_9c1a_48bf6be162d8row7_col3 {\n",
       "            background-color:  #fff5f0;\n",
       "            color:  #000000;\n",
       "        }    #T_d8f9f28a_ae10_11ea_9c1a_48bf6be162d8row7_col4 {\n",
       "            background-color:  #fff5f0;\n",
       "            color:  #000000;\n",
       "        }    #T_d8f9f28a_ae10_11ea_9c1a_48bf6be162d8row7_col5 {\n",
       "            background-color:  #fff5f0;\n",
       "            color:  #000000;\n",
       "        }    #T_d8f9f28a_ae10_11ea_9c1a_48bf6be162d8row7_col6 {\n",
       "            background-color:  #fff5f0;\n",
       "            color:  #000000;\n",
       "        }    #T_d8f9f28a_ae10_11ea_9c1a_48bf6be162d8row8_col3 {\n",
       "            background-color:  #fcb296;\n",
       "            color:  #000000;\n",
       "        }    #T_d8f9f28a_ae10_11ea_9c1a_48bf6be162d8row8_col4 {\n",
       "            background-color:  #fca285;\n",
       "            color:  #000000;\n",
       "        }    #T_d8f9f28a_ae10_11ea_9c1a_48bf6be162d8row8_col5 {\n",
       "            background-color:  #fc9576;\n",
       "            color:  #000000;\n",
       "        }    #T_d8f9f28a_ae10_11ea_9c1a_48bf6be162d8row8_col6 {\n",
       "            background-color:  #fb7b5b;\n",
       "            color:  #000000;\n",
       "        }    #T_d8f9f28a_ae10_11ea_9c1a_48bf6be162d8row9_col3 {\n",
       "            background-color:  #fff5f0;\n",
       "            color:  #000000;\n",
       "        }    #T_d8f9f28a_ae10_11ea_9c1a_48bf6be162d8row9_col4 {\n",
       "            background-color:  #fff5f0;\n",
       "            color:  #000000;\n",
       "        }    #T_d8f9f28a_ae10_11ea_9c1a_48bf6be162d8row9_col5 {\n",
       "            background-color:  #fff4ef;\n",
       "            color:  #000000;\n",
       "        }    #T_d8f9f28a_ae10_11ea_9c1a_48bf6be162d8row9_col6 {\n",
       "            background-color:  #fff4ee;\n",
       "            color:  #000000;\n",
       "        }    #T_d8f9f28a_ae10_11ea_9c1a_48bf6be162d8row10_col3 {\n",
       "            background-color:  #fca486;\n",
       "            color:  #000000;\n",
       "        }    #T_d8f9f28a_ae10_11ea_9c1a_48bf6be162d8row10_col4 {\n",
       "            background-color:  #fc9070;\n",
       "            color:  #000000;\n",
       "        }    #T_d8f9f28a_ae10_11ea_9c1a_48bf6be162d8row10_col5 {\n",
       "            background-color:  #fcc4ad;\n",
       "            color:  #000000;\n",
       "        }    #T_d8f9f28a_ae10_11ea_9c1a_48bf6be162d8row10_col6 {\n",
       "            background-color:  #fee3d6;\n",
       "            color:  #000000;\n",
       "        }    #T_d8f9f28a_ae10_11ea_9c1a_48bf6be162d8row11_col3 {\n",
       "            background-color:  #ffece4;\n",
       "            color:  #000000;\n",
       "        }    #T_d8f9f28a_ae10_11ea_9c1a_48bf6be162d8row11_col4 {\n",
       "            background-color:  #fff2ec;\n",
       "            color:  #000000;\n",
       "        }    #T_d8f9f28a_ae10_11ea_9c1a_48bf6be162d8row11_col5 {\n",
       "            background-color:  #ffebe2;\n",
       "            color:  #000000;\n",
       "        }    #T_d8f9f28a_ae10_11ea_9c1a_48bf6be162d8row11_col6 {\n",
       "            background-color:  #fee8de;\n",
       "            color:  #000000;\n",
       "        }    #T_d8f9f28a_ae10_11ea_9c1a_48bf6be162d8row12_col3 {\n",
       "            background-color:  #fff4ef;\n",
       "            color:  #000000;\n",
       "        }    #T_d8f9f28a_ae10_11ea_9c1a_48bf6be162d8row12_col4 {\n",
       "            background-color:  #fff5f0;\n",
       "            color:  #000000;\n",
       "        }    #T_d8f9f28a_ae10_11ea_9c1a_48bf6be162d8row12_col5 {\n",
       "            background-color:  #fff4ef;\n",
       "            color:  #000000;\n",
       "        }    #T_d8f9f28a_ae10_11ea_9c1a_48bf6be162d8row12_col6 {\n",
       "            background-color:  #fff5f0;\n",
       "            color:  #000000;\n",
       "        }    #T_d8f9f28a_ae10_11ea_9c1a_48bf6be162d8row13_col3 {\n",
       "            background-color:  #ffeee6;\n",
       "            color:  #000000;\n",
       "        }    #T_d8f9f28a_ae10_11ea_9c1a_48bf6be162d8row13_col4 {\n",
       "            background-color:  #fff3ed;\n",
       "            color:  #000000;\n",
       "        }    #T_d8f9f28a_ae10_11ea_9c1a_48bf6be162d8row13_col5 {\n",
       "            background-color:  #ffeee6;\n",
       "            color:  #000000;\n",
       "        }    #T_d8f9f28a_ae10_11ea_9c1a_48bf6be162d8row13_col6 {\n",
       "            background-color:  #ffece4;\n",
       "            color:  #000000;\n",
       "        }    #T_d8f9f28a_ae10_11ea_9c1a_48bf6be162d8row14_col3 {\n",
       "            background-color:  #fff3ed;\n",
       "            color:  #000000;\n",
       "        }    #T_d8f9f28a_ae10_11ea_9c1a_48bf6be162d8row14_col4 {\n",
       "            background-color:  #fff5f0;\n",
       "            color:  #000000;\n",
       "        }    #T_d8f9f28a_ae10_11ea_9c1a_48bf6be162d8row14_col5 {\n",
       "            background-color:  #fff2ec;\n",
       "            color:  #000000;\n",
       "        }    #T_d8f9f28a_ae10_11ea_9c1a_48bf6be162d8row14_col6 {\n",
       "            background-color:  #fff2ec;\n",
       "            color:  #000000;\n",
       "        }    #T_d8f9f28a_ae10_11ea_9c1a_48bf6be162d8row15_col3 {\n",
       "            background-color:  #fee9df;\n",
       "            color:  #000000;\n",
       "        }    #T_d8f9f28a_ae10_11ea_9c1a_48bf6be162d8row15_col4 {\n",
       "            background-color:  #fff2eb;\n",
       "            color:  #000000;\n",
       "        }    #T_d8f9f28a_ae10_11ea_9c1a_48bf6be162d8row15_col5 {\n",
       "            background-color:  #feeae1;\n",
       "            color:  #000000;\n",
       "        }    #T_d8f9f28a_ae10_11ea_9c1a_48bf6be162d8row15_col6 {\n",
       "            background-color:  #ffebe2;\n",
       "            color:  #000000;\n",
       "        }    #T_d8f9f28a_ae10_11ea_9c1a_48bf6be162d8row16_col3 {\n",
       "            background-color:  #fff2eb;\n",
       "            color:  #000000;\n",
       "        }    #T_d8f9f28a_ae10_11ea_9c1a_48bf6be162d8row16_col4 {\n",
       "            background-color:  #fff4ef;\n",
       "            color:  #000000;\n",
       "        }    #T_d8f9f28a_ae10_11ea_9c1a_48bf6be162d8row16_col5 {\n",
       "            background-color:  #fff2eb;\n",
       "            color:  #000000;\n",
       "        }    #T_d8f9f28a_ae10_11ea_9c1a_48bf6be162d8row16_col6 {\n",
       "            background-color:  #fff1ea;\n",
       "            color:  #000000;\n",
       "        }    #T_d8f9f28a_ae10_11ea_9c1a_48bf6be162d8row17_col3 {\n",
       "            background-color:  #fff5f0;\n",
       "            color:  #000000;\n",
       "        }    #T_d8f9f28a_ae10_11ea_9c1a_48bf6be162d8row17_col4 {\n",
       "            background-color:  #fff5f0;\n",
       "            color:  #000000;\n",
       "        }    #T_d8f9f28a_ae10_11ea_9c1a_48bf6be162d8row17_col5 {\n",
       "            background-color:  #fff5f0;\n",
       "            color:  #000000;\n",
       "        }    #T_d8f9f28a_ae10_11ea_9c1a_48bf6be162d8row17_col6 {\n",
       "            background-color:  #fff5f0;\n",
       "            color:  #000000;\n",
       "        }    #T_d8f9f28a_ae10_11ea_9c1a_48bf6be162d8row18_col3 {\n",
       "            background-color:  #fed9c9;\n",
       "            color:  #000000;\n",
       "        }    #T_d8f9f28a_ae10_11ea_9c1a_48bf6be162d8row18_col4 {\n",
       "            background-color:  #fee1d4;\n",
       "            color:  #000000;\n",
       "        }    #T_d8f9f28a_ae10_11ea_9c1a_48bf6be162d8row18_col5 {\n",
       "            background-color:  #fee4d8;\n",
       "            color:  #000000;\n",
       "        }    #T_d8f9f28a_ae10_11ea_9c1a_48bf6be162d8row18_col6 {\n",
       "            background-color:  #ffece3;\n",
       "            color:  #000000;\n",
       "        }    #T_d8f9f28a_ae10_11ea_9c1a_48bf6be162d8row19_col3 {\n",
       "            background-color:  #67000d;\n",
       "            color:  #f1f1f1;\n",
       "        }    #T_d8f9f28a_ae10_11ea_9c1a_48bf6be162d8row19_col4 {\n",
       "            background-color:  #67000d;\n",
       "            color:  #f1f1f1;\n",
       "        }    #T_d8f9f28a_ae10_11ea_9c1a_48bf6be162d8row19_col5 {\n",
       "            background-color:  #67000d;\n",
       "            color:  #f1f1f1;\n",
       "        }    #T_d8f9f28a_ae10_11ea_9c1a_48bf6be162d8row19_col6 {\n",
       "            background-color:  #67000d;\n",
       "            color:  #f1f1f1;\n",
       "        }    #T_d8f9f28a_ae10_11ea_9c1a_48bf6be162d8row20_col3 {\n",
       "            background-color:  #fff5f0;\n",
       "            color:  #000000;\n",
       "        }    #T_d8f9f28a_ae10_11ea_9c1a_48bf6be162d8row20_col4 {\n",
       "            background-color:  #fff5f0;\n",
       "            color:  #000000;\n",
       "        }    #T_d8f9f28a_ae10_11ea_9c1a_48bf6be162d8row20_col5 {\n",
       "            background-color:  #fff5f0;\n",
       "            color:  #000000;\n",
       "        }    #T_d8f9f28a_ae10_11ea_9c1a_48bf6be162d8row20_col6 {\n",
       "            background-color:  #fff4ef;\n",
       "            color:  #000000;\n",
       "        }    #T_d8f9f28a_ae10_11ea_9c1a_48bf6be162d8row21_col3 {\n",
       "            background-color:  #fff5f0;\n",
       "            color:  #000000;\n",
       "        }    #T_d8f9f28a_ae10_11ea_9c1a_48bf6be162d8row21_col4 {\n",
       "            background-color:  #fff5f0;\n",
       "            color:  #000000;\n",
       "        }    #T_d8f9f28a_ae10_11ea_9c1a_48bf6be162d8row21_col5 {\n",
       "            background-color:  #fff5f0;\n",
       "            color:  #000000;\n",
       "        }    #T_d8f9f28a_ae10_11ea_9c1a_48bf6be162d8row21_col6 {\n",
       "            background-color:  #fff5f0;\n",
       "            color:  #000000;\n",
       "        }    #T_d8f9f28a_ae10_11ea_9c1a_48bf6be162d8row22_col3 {\n",
       "            background-color:  #fff5f0;\n",
       "            color:  #000000;\n",
       "        }    #T_d8f9f28a_ae10_11ea_9c1a_48bf6be162d8row22_col4 {\n",
       "            background-color:  #fff5f0;\n",
       "            color:  #000000;\n",
       "        }    #T_d8f9f28a_ae10_11ea_9c1a_48bf6be162d8row22_col5 {\n",
       "            background-color:  #fff5f0;\n",
       "            color:  #000000;\n",
       "        }    #T_d8f9f28a_ae10_11ea_9c1a_48bf6be162d8row22_col6 {\n",
       "            background-color:  #fff5f0;\n",
       "            color:  #000000;\n",
       "        }    #T_d8f9f28a_ae10_11ea_9c1a_48bf6be162d8row23_col3 {\n",
       "            background-color:  #fff5f0;\n",
       "            color:  #000000;\n",
       "        }    #T_d8f9f28a_ae10_11ea_9c1a_48bf6be162d8row23_col4 {\n",
       "            background-color:  #fff5f0;\n",
       "            color:  #000000;\n",
       "        }    #T_d8f9f28a_ae10_11ea_9c1a_48bf6be162d8row23_col5 {\n",
       "            background-color:  #fff5f0;\n",
       "            color:  #000000;\n",
       "        }    #T_d8f9f28a_ae10_11ea_9c1a_48bf6be162d8row23_col6 {\n",
       "            background-color:  #fff5f0;\n",
       "            color:  #000000;\n",
       "        }    #T_d8f9f28a_ae10_11ea_9c1a_48bf6be162d8row24_col3 {\n",
       "            background-color:  #ffece4;\n",
       "            color:  #000000;\n",
       "        }    #T_d8f9f28a_ae10_11ea_9c1a_48bf6be162d8row24_col4 {\n",
       "            background-color:  #fff5f0;\n",
       "            color:  #000000;\n",
       "        }    #T_d8f9f28a_ae10_11ea_9c1a_48bf6be162d8row24_col5 {\n",
       "            background-color:  #fff0e8;\n",
       "            color:  #000000;\n",
       "        }    #T_d8f9f28a_ae10_11ea_9c1a_48bf6be162d8row24_col6 {\n",
       "            background-color:  #fff2eb;\n",
       "            color:  #000000;\n",
       "        }    #T_d8f9f28a_ae10_11ea_9c1a_48bf6be162d8row25_col3 {\n",
       "            background-color:  #fff5f0;\n",
       "            color:  #000000;\n",
       "        }    #T_d8f9f28a_ae10_11ea_9c1a_48bf6be162d8row25_col4 {\n",
       "            background-color:  #fff5f0;\n",
       "            color:  #000000;\n",
       "        }    #T_d8f9f28a_ae10_11ea_9c1a_48bf6be162d8row25_col5 {\n",
       "            background-color:  #fff5f0;\n",
       "            color:  #000000;\n",
       "        }    #T_d8f9f28a_ae10_11ea_9c1a_48bf6be162d8row25_col6 {\n",
       "            background-color:  #fff5f0;\n",
       "            color:  #000000;\n",
       "        }    #T_d8f9f28a_ae10_11ea_9c1a_48bf6be162d8row26_col3 {\n",
       "            background-color:  #ffede5;\n",
       "            color:  #000000;\n",
       "        }    #T_d8f9f28a_ae10_11ea_9c1a_48bf6be162d8row26_col4 {\n",
       "            background-color:  #fff2ec;\n",
       "            color:  #000000;\n",
       "        }    #T_d8f9f28a_ae10_11ea_9c1a_48bf6be162d8row26_col5 {\n",
       "            background-color:  #fff0e9;\n",
       "            color:  #000000;\n",
       "        }    #T_d8f9f28a_ae10_11ea_9c1a_48bf6be162d8row26_col6 {\n",
       "            background-color:  #fff3ed;\n",
       "            color:  #000000;\n",
       "        }    #T_d8f9f28a_ae10_11ea_9c1a_48bf6be162d8row27_col3 {\n",
       "            background-color:  #fdcebb;\n",
       "            color:  #000000;\n",
       "        }    #T_d8f9f28a_ae10_11ea_9c1a_48bf6be162d8row27_col4 {\n",
       "            background-color:  #fee9df;\n",
       "            color:  #000000;\n",
       "        }    #T_d8f9f28a_ae10_11ea_9c1a_48bf6be162d8row27_col5 {\n",
       "            background-color:  #fee1d4;\n",
       "            color:  #000000;\n",
       "        }    #T_d8f9f28a_ae10_11ea_9c1a_48bf6be162d8row27_col6 {\n",
       "            background-color:  #ffece3;\n",
       "            color:  #000000;\n",
       "        }    #T_d8f9f28a_ae10_11ea_9c1a_48bf6be162d8row28_col3 {\n",
       "            background-color:  #fff5f0;\n",
       "            color:  #000000;\n",
       "        }    #T_d8f9f28a_ae10_11ea_9c1a_48bf6be162d8row28_col4 {\n",
       "            background-color:  #fff5f0;\n",
       "            color:  #000000;\n",
       "        }    #T_d8f9f28a_ae10_11ea_9c1a_48bf6be162d8row28_col5 {\n",
       "            background-color:  #fff5f0;\n",
       "            color:  #000000;\n",
       "        }    #T_d8f9f28a_ae10_11ea_9c1a_48bf6be162d8row28_col6 {\n",
       "            background-color:  #fff5f0;\n",
       "            color:  #000000;\n",
       "        }    #T_d8f9f28a_ae10_11ea_9c1a_48bf6be162d8row29_col3 {\n",
       "            background-color:  #fb7656;\n",
       "            color:  #000000;\n",
       "        }    #T_d8f9f28a_ae10_11ea_9c1a_48bf6be162d8row29_col4 {\n",
       "            background-color:  #fee5d8;\n",
       "            color:  #000000;\n",
       "        }    #T_d8f9f28a_ae10_11ea_9c1a_48bf6be162d8row29_col5 {\n",
       "            background-color:  #fc8a6a;\n",
       "            color:  #000000;\n",
       "        }    #T_d8f9f28a_ae10_11ea_9c1a_48bf6be162d8row29_col6 {\n",
       "            background-color:  #fc9474;\n",
       "            color:  #000000;\n",
       "        }    #T_d8f9f28a_ae10_11ea_9c1a_48bf6be162d8row30_col3 {\n",
       "            background-color:  #ffede5;\n",
       "            color:  #000000;\n",
       "        }    #T_d8f9f28a_ae10_11ea_9c1a_48bf6be162d8row30_col4 {\n",
       "            background-color:  #ffeee6;\n",
       "            color:  #000000;\n",
       "        }    #T_d8f9f28a_ae10_11ea_9c1a_48bf6be162d8row30_col5 {\n",
       "            background-color:  #ffeee6;\n",
       "            color:  #000000;\n",
       "        }    #T_d8f9f28a_ae10_11ea_9c1a_48bf6be162d8row30_col6 {\n",
       "            background-color:  #ffeee7;\n",
       "            color:  #000000;\n",
       "        }    #T_d8f9f28a_ae10_11ea_9c1a_48bf6be162d8row31_col3 {\n",
       "            background-color:  #fff4ef;\n",
       "            color:  #000000;\n",
       "        }    #T_d8f9f28a_ae10_11ea_9c1a_48bf6be162d8row31_col4 {\n",
       "            background-color:  #fff5f0;\n",
       "            color:  #000000;\n",
       "        }    #T_d8f9f28a_ae10_11ea_9c1a_48bf6be162d8row31_col5 {\n",
       "            background-color:  #fff4ee;\n",
       "            color:  #000000;\n",
       "        }    #T_d8f9f28a_ae10_11ea_9c1a_48bf6be162d8row31_col6 {\n",
       "            background-color:  #fff3ed;\n",
       "            color:  #000000;\n",
       "        }    #T_d8f9f28a_ae10_11ea_9c1a_48bf6be162d8row32_col3 {\n",
       "            background-color:  #fff2eb;\n",
       "            color:  #000000;\n",
       "        }    #T_d8f9f28a_ae10_11ea_9c1a_48bf6be162d8row32_col4 {\n",
       "            background-color:  #fff4ef;\n",
       "            color:  #000000;\n",
       "        }    #T_d8f9f28a_ae10_11ea_9c1a_48bf6be162d8row32_col5 {\n",
       "            background-color:  #fff2ec;\n",
       "            color:  #000000;\n",
       "        }    #T_d8f9f28a_ae10_11ea_9c1a_48bf6be162d8row32_col6 {\n",
       "            background-color:  #fff3ed;\n",
       "            color:  #000000;\n",
       "        }    #T_d8f9f28a_ae10_11ea_9c1a_48bf6be162d8row33_col3 {\n",
       "            background-color:  #fdd7c6;\n",
       "            color:  #000000;\n",
       "        }    #T_d8f9f28a_ae10_11ea_9c1a_48bf6be162d8row33_col4 {\n",
       "            background-color:  #fee5d8;\n",
       "            color:  #000000;\n",
       "        }    #T_d8f9f28a_ae10_11ea_9c1a_48bf6be162d8row33_col5 {\n",
       "            background-color:  #fee1d3;\n",
       "            color:  #000000;\n",
       "        }    #T_d8f9f28a_ae10_11ea_9c1a_48bf6be162d8row33_col6 {\n",
       "            background-color:  #fee6da;\n",
       "            color:  #000000;\n",
       "        }    #T_d8f9f28a_ae10_11ea_9c1a_48bf6be162d8row34_col3 {\n",
       "            background-color:  #fee7db;\n",
       "            color:  #000000;\n",
       "        }    #T_d8f9f28a_ae10_11ea_9c1a_48bf6be162d8row34_col4 {\n",
       "            background-color:  #fee1d3;\n",
       "            color:  #000000;\n",
       "        }    #T_d8f9f28a_ae10_11ea_9c1a_48bf6be162d8row34_col5 {\n",
       "            background-color:  #fee5d8;\n",
       "            color:  #000000;\n",
       "        }    #T_d8f9f28a_ae10_11ea_9c1a_48bf6be162d8row34_col6 {\n",
       "            background-color:  #fee3d6;\n",
       "            color:  #000000;\n",
       "        }    #T_d8f9f28a_ae10_11ea_9c1a_48bf6be162d8row35_col3 {\n",
       "            background-color:  #fff5f0;\n",
       "            color:  #000000;\n",
       "        }    #T_d8f9f28a_ae10_11ea_9c1a_48bf6be162d8row35_col4 {\n",
       "            background-color:  #fff5f0;\n",
       "            color:  #000000;\n",
       "        }    #T_d8f9f28a_ae10_11ea_9c1a_48bf6be162d8row35_col5 {\n",
       "            background-color:  #fee8dd;\n",
       "            color:  #000000;\n",
       "        }    #T_d8f9f28a_ae10_11ea_9c1a_48bf6be162d8row35_col6 {\n",
       "            background-color:  #fdd5c4;\n",
       "            color:  #000000;\n",
       "        }</style><table id=\"T_d8f9f28a_ae10_11ea_9c1a_48bf6be162d8\" ><thead>    <tr>        <th class=\"blank level0\" ></th>        <th class=\"col_heading level0 col0\" >Date</th>        <th class=\"col_heading level0 col1\" >Time</th>        <th class=\"col_heading level0 col2\" >State/UnionTerritory</th>        <th class=\"col_heading level0 col3\" >Cured</th>        <th class=\"col_heading level0 col4\" >Deaths</th>        <th class=\"col_heading level0 col5\" >Confirmed</th>        <th class=\"col_heading level0 col6\" >Total_Active_Cases</th>    </tr></thead><tbody>\n",
       "                <tr>\n",
       "                        <th id=\"T_d8f9f28a_ae10_11ea_9c1a_48bf6be162d8level0_row0\" class=\"row_heading level0 row0\" >2955</th>\n",
       "                        <td id=\"T_d8f9f28a_ae10_11ea_9c1a_48bf6be162d8row0_col0\" class=\"data row0 col0\" >13/06/20</td>\n",
       "                        <td id=\"T_d8f9f28a_ae10_11ea_9c1a_48bf6be162d8row0_col1\" class=\"data row0 col1\" >8:00 AM</td>\n",
       "                        <td id=\"T_d8f9f28a_ae10_11ea_9c1a_48bf6be162d8row0_col2\" class=\"data row0 col2\" >Andaman and Nicobar Islands</td>\n",
       "                        <td id=\"T_d8f9f28a_ae10_11ea_9c1a_48bf6be162d8row0_col3\" class=\"data row0 col3\" >33</td>\n",
       "                        <td id=\"T_d8f9f28a_ae10_11ea_9c1a_48bf6be162d8row0_col4\" class=\"data row0 col4\" >0</td>\n",
       "                        <td id=\"T_d8f9f28a_ae10_11ea_9c1a_48bf6be162d8row0_col5\" class=\"data row0 col5\" >38</td>\n",
       "                        <td id=\"T_d8f9f28a_ae10_11ea_9c1a_48bf6be162d8row0_col6\" class=\"data row0 col6\" >5</td>\n",
       "            </tr>\n",
       "            <tr>\n",
       "                        <th id=\"T_d8f9f28a_ae10_11ea_9c1a_48bf6be162d8level0_row1\" class=\"row_heading level0 row1\" >2956</th>\n",
       "                        <td id=\"T_d8f9f28a_ae10_11ea_9c1a_48bf6be162d8row1_col0\" class=\"data row1 col0\" >13/06/20</td>\n",
       "                        <td id=\"T_d8f9f28a_ae10_11ea_9c1a_48bf6be162d8row1_col1\" class=\"data row1 col1\" >8:00 AM</td>\n",
       "                        <td id=\"T_d8f9f28a_ae10_11ea_9c1a_48bf6be162d8row1_col2\" class=\"data row1 col2\" >Andhra Pradesh</td>\n",
       "                        <td id=\"T_d8f9f28a_ae10_11ea_9c1a_48bf6be162d8row1_col3\" class=\"data row1 col3\" >3105</td>\n",
       "                        <td id=\"T_d8f9f28a_ae10_11ea_9c1a_48bf6be162d8row1_col4\" class=\"data row1 col4\" >80</td>\n",
       "                        <td id=\"T_d8f9f28a_ae10_11ea_9c1a_48bf6be162d8row1_col5\" class=\"data row1 col5\" >5680</td>\n",
       "                        <td id=\"T_d8f9f28a_ae10_11ea_9c1a_48bf6be162d8row1_col6\" class=\"data row1 col6\" >2495</td>\n",
       "            </tr>\n",
       "            <tr>\n",
       "                        <th id=\"T_d8f9f28a_ae10_11ea_9c1a_48bf6be162d8level0_row2\" class=\"row_heading level0 row2\" >2957</th>\n",
       "                        <td id=\"T_d8f9f28a_ae10_11ea_9c1a_48bf6be162d8row2_col0\" class=\"data row2 col0\" >13/06/20</td>\n",
       "                        <td id=\"T_d8f9f28a_ae10_11ea_9c1a_48bf6be162d8row2_col1\" class=\"data row2 col1\" >8:00 AM</td>\n",
       "                        <td id=\"T_d8f9f28a_ae10_11ea_9c1a_48bf6be162d8row2_col2\" class=\"data row2 col2\" >Arunachal Pradesh</td>\n",
       "                        <td id=\"T_d8f9f28a_ae10_11ea_9c1a_48bf6be162d8row2_col3\" class=\"data row2 col3\" >4</td>\n",
       "                        <td id=\"T_d8f9f28a_ae10_11ea_9c1a_48bf6be162d8row2_col4\" class=\"data row2 col4\" >0</td>\n",
       "                        <td id=\"T_d8f9f28a_ae10_11ea_9c1a_48bf6be162d8row2_col5\" class=\"data row2 col5\" >67</td>\n",
       "                        <td id=\"T_d8f9f28a_ae10_11ea_9c1a_48bf6be162d8row2_col6\" class=\"data row2 col6\" >63</td>\n",
       "            </tr>\n",
       "            <tr>\n",
       "                        <th id=\"T_d8f9f28a_ae10_11ea_9c1a_48bf6be162d8level0_row3\" class=\"row_heading level0 row3\" >2958</th>\n",
       "                        <td id=\"T_d8f9f28a_ae10_11ea_9c1a_48bf6be162d8row3_col0\" class=\"data row3 col0\" >13/06/20</td>\n",
       "                        <td id=\"T_d8f9f28a_ae10_11ea_9c1a_48bf6be162d8row3_col1\" class=\"data row3 col1\" >8:00 AM</td>\n",
       "                        <td id=\"T_d8f9f28a_ae10_11ea_9c1a_48bf6be162d8row3_col2\" class=\"data row3 col2\" >Assam</td>\n",
       "                        <td id=\"T_d8f9f28a_ae10_11ea_9c1a_48bf6be162d8row3_col3\" class=\"data row3 col3\" >1537</td>\n",
       "                        <td id=\"T_d8f9f28a_ae10_11ea_9c1a_48bf6be162d8row3_col4\" class=\"data row3 col4\" >8</td>\n",
       "                        <td id=\"T_d8f9f28a_ae10_11ea_9c1a_48bf6be162d8row3_col5\" class=\"data row3 col5\" >3498</td>\n",
       "                        <td id=\"T_d8f9f28a_ae10_11ea_9c1a_48bf6be162d8row3_col6\" class=\"data row3 col6\" >1953</td>\n",
       "            </tr>\n",
       "            <tr>\n",
       "                        <th id=\"T_d8f9f28a_ae10_11ea_9c1a_48bf6be162d8level0_row4\" class=\"row_heading level0 row4\" >2959</th>\n",
       "                        <td id=\"T_d8f9f28a_ae10_11ea_9c1a_48bf6be162d8row4_col0\" class=\"data row4 col0\" >13/06/20</td>\n",
       "                        <td id=\"T_d8f9f28a_ae10_11ea_9c1a_48bf6be162d8row4_col1\" class=\"data row4 col1\" >8:00 AM</td>\n",
       "                        <td id=\"T_d8f9f28a_ae10_11ea_9c1a_48bf6be162d8row4_col2\" class=\"data row4 col2\" >Bihar</td>\n",
       "                        <td id=\"T_d8f9f28a_ae10_11ea_9c1a_48bf6be162d8row4_col3\" class=\"data row4 col3\" >3587</td>\n",
       "                        <td id=\"T_d8f9f28a_ae10_11ea_9c1a_48bf6be162d8row4_col4\" class=\"data row4 col4\" >36</td>\n",
       "                        <td id=\"T_d8f9f28a_ae10_11ea_9c1a_48bf6be162d8row4_col5\" class=\"data row4 col5\" >6103</td>\n",
       "                        <td id=\"T_d8f9f28a_ae10_11ea_9c1a_48bf6be162d8row4_col6\" class=\"data row4 col6\" >2480</td>\n",
       "            </tr>\n",
       "            <tr>\n",
       "                        <th id=\"T_d8f9f28a_ae10_11ea_9c1a_48bf6be162d8level0_row5\" class=\"row_heading level0 row5\" >2960</th>\n",
       "                        <td id=\"T_d8f9f28a_ae10_11ea_9c1a_48bf6be162d8row5_col0\" class=\"data row5 col0\" >13/06/20</td>\n",
       "                        <td id=\"T_d8f9f28a_ae10_11ea_9c1a_48bf6be162d8row5_col1\" class=\"data row5 col1\" >8:00 AM</td>\n",
       "                        <td id=\"T_d8f9f28a_ae10_11ea_9c1a_48bf6be162d8row5_col2\" class=\"data row5 col2\" >Chandigarh</td>\n",
       "                        <td id=\"T_d8f9f28a_ae10_11ea_9c1a_48bf6be162d8row5_col3\" class=\"data row5 col3\" >286</td>\n",
       "                        <td id=\"T_d8f9f28a_ae10_11ea_9c1a_48bf6be162d8row5_col4\" class=\"data row5 col4\" >5</td>\n",
       "                        <td id=\"T_d8f9f28a_ae10_11ea_9c1a_48bf6be162d8row5_col5\" class=\"data row5 col5\" >334</td>\n",
       "                        <td id=\"T_d8f9f28a_ae10_11ea_9c1a_48bf6be162d8row5_col6\" class=\"data row5 col6\" >43</td>\n",
       "            </tr>\n",
       "            <tr>\n",
       "                        <th id=\"T_d8f9f28a_ae10_11ea_9c1a_48bf6be162d8level0_row6\" class=\"row_heading level0 row6\" >2961</th>\n",
       "                        <td id=\"T_d8f9f28a_ae10_11ea_9c1a_48bf6be162d8row6_col0\" class=\"data row6 col0\" >13/06/20</td>\n",
       "                        <td id=\"T_d8f9f28a_ae10_11ea_9c1a_48bf6be162d8row6_col1\" class=\"data row6 col1\" >8:00 AM</td>\n",
       "                        <td id=\"T_d8f9f28a_ae10_11ea_9c1a_48bf6be162d8row6_col2\" class=\"data row6 col2\" >Chhattisgarh</td>\n",
       "                        <td id=\"T_d8f9f28a_ae10_11ea_9c1a_48bf6be162d8row6_col3\" class=\"data row6 col3\" >550</td>\n",
       "                        <td id=\"T_d8f9f28a_ae10_11ea_9c1a_48bf6be162d8row6_col4\" class=\"data row6 col4\" >6</td>\n",
       "                        <td id=\"T_d8f9f28a_ae10_11ea_9c1a_48bf6be162d8row6_col5\" class=\"data row6 col5\" >1429</td>\n",
       "                        <td id=\"T_d8f9f28a_ae10_11ea_9c1a_48bf6be162d8row6_col6\" class=\"data row6 col6\" >873</td>\n",
       "            </tr>\n",
       "            <tr>\n",
       "                        <th id=\"T_d8f9f28a_ae10_11ea_9c1a_48bf6be162d8level0_row7\" class=\"row_heading level0 row7\" >2962</th>\n",
       "                        <td id=\"T_d8f9f28a_ae10_11ea_9c1a_48bf6be162d8row7_col0\" class=\"data row7 col0\" >13/06/20</td>\n",
       "                        <td id=\"T_d8f9f28a_ae10_11ea_9c1a_48bf6be162d8row7_col1\" class=\"data row7 col1\" >8:00 AM</td>\n",
       "                        <td id=\"T_d8f9f28a_ae10_11ea_9c1a_48bf6be162d8row7_col2\" class=\"data row7 col2\" >Dadra and Nagar Haveli and Daman and Diu</td>\n",
       "                        <td id=\"T_d8f9f28a_ae10_11ea_9c1a_48bf6be162d8row7_col3\" class=\"data row7 col3\" >2</td>\n",
       "                        <td id=\"T_d8f9f28a_ae10_11ea_9c1a_48bf6be162d8row7_col4\" class=\"data row7 col4\" >0</td>\n",
       "                        <td id=\"T_d8f9f28a_ae10_11ea_9c1a_48bf6be162d8row7_col5\" class=\"data row7 col5\" >30</td>\n",
       "                        <td id=\"T_d8f9f28a_ae10_11ea_9c1a_48bf6be162d8row7_col6\" class=\"data row7 col6\" >28</td>\n",
       "            </tr>\n",
       "            <tr>\n",
       "                        <th id=\"T_d8f9f28a_ae10_11ea_9c1a_48bf6be162d8level0_row8\" class=\"row_heading level0 row8\" >2963</th>\n",
       "                        <td id=\"T_d8f9f28a_ae10_11ea_9c1a_48bf6be162d8row8_col0\" class=\"data row8 col0\" >13/06/20</td>\n",
       "                        <td id=\"T_d8f9f28a_ae10_11ea_9c1a_48bf6be162d8row8_col1\" class=\"data row8 col1\" >8:00 AM</td>\n",
       "                        <td id=\"T_d8f9f28a_ae10_11ea_9c1a_48bf6be162d8row8_col2\" class=\"data row8 col2\" >Delhi</td>\n",
       "                        <td id=\"T_d8f9f28a_ae10_11ea_9c1a_48bf6be162d8row8_col3\" class=\"data row8 col3\" >13398</td>\n",
       "                        <td id=\"T_d8f9f28a_ae10_11ea_9c1a_48bf6be162d8row8_col4\" class=\"data row8 col4\" >1214</td>\n",
       "                        <td id=\"T_d8f9f28a_ae10_11ea_9c1a_48bf6be162d8row8_col5\" class=\"data row8 col5\" >36824</td>\n",
       "                        <td id=\"T_d8f9f28a_ae10_11ea_9c1a_48bf6be162d8row8_col6\" class=\"data row8 col6\" >22212</td>\n",
       "            </tr>\n",
       "            <tr>\n",
       "                        <th id=\"T_d8f9f28a_ae10_11ea_9c1a_48bf6be162d8level0_row9\" class=\"row_heading level0 row9\" >2964</th>\n",
       "                        <td id=\"T_d8f9f28a_ae10_11ea_9c1a_48bf6be162d8row9_col0\" class=\"data row9 col0\" >13/06/20</td>\n",
       "                        <td id=\"T_d8f9f28a_ae10_11ea_9c1a_48bf6be162d8row9_col1\" class=\"data row9 col1\" >8:00 AM</td>\n",
       "                        <td id=\"T_d8f9f28a_ae10_11ea_9c1a_48bf6be162d8row9_col2\" class=\"data row9 col2\" >Goa</td>\n",
       "                        <td id=\"T_d8f9f28a_ae10_11ea_9c1a_48bf6be162d8row9_col3\" class=\"data row9 col3\" >69</td>\n",
       "                        <td id=\"T_d8f9f28a_ae10_11ea_9c1a_48bf6be162d8row9_col4\" class=\"data row9 col4\" >0</td>\n",
       "                        <td id=\"T_d8f9f28a_ae10_11ea_9c1a_48bf6be162d8row9_col5\" class=\"data row9 col5\" >463</td>\n",
       "                        <td id=\"T_d8f9f28a_ae10_11ea_9c1a_48bf6be162d8row9_col6\" class=\"data row9 col6\" >394</td>\n",
       "            </tr>\n",
       "            <tr>\n",
       "                        <th id=\"T_d8f9f28a_ae10_11ea_9c1a_48bf6be162d8level0_row10\" class=\"row_heading level0 row10\" >2965</th>\n",
       "                        <td id=\"T_d8f9f28a_ae10_11ea_9c1a_48bf6be162d8row10_col0\" class=\"data row10 col0\" >13/06/20</td>\n",
       "                        <td id=\"T_d8f9f28a_ae10_11ea_9c1a_48bf6be162d8row10_col1\" class=\"data row10 col1\" >8:00 AM</td>\n",
       "                        <td id=\"T_d8f9f28a_ae10_11ea_9c1a_48bf6be162d8row10_col2\" class=\"data row10 col2\" >Gujarat</td>\n",
       "                        <td id=\"T_d8f9f28a_ae10_11ea_9c1a_48bf6be162d8row10_col3\" class=\"data row10 col3\" >15493</td>\n",
       "                        <td id=\"T_d8f9f28a_ae10_11ea_9c1a_48bf6be162d8row10_col4\" class=\"data row10 col4\" >1415</td>\n",
       "                        <td id=\"T_d8f9f28a_ae10_11ea_9c1a_48bf6be162d8row10_col5\" class=\"data row10 col5\" >22527</td>\n",
       "                        <td id=\"T_d8f9f28a_ae10_11ea_9c1a_48bf6be162d8row10_col6\" class=\"data row10 col6\" >5619</td>\n",
       "            </tr>\n",
       "            <tr>\n",
       "                        <th id=\"T_d8f9f28a_ae10_11ea_9c1a_48bf6be162d8level0_row11\" class=\"row_heading level0 row11\" >2966</th>\n",
       "                        <td id=\"T_d8f9f28a_ae10_11ea_9c1a_48bf6be162d8row11_col0\" class=\"data row11 col0\" >13/06/20</td>\n",
       "                        <td id=\"T_d8f9f28a_ae10_11ea_9c1a_48bf6be162d8row11_col1\" class=\"data row11 col1\" >8:00 AM</td>\n",
       "                        <td id=\"T_d8f9f28a_ae10_11ea_9c1a_48bf6be162d8row11_col2\" class=\"data row11 col2\" >Haryana</td>\n",
       "                        <td id=\"T_d8f9f28a_ae10_11ea_9c1a_48bf6be162d8row11_col3\" class=\"data row11 col3\" >2475</td>\n",
       "                        <td id=\"T_d8f9f28a_ae10_11ea_9c1a_48bf6be162d8row11_col4\" class=\"data row11 col4\" >70</td>\n",
       "                        <td id=\"T_d8f9f28a_ae10_11ea_9c1a_48bf6be162d8row11_col5\" class=\"data row11 col5\" >6334</td>\n",
       "                        <td id=\"T_d8f9f28a_ae10_11ea_9c1a_48bf6be162d8row11_col6\" class=\"data row11 col6\" >3789</td>\n",
       "            </tr>\n",
       "            <tr>\n",
       "                        <th id=\"T_d8f9f28a_ae10_11ea_9c1a_48bf6be162d8level0_row12\" class=\"row_heading level0 row12\" >2967</th>\n",
       "                        <td id=\"T_d8f9f28a_ae10_11ea_9c1a_48bf6be162d8row12_col0\" class=\"data row12 col0\" >13/06/20</td>\n",
       "                        <td id=\"T_d8f9f28a_ae10_11ea_9c1a_48bf6be162d8row12_col1\" class=\"data row12 col1\" >8:00 AM</td>\n",
       "                        <td id=\"T_d8f9f28a_ae10_11ea_9c1a_48bf6be162d8row12_col2\" class=\"data row12 col2\" >Himachal Pradesh</td>\n",
       "                        <td id=\"T_d8f9f28a_ae10_11ea_9c1a_48bf6be162d8row12_col3\" class=\"data row12 col3\" >297</td>\n",
       "                        <td id=\"T_d8f9f28a_ae10_11ea_9c1a_48bf6be162d8row12_col4\" class=\"data row12 col4\" >6</td>\n",
       "                        <td id=\"T_d8f9f28a_ae10_11ea_9c1a_48bf6be162d8row12_col5\" class=\"data row12 col5\" >486</td>\n",
       "                        <td id=\"T_d8f9f28a_ae10_11ea_9c1a_48bf6be162d8row12_col6\" class=\"data row12 col6\" >183</td>\n",
       "            </tr>\n",
       "            <tr>\n",
       "                        <th id=\"T_d8f9f28a_ae10_11ea_9c1a_48bf6be162d8level0_row13\" class=\"row_heading level0 row13\" >2968</th>\n",
       "                        <td id=\"T_d8f9f28a_ae10_11ea_9c1a_48bf6be162d8row13_col0\" class=\"data row13 col0\" >13/06/20</td>\n",
       "                        <td id=\"T_d8f9f28a_ae10_11ea_9c1a_48bf6be162d8row13_col1\" class=\"data row13 col1\" >8:00 AM</td>\n",
       "                        <td id=\"T_d8f9f28a_ae10_11ea_9c1a_48bf6be162d8row13_col2\" class=\"data row13 col2\" >Jammu and Kashmir</td>\n",
       "                        <td id=\"T_d8f9f28a_ae10_11ea_9c1a_48bf6be162d8row13_col3\" class=\"data row13 col3\" >2086</td>\n",
       "                        <td id=\"T_d8f9f28a_ae10_11ea_9c1a_48bf6be162d8row13_col4\" class=\"data row13 col4\" >53</td>\n",
       "                        <td id=\"T_d8f9f28a_ae10_11ea_9c1a_48bf6be162d8row13_col5\" class=\"data row13 col5\" >4730</td>\n",
       "                        <td id=\"T_d8f9f28a_ae10_11ea_9c1a_48bf6be162d8row13_col6\" class=\"data row13 col6\" >2591</td>\n",
       "            </tr>\n",
       "            <tr>\n",
       "                        <th id=\"T_d8f9f28a_ae10_11ea_9c1a_48bf6be162d8level0_row14\" class=\"row_heading level0 row14\" >2969</th>\n",
       "                        <td id=\"T_d8f9f28a_ae10_11ea_9c1a_48bf6be162d8row14_col0\" class=\"data row14 col0\" >13/06/20</td>\n",
       "                        <td id=\"T_d8f9f28a_ae10_11ea_9c1a_48bf6be162d8row14_col1\" class=\"data row14 col1\" >8:00 AM</td>\n",
       "                        <td id=\"T_d8f9f28a_ae10_11ea_9c1a_48bf6be162d8row14_col2\" class=\"data row14 col2\" >Jharkhand</td>\n",
       "                        <td id=\"T_d8f9f28a_ae10_11ea_9c1a_48bf6be162d8row14_col3\" class=\"data row14 col3\" >672</td>\n",
       "                        <td id=\"T_d8f9f28a_ae10_11ea_9c1a_48bf6be162d8row14_col4\" class=\"data row14 col4\" >8</td>\n",
       "                        <td id=\"T_d8f9f28a_ae10_11ea_9c1a_48bf6be162d8row14_col5\" class=\"data row14 col5\" >1617</td>\n",
       "                        <td id=\"T_d8f9f28a_ae10_11ea_9c1a_48bf6be162d8row14_col6\" class=\"data row14 col6\" >937</td>\n",
       "            </tr>\n",
       "            <tr>\n",
       "                        <th id=\"T_d8f9f28a_ae10_11ea_9c1a_48bf6be162d8level0_row15\" class=\"row_heading level0 row15\" >2970</th>\n",
       "                        <td id=\"T_d8f9f28a_ae10_11ea_9c1a_48bf6be162d8row15_col0\" class=\"data row15 col0\" >13/06/20</td>\n",
       "                        <td id=\"T_d8f9f28a_ae10_11ea_9c1a_48bf6be162d8row15_col1\" class=\"data row15 col1\" >8:00 AM</td>\n",
       "                        <td id=\"T_d8f9f28a_ae10_11ea_9c1a_48bf6be162d8row15_col2\" class=\"data row15 col2\" >Karnataka</td>\n",
       "                        <td id=\"T_d8f9f28a_ae10_11ea_9c1a_48bf6be162d8row15_col3\" class=\"data row15 col3\" >3440</td>\n",
       "                        <td id=\"T_d8f9f28a_ae10_11ea_9c1a_48bf6be162d8row15_col4\" class=\"data row15 col4\" >79</td>\n",
       "                        <td id=\"T_d8f9f28a_ae10_11ea_9c1a_48bf6be162d8row15_col5\" class=\"data row15 col5\" >6516</td>\n",
       "                        <td id=\"T_d8f9f28a_ae10_11ea_9c1a_48bf6be162d8row15_col6\" class=\"data row15 col6\" >2997</td>\n",
       "            </tr>\n",
       "            <tr>\n",
       "                        <th id=\"T_d8f9f28a_ae10_11ea_9c1a_48bf6be162d8level0_row16\" class=\"row_heading level0 row16\" >2971</th>\n",
       "                        <td id=\"T_d8f9f28a_ae10_11ea_9c1a_48bf6be162d8row16_col0\" class=\"data row16 col0\" >13/06/20</td>\n",
       "                        <td id=\"T_d8f9f28a_ae10_11ea_9c1a_48bf6be162d8row16_col1\" class=\"data row16 col1\" >8:00 AM</td>\n",
       "                        <td id=\"T_d8f9f28a_ae10_11ea_9c1a_48bf6be162d8row16_col2\" class=\"data row16 col2\" >Kerala</td>\n",
       "                        <td id=\"T_d8f9f28a_ae10_11ea_9c1a_48bf6be162d8row16_col3\" class=\"data row16 col3\" >1000</td>\n",
       "                        <td id=\"T_d8f9f28a_ae10_11ea_9c1a_48bf6be162d8row16_col4\" class=\"data row16 col4\" >19</td>\n",
       "                        <td id=\"T_d8f9f28a_ae10_11ea_9c1a_48bf6be162d8row16_col5\" class=\"data row16 col5\" >2322</td>\n",
       "                        <td id=\"T_d8f9f28a_ae10_11ea_9c1a_48bf6be162d8row16_col6\" class=\"data row16 col6\" >1303</td>\n",
       "            </tr>\n",
       "            <tr>\n",
       "                        <th id=\"T_d8f9f28a_ae10_11ea_9c1a_48bf6be162d8level0_row17\" class=\"row_heading level0 row17\" >2972</th>\n",
       "                        <td id=\"T_d8f9f28a_ae10_11ea_9c1a_48bf6be162d8row17_col0\" class=\"data row17 col0\" >13/06/20</td>\n",
       "                        <td id=\"T_d8f9f28a_ae10_11ea_9c1a_48bf6be162d8row17_col1\" class=\"data row17 col1\" >8:00 AM</td>\n",
       "                        <td id=\"T_d8f9f28a_ae10_11ea_9c1a_48bf6be162d8row17_col2\" class=\"data row17 col2\" >Ladakh</td>\n",
       "                        <td id=\"T_d8f9f28a_ae10_11ea_9c1a_48bf6be162d8row17_col3\" class=\"data row17 col3\" >62</td>\n",
       "                        <td id=\"T_d8f9f28a_ae10_11ea_9c1a_48bf6be162d8row17_col4\" class=\"data row17 col4\" >1</td>\n",
       "                        <td id=\"T_d8f9f28a_ae10_11ea_9c1a_48bf6be162d8row17_col5\" class=\"data row17 col5\" >239</td>\n",
       "                        <td id=\"T_d8f9f28a_ae10_11ea_9c1a_48bf6be162d8row17_col6\" class=\"data row17 col6\" >176</td>\n",
       "            </tr>\n",
       "            <tr>\n",
       "                        <th id=\"T_d8f9f28a_ae10_11ea_9c1a_48bf6be162d8level0_row18\" class=\"row_heading level0 row18\" >2973</th>\n",
       "                        <td id=\"T_d8f9f28a_ae10_11ea_9c1a_48bf6be162d8row18_col0\" class=\"data row18 col0\" >13/06/20</td>\n",
       "                        <td id=\"T_d8f9f28a_ae10_11ea_9c1a_48bf6be162d8row18_col1\" class=\"data row18 col1\" >8:00 AM</td>\n",
       "                        <td id=\"T_d8f9f28a_ae10_11ea_9c1a_48bf6be162d8row18_col2\" class=\"data row18 col2\" >Madhya Pradesh</td>\n",
       "                        <td id=\"T_d8f9f28a_ae10_11ea_9c1a_48bf6be162d8row18_col3\" class=\"data row18 col3\" >7201</td>\n",
       "                        <td id=\"T_d8f9f28a_ae10_11ea_9c1a_48bf6be162d8row18_col4\" class=\"data row18 col4\" >440</td>\n",
       "                        <td id=\"T_d8f9f28a_ae10_11ea_9c1a_48bf6be162d8row18_col5\" class=\"data row18 col5\" >10443</td>\n",
       "                        <td id=\"T_d8f9f28a_ae10_11ea_9c1a_48bf6be162d8row18_col6\" class=\"data row18 col6\" >2802</td>\n",
       "            </tr>\n",
       "            <tr>\n",
       "                        <th id=\"T_d8f9f28a_ae10_11ea_9c1a_48bf6be162d8level0_row19\" class=\"row_heading level0 row19\" >2974</th>\n",
       "                        <td id=\"T_d8f9f28a_ae10_11ea_9c1a_48bf6be162d8row19_col0\" class=\"data row19 col0\" >13/06/20</td>\n",
       "                        <td id=\"T_d8f9f28a_ae10_11ea_9c1a_48bf6be162d8row19_col1\" class=\"data row19 col1\" >8:00 AM</td>\n",
       "                        <td id=\"T_d8f9f28a_ae10_11ea_9c1a_48bf6be162d8row19_col2\" class=\"data row19 col2\" >Maharashtra</td>\n",
       "                        <td id=\"T_d8f9f28a_ae10_11ea_9c1a_48bf6be162d8row19_col3\" class=\"data row19 col3\" >47796</td>\n",
       "                        <td id=\"T_d8f9f28a_ae10_11ea_9c1a_48bf6be162d8row19_col4\" class=\"data row19 col4\" >3717</td>\n",
       "                        <td id=\"T_d8f9f28a_ae10_11ea_9c1a_48bf6be162d8row19_col5\" class=\"data row19 col5\" >101141</td>\n",
       "                        <td id=\"T_d8f9f28a_ae10_11ea_9c1a_48bf6be162d8row19_col6\" class=\"data row19 col6\" >49628</td>\n",
       "            </tr>\n",
       "            <tr>\n",
       "                        <th id=\"T_d8f9f28a_ae10_11ea_9c1a_48bf6be162d8level0_row20\" class=\"row_heading level0 row20\" >2975</th>\n",
       "                        <td id=\"T_d8f9f28a_ae10_11ea_9c1a_48bf6be162d8row20_col0\" class=\"data row20 col0\" >13/06/20</td>\n",
       "                        <td id=\"T_d8f9f28a_ae10_11ea_9c1a_48bf6be162d8row20_col1\" class=\"data row20 col1\" >8:00 AM</td>\n",
       "                        <td id=\"T_d8f9f28a_ae10_11ea_9c1a_48bf6be162d8row20_col2\" class=\"data row20 col2\" >Manipur</td>\n",
       "                        <td id=\"T_d8f9f28a_ae10_11ea_9c1a_48bf6be162d8row20_col3\" class=\"data row20 col3\" >77</td>\n",
       "                        <td id=\"T_d8f9f28a_ae10_11ea_9c1a_48bf6be162d8row20_col4\" class=\"data row20 col4\" >0</td>\n",
       "                        <td id=\"T_d8f9f28a_ae10_11ea_9c1a_48bf6be162d8row20_col5\" class=\"data row20 col5\" >385</td>\n",
       "                        <td id=\"T_d8f9f28a_ae10_11ea_9c1a_48bf6be162d8row20_col6\" class=\"data row20 col6\" >308</td>\n",
       "            </tr>\n",
       "            <tr>\n",
       "                        <th id=\"T_d8f9f28a_ae10_11ea_9c1a_48bf6be162d8level0_row21\" class=\"row_heading level0 row21\" >2976</th>\n",
       "                        <td id=\"T_d8f9f28a_ae10_11ea_9c1a_48bf6be162d8row21_col0\" class=\"data row21 col0\" >13/06/20</td>\n",
       "                        <td id=\"T_d8f9f28a_ae10_11ea_9c1a_48bf6be162d8row21_col1\" class=\"data row21 col1\" >8:00 AM</td>\n",
       "                        <td id=\"T_d8f9f28a_ae10_11ea_9c1a_48bf6be162d8row21_col2\" class=\"data row21 col2\" >Meghalaya</td>\n",
       "                        <td id=\"T_d8f9f28a_ae10_11ea_9c1a_48bf6be162d8row21_col3\" class=\"data row21 col3\" >22</td>\n",
       "                        <td id=\"T_d8f9f28a_ae10_11ea_9c1a_48bf6be162d8row21_col4\" class=\"data row21 col4\" >1</td>\n",
       "                        <td id=\"T_d8f9f28a_ae10_11ea_9c1a_48bf6be162d8row21_col5\" class=\"data row21 col5\" >44</td>\n",
       "                        <td id=\"T_d8f9f28a_ae10_11ea_9c1a_48bf6be162d8row21_col6\" class=\"data row21 col6\" >21</td>\n",
       "            </tr>\n",
       "            <tr>\n",
       "                        <th id=\"T_d8f9f28a_ae10_11ea_9c1a_48bf6be162d8level0_row22\" class=\"row_heading level0 row22\" >2977</th>\n",
       "                        <td id=\"T_d8f9f28a_ae10_11ea_9c1a_48bf6be162d8row22_col0\" class=\"data row22 col0\" >13/06/20</td>\n",
       "                        <td id=\"T_d8f9f28a_ae10_11ea_9c1a_48bf6be162d8row22_col1\" class=\"data row22 col1\" >8:00 AM</td>\n",
       "                        <td id=\"T_d8f9f28a_ae10_11ea_9c1a_48bf6be162d8row22_col2\" class=\"data row22 col2\" >Mizoram</td>\n",
       "                        <td id=\"T_d8f9f28a_ae10_11ea_9c1a_48bf6be162d8row22_col3\" class=\"data row22 col3\" >1</td>\n",
       "                        <td id=\"T_d8f9f28a_ae10_11ea_9c1a_48bf6be162d8row22_col4\" class=\"data row22 col4\" >0</td>\n",
       "                        <td id=\"T_d8f9f28a_ae10_11ea_9c1a_48bf6be162d8row22_col5\" class=\"data row22 col5\" >104</td>\n",
       "                        <td id=\"T_d8f9f28a_ae10_11ea_9c1a_48bf6be162d8row22_col6\" class=\"data row22 col6\" >103</td>\n",
       "            </tr>\n",
       "            <tr>\n",
       "                        <th id=\"T_d8f9f28a_ae10_11ea_9c1a_48bf6be162d8level0_row23\" class=\"row_heading level0 row23\" >2978</th>\n",
       "                        <td id=\"T_d8f9f28a_ae10_11ea_9c1a_48bf6be162d8row23_col0\" class=\"data row23 col0\" >13/06/20</td>\n",
       "                        <td id=\"T_d8f9f28a_ae10_11ea_9c1a_48bf6be162d8row23_col1\" class=\"data row23 col1\" >8:00 AM</td>\n",
       "                        <td id=\"T_d8f9f28a_ae10_11ea_9c1a_48bf6be162d8row23_col2\" class=\"data row23 col2\" >Nagaland</td>\n",
       "                        <td id=\"T_d8f9f28a_ae10_11ea_9c1a_48bf6be162d8row23_col3\" class=\"data row23 col3\" >49</td>\n",
       "                        <td id=\"T_d8f9f28a_ae10_11ea_9c1a_48bf6be162d8row23_col4\" class=\"data row23 col4\" >0</td>\n",
       "                        <td id=\"T_d8f9f28a_ae10_11ea_9c1a_48bf6be162d8row23_col5\" class=\"data row23 col5\" >156</td>\n",
       "                        <td id=\"T_d8f9f28a_ae10_11ea_9c1a_48bf6be162d8row23_col6\" class=\"data row23 col6\" >107</td>\n",
       "            </tr>\n",
       "            <tr>\n",
       "                        <th id=\"T_d8f9f28a_ae10_11ea_9c1a_48bf6be162d8level0_row24\" class=\"row_heading level0 row24\" >2979</th>\n",
       "                        <td id=\"T_d8f9f28a_ae10_11ea_9c1a_48bf6be162d8row24_col0\" class=\"data row24 col0\" >13/06/20</td>\n",
       "                        <td id=\"T_d8f9f28a_ae10_11ea_9c1a_48bf6be162d8row24_col1\" class=\"data row24 col1\" >8:00 AM</td>\n",
       "                        <td id=\"T_d8f9f28a_ae10_11ea_9c1a_48bf6be162d8row24_col2\" class=\"data row24 col2\" >Odisha</td>\n",
       "                        <td id=\"T_d8f9f28a_ae10_11ea_9c1a_48bf6be162d8row24_col3\" class=\"data row24 col3\" >2474</td>\n",
       "                        <td id=\"T_d8f9f28a_ae10_11ea_9c1a_48bf6be162d8row24_col4\" class=\"data row24 col4\" >10</td>\n",
       "                        <td id=\"T_d8f9f28a_ae10_11ea_9c1a_48bf6be162d8row24_col5\" class=\"data row24 col5\" >3498</td>\n",
       "                        <td id=\"T_d8f9f28a_ae10_11ea_9c1a_48bf6be162d8row24_col6\" class=\"data row24 col6\" >1014</td>\n",
       "            </tr>\n",
       "            <tr>\n",
       "                        <th id=\"T_d8f9f28a_ae10_11ea_9c1a_48bf6be162d8level0_row25\" class=\"row_heading level0 row25\" >2980</th>\n",
       "                        <td id=\"T_d8f9f28a_ae10_11ea_9c1a_48bf6be162d8row25_col0\" class=\"data row25 col0\" >13/06/20</td>\n",
       "                        <td id=\"T_d8f9f28a_ae10_11ea_9c1a_48bf6be162d8row25_col1\" class=\"data row25 col1\" >8:00 AM</td>\n",
       "                        <td id=\"T_d8f9f28a_ae10_11ea_9c1a_48bf6be162d8row25_col2\" class=\"data row25 col2\" >Puducherry</td>\n",
       "                        <td id=\"T_d8f9f28a_ae10_11ea_9c1a_48bf6be162d8row25_col3\" class=\"data row25 col3\" >67</td>\n",
       "                        <td id=\"T_d8f9f28a_ae10_11ea_9c1a_48bf6be162d8row25_col4\" class=\"data row25 col4\" >2</td>\n",
       "                        <td id=\"T_d8f9f28a_ae10_11ea_9c1a_48bf6be162d8row25_col5\" class=\"data row25 col5\" >157</td>\n",
       "                        <td id=\"T_d8f9f28a_ae10_11ea_9c1a_48bf6be162d8row25_col6\" class=\"data row25 col6\" >88</td>\n",
       "            </tr>\n",
       "            <tr>\n",
       "                        <th id=\"T_d8f9f28a_ae10_11ea_9c1a_48bf6be162d8level0_row26\" class=\"row_heading level0 row26\" >2981</th>\n",
       "                        <td id=\"T_d8f9f28a_ae10_11ea_9c1a_48bf6be162d8row26_col0\" class=\"data row26 col0\" >13/06/20</td>\n",
       "                        <td id=\"T_d8f9f28a_ae10_11ea_9c1a_48bf6be162d8row26_col1\" class=\"data row26 col1\" >8:00 AM</td>\n",
       "                        <td id=\"T_d8f9f28a_ae10_11ea_9c1a_48bf6be162d8row26_col2\" class=\"data row26 col2\" >Punjab</td>\n",
       "                        <td id=\"T_d8f9f28a_ae10_11ea_9c1a_48bf6be162d8row26_col3\" class=\"data row26 col3\" >2282</td>\n",
       "                        <td id=\"T_d8f9f28a_ae10_11ea_9c1a_48bf6be162d8row26_col4\" class=\"data row26 col4\" >63</td>\n",
       "                        <td id=\"T_d8f9f28a_ae10_11ea_9c1a_48bf6be162d8row26_col5\" class=\"data row26 col5\" >2986</td>\n",
       "                        <td id=\"T_d8f9f28a_ae10_11ea_9c1a_48bf6be162d8row26_col6\" class=\"data row26 col6\" >641</td>\n",
       "            </tr>\n",
       "            <tr>\n",
       "                        <th id=\"T_d8f9f28a_ae10_11ea_9c1a_48bf6be162d8level0_row27\" class=\"row_heading level0 row27\" >2982</th>\n",
       "                        <td id=\"T_d8f9f28a_ae10_11ea_9c1a_48bf6be162d8row27_col0\" class=\"data row27 col0\" >13/06/20</td>\n",
       "                        <td id=\"T_d8f9f28a_ae10_11ea_9c1a_48bf6be162d8row27_col1\" class=\"data row27 col1\" >8:00 AM</td>\n",
       "                        <td id=\"T_d8f9f28a_ae10_11ea_9c1a_48bf6be162d8row27_col2\" class=\"data row27 col2\" >Rajasthan</td>\n",
       "                        <td id=\"T_d8f9f28a_ae10_11ea_9c1a_48bf6be162d8row27_col3\" class=\"data row27 col3\" >8898</td>\n",
       "                        <td id=\"T_d8f9f28a_ae10_11ea_9c1a_48bf6be162d8row27_col4\" class=\"data row27 col4\" >272</td>\n",
       "                        <td id=\"T_d8f9f28a_ae10_11ea_9c1a_48bf6be162d8row27_col5\" class=\"data row27 col5\" >12068</td>\n",
       "                        <td id=\"T_d8f9f28a_ae10_11ea_9c1a_48bf6be162d8row27_col6\" class=\"data row27 col6\" >2898</td>\n",
       "            </tr>\n",
       "            <tr>\n",
       "                        <th id=\"T_d8f9f28a_ae10_11ea_9c1a_48bf6be162d8level0_row28\" class=\"row_heading level0 row28\" >2983</th>\n",
       "                        <td id=\"T_d8f9f28a_ae10_11ea_9c1a_48bf6be162d8row28_col0\" class=\"data row28 col0\" >13/06/20</td>\n",
       "                        <td id=\"T_d8f9f28a_ae10_11ea_9c1a_48bf6be162d8row28_col1\" class=\"data row28 col1\" >8:00 AM</td>\n",
       "                        <td id=\"T_d8f9f28a_ae10_11ea_9c1a_48bf6be162d8row28_col2\" class=\"data row28 col2\" >Sikkim</td>\n",
       "                        <td id=\"T_d8f9f28a_ae10_11ea_9c1a_48bf6be162d8row28_col3\" class=\"data row28 col3\" >2</td>\n",
       "                        <td id=\"T_d8f9f28a_ae10_11ea_9c1a_48bf6be162d8row28_col4\" class=\"data row28 col4\" >0</td>\n",
       "                        <td id=\"T_d8f9f28a_ae10_11ea_9c1a_48bf6be162d8row28_col5\" class=\"data row28 col5\" >63</td>\n",
       "                        <td id=\"T_d8f9f28a_ae10_11ea_9c1a_48bf6be162d8row28_col6\" class=\"data row28 col6\" >61</td>\n",
       "            </tr>\n",
       "            <tr>\n",
       "                        <th id=\"T_d8f9f28a_ae10_11ea_9c1a_48bf6be162d8level0_row29\" class=\"row_heading level0 row29\" >2984</th>\n",
       "                        <td id=\"T_d8f9f28a_ae10_11ea_9c1a_48bf6be162d8row29_col0\" class=\"data row29 col0\" >13/06/20</td>\n",
       "                        <td id=\"T_d8f9f28a_ae10_11ea_9c1a_48bf6be162d8row29_col1\" class=\"data row29 col1\" >8:00 AM</td>\n",
       "                        <td id=\"T_d8f9f28a_ae10_11ea_9c1a_48bf6be162d8row29_col2\" class=\"data row29 col2\" >Tamil Nadu</td>\n",
       "                        <td id=\"T_d8f9f28a_ae10_11ea_9c1a_48bf6be162d8row29_col3\" class=\"data row29 col3\" >22047</td>\n",
       "                        <td id=\"T_d8f9f28a_ae10_11ea_9c1a_48bf6be162d8row29_col4\" class=\"data row29 col4\" >367</td>\n",
       "                        <td id=\"T_d8f9f28a_ae10_11ea_9c1a_48bf6be162d8row29_col5\" class=\"data row29 col5\" >40698</td>\n",
       "                        <td id=\"T_d8f9f28a_ae10_11ea_9c1a_48bf6be162d8row29_col6\" class=\"data row29 col6\" >18284</td>\n",
       "            </tr>\n",
       "            <tr>\n",
       "                        <th id=\"T_d8f9f28a_ae10_11ea_9c1a_48bf6be162d8level0_row30\" class=\"row_heading level0 row30\" >2985</th>\n",
       "                        <td id=\"T_d8f9f28a_ae10_11ea_9c1a_48bf6be162d8row30_col0\" class=\"data row30 col0\" >13/06/20</td>\n",
       "                        <td id=\"T_d8f9f28a_ae10_11ea_9c1a_48bf6be162d8row30_col1\" class=\"data row30 col1\" >8:00 AM</td>\n",
       "                        <td id=\"T_d8f9f28a_ae10_11ea_9c1a_48bf6be162d8row30_col2\" class=\"data row30 col2\" >Telangana</td>\n",
       "                        <td id=\"T_d8f9f28a_ae10_11ea_9c1a_48bf6be162d8row30_col3\" class=\"data row30 col3\" >2278</td>\n",
       "                        <td id=\"T_d8f9f28a_ae10_11ea_9c1a_48bf6be162d8row30_col4\" class=\"data row30 col4\" >174</td>\n",
       "                        <td id=\"T_d8f9f28a_ae10_11ea_9c1a_48bf6be162d8row30_col5\" class=\"data row30 col5\" >4484</td>\n",
       "                        <td id=\"T_d8f9f28a_ae10_11ea_9c1a_48bf6be162d8row30_col6\" class=\"data row30 col6\" >2032</td>\n",
       "            </tr>\n",
       "            <tr>\n",
       "                        <th id=\"T_d8f9f28a_ae10_11ea_9c1a_48bf6be162d8level0_row31\" class=\"row_heading level0 row31\" >2986</th>\n",
       "                        <td id=\"T_d8f9f28a_ae10_11ea_9c1a_48bf6be162d8row31_col0\" class=\"data row31 col0\" >13/06/20</td>\n",
       "                        <td id=\"T_d8f9f28a_ae10_11ea_9c1a_48bf6be162d8row31_col1\" class=\"data row31 col1\" >8:00 AM</td>\n",
       "                        <td id=\"T_d8f9f28a_ae10_11ea_9c1a_48bf6be162d8row31_col2\" class=\"data row31 col2\" >Tripura</td>\n",
       "                        <td id=\"T_d8f9f28a_ae10_11ea_9c1a_48bf6be162d8row31_col3\" class=\"data row31 col3\" >278</td>\n",
       "                        <td id=\"T_d8f9f28a_ae10_11ea_9c1a_48bf6be162d8row31_col4\" class=\"data row31 col4\" >1</td>\n",
       "                        <td id=\"T_d8f9f28a_ae10_11ea_9c1a_48bf6be162d8row31_col5\" class=\"data row31 col5\" >961</td>\n",
       "                        <td id=\"T_d8f9f28a_ae10_11ea_9c1a_48bf6be162d8row31_col6\" class=\"data row31 col6\" >682</td>\n",
       "            </tr>\n",
       "            <tr>\n",
       "                        <th id=\"T_d8f9f28a_ae10_11ea_9c1a_48bf6be162d8level0_row32\" class=\"row_heading level0 row32\" >2987</th>\n",
       "                        <td id=\"T_d8f9f28a_ae10_11ea_9c1a_48bf6be162d8row32_col0\" class=\"data row32 col0\" >13/06/20</td>\n",
       "                        <td id=\"T_d8f9f28a_ae10_11ea_9c1a_48bf6be162d8row32_col1\" class=\"data row32 col1\" >8:00 AM</td>\n",
       "                        <td id=\"T_d8f9f28a_ae10_11ea_9c1a_48bf6be162d8row32_col2\" class=\"data row32 col2\" >Uttarakhand</td>\n",
       "                        <td id=\"T_d8f9f28a_ae10_11ea_9c1a_48bf6be162d8row32_col3\" class=\"data row32 col3\" >947</td>\n",
       "                        <td id=\"T_d8f9f28a_ae10_11ea_9c1a_48bf6be162d8row32_col4\" class=\"data row32 col4\" >21</td>\n",
       "                        <td id=\"T_d8f9f28a_ae10_11ea_9c1a_48bf6be162d8row32_col5\" class=\"data row32 col5\" >1724</td>\n",
       "                        <td id=\"T_d8f9f28a_ae10_11ea_9c1a_48bf6be162d8row32_col6\" class=\"data row32 col6\" >756</td>\n",
       "            </tr>\n",
       "            <tr>\n",
       "                        <th id=\"T_d8f9f28a_ae10_11ea_9c1a_48bf6be162d8level0_row33\" class=\"row_heading level0 row33\" >2988</th>\n",
       "                        <td id=\"T_d8f9f28a_ae10_11ea_9c1a_48bf6be162d8row33_col0\" class=\"data row33 col0\" >13/06/20</td>\n",
       "                        <td id=\"T_d8f9f28a_ae10_11ea_9c1a_48bf6be162d8row33_col1\" class=\"data row33 col1\" >8:00 AM</td>\n",
       "                        <td id=\"T_d8f9f28a_ae10_11ea_9c1a_48bf6be162d8row33_col2\" class=\"data row33 col2\" >Uttar Pradesh</td>\n",
       "                        <td id=\"T_d8f9f28a_ae10_11ea_9c1a_48bf6be162d8row33_col3\" class=\"data row33 col3\" >7609</td>\n",
       "                        <td id=\"T_d8f9f28a_ae10_11ea_9c1a_48bf6be162d8row33_col4\" class=\"data row33 col4\" >365</td>\n",
       "                        <td id=\"T_d8f9f28a_ae10_11ea_9c1a_48bf6be162d8row33_col5\" class=\"data row33 col5\" >12616</td>\n",
       "                        <td id=\"T_d8f9f28a_ae10_11ea_9c1a_48bf6be162d8row33_col6\" class=\"data row33 col6\" >4642</td>\n",
       "            </tr>\n",
       "            <tr>\n",
       "                        <th id=\"T_d8f9f28a_ae10_11ea_9c1a_48bf6be162d8level0_row34\" class=\"row_heading level0 row34\" >2989</th>\n",
       "                        <td id=\"T_d8f9f28a_ae10_11ea_9c1a_48bf6be162d8row34_col0\" class=\"data row34 col0\" >13/06/20</td>\n",
       "                        <td id=\"T_d8f9f28a_ae10_11ea_9c1a_48bf6be162d8row34_col1\" class=\"data row34 col1\" >8:00 AM</td>\n",
       "                        <td id=\"T_d8f9f28a_ae10_11ea_9c1a_48bf6be162d8row34_col2\" class=\"data row34 col2\" >West Bengal</td>\n",
       "                        <td id=\"T_d8f9f28a_ae10_11ea_9c1a_48bf6be162d8row34_col3\" class=\"data row34 col3\" >4206</td>\n",
       "                        <td id=\"T_d8f9f28a_ae10_11ea_9c1a_48bf6be162d8row34_col4\" class=\"data row34 col4\" >451</td>\n",
       "                        <td id=\"T_d8f9f28a_ae10_11ea_9c1a_48bf6be162d8row34_col5\" class=\"data row34 col5\" >10244</td>\n",
       "                        <td id=\"T_d8f9f28a_ae10_11ea_9c1a_48bf6be162d8row34_col6\" class=\"data row34 col6\" >5587</td>\n",
       "            </tr>\n",
       "            <tr>\n",
       "                        <th id=\"T_d8f9f28a_ae10_11ea_9c1a_48bf6be162d8level0_row35\" class=\"row_heading level0 row35\" >2990</th>\n",
       "                        <td id=\"T_d8f9f28a_ae10_11ea_9c1a_48bf6be162d8row35_col0\" class=\"data row35 col0\" >13/06/20</td>\n",
       "                        <td id=\"T_d8f9f28a_ae10_11ea_9c1a_48bf6be162d8row35_col1\" class=\"data row35 col1\" >8:00 AM</td>\n",
       "                        <td id=\"T_d8f9f28a_ae10_11ea_9c1a_48bf6be162d8row35_col2\" class=\"data row35 col2\" >Cases being reassigned to states</td>\n",
       "                        <td id=\"T_d8f9f28a_ae10_11ea_9c1a_48bf6be162d8row35_col3\" class=\"data row35 col3\" >0</td>\n",
       "                        <td id=\"T_d8f9f28a_ae10_11ea_9c1a_48bf6be162d8row35_col4\" class=\"data row35 col4\" >0</td>\n",
       "                        <td id=\"T_d8f9f28a_ae10_11ea_9c1a_48bf6be162d8row35_col5\" class=\"data row35 col5\" >7984</td>\n",
       "                        <td id=\"T_d8f9f28a_ae10_11ea_9c1a_48bf6be162d8row35_col6\" class=\"data row35 col6\" >7984</td>\n",
       "            </tr>\n",
       "    </tbody></table>"
      ],
      "text/plain": [
       "<pandas.io.formats.style.Styler at 0x120402550>"
      ]
     },
     "execution_count": 48,
     "metadata": {},
     "output_type": "execute_result"
    }
   ],
   "source": [
    "df_today.style.background_gradient(cmap='Reds')"
   ]
  },
  {
   "cell_type": "code",
   "execution_count": 49,
   "metadata": {},
   "outputs": [
    {
     "data": {
      "text/plain": [
       "<matplotlib.axes._subplots.AxesSubplot at 0x120138748>"
      ]
     },
     "execution_count": 49,
     "metadata": {},
     "output_type": "execute_result"
    },
    {
     "data": {
      "image/png": "[encoded data removed]",
      "text/plain": [
       "<Figure size 432x288 with 1 Axes>"
      ]
     },
     "metadata": {
      "needs_background": "light"
     },
     "output_type": "display_data"
    }
   ],
   "source": [
    "df_today.plot(kind='scatter', x='State/UnionTerritory', y='Total_Active_Cases')"
   ]
  },
  {
   "cell_type": "code",
   "execution_count": 34,
   "metadata": {},
   "outputs": [
    {
     "data": {
      "text/plain": [
       "<matplotlib.axes._subplots.AxesSubplot at 0x11ab8b048>"
      ]
     },
     "execution_count": 34,
     "metadata": {},
     "output_type": "execute_result"
    },
    {
     "data": {
      "image/png": "[encoded data removed]",
      "text/plain": [
       "<Figure size 432x288 with 1 Axes>"
      ]
     },
     "metadata": {
      "needs_background": "light"
     },
     "output_type": "display_data"
    }
   ],
   "source": [
    "df_today['Total_Active_Cases'].plot(kind='barh')"
   ]
  },
  {
   "cell_type": "code",
   "execution_count": 53,
   "metadata": {},
   "outputs": [],
   "source": [
    "state_medical_beds = pd.read_csv('/Users/mdsajidhussain/Documents/Online Sessions/Python & Tableau/Dataset/COVID-19 India/HospitalBedsIndia.csv')"
   ]
  },
  {
   "cell_type": "code",
   "execution_count": 61,
   "metadata": {},
   "outputs": [
    {
     "data": {
      "text/html": [
       "<div>\n",
       "<style scoped>\n",
       "    .dataframe tbody tr th:only-of-type {\n",
       "        vertical-align: middle;\n",
       "    }\n",
       "\n",
       "    .dataframe tbody tr th {\n",
       "        vertical-align: top;\n",
       "    }\n",
       "\n",
       "    .dataframe thead th {\n",
       "        text-align: right;\n",
       "    }\n",
       "</style>\n",
       "<table border=\"1\" class=\"dataframe\">\n",
       "  <thead>\n",
       "    <tr style=\"text-align: right;\">\n",
       "      <th></th>\n",
       "      <th>State/UT</th>\n",
       "      <th>NumPrimaryHealthCenters_HMIS</th>\n",
       "      <th>NumCommunityHealthCenters_HMIS</th>\n",
       "      <th>NumSubDistrictHospitals_HMIS</th>\n",
       "      <th>NumDistrictHospitals_HMIS</th>\n",
       "      <th>TotalPublicHealthFacilities_HMIS</th>\n",
       "      <th>NumPublicBeds_HMIS</th>\n",
       "      <th>NumRuralHospitals_NHP18</th>\n",
       "      <th>NumRuralBeds_NHP18</th>\n",
       "      <th>NumUrbanHospitals_NHP18</th>\n",
       "      <th>NumUrbanBeds_NHP18</th>\n",
       "      <th>Total</th>\n",
       "    </tr>\n",
       "  </thead>\n",
       "  <tbody>\n",
       "    <tr>\n",
       "      <th>0</th>\n",
       "      <td>Andaman &amp; Nicobar Islands</td>\n",
       "      <td>27</td>\n",
       "      <td>4</td>\n",
       "      <td>NaN</td>\n",
       "      <td>3</td>\n",
       "      <td>34</td>\n",
       "      <td>1246</td>\n",
       "      <td>27</td>\n",
       "      <td>575</td>\n",
       "      <td>3</td>\n",
       "      <td>500</td>\n",
       "      <td>2392.0</td>\n",
       "    </tr>\n",
       "    <tr>\n",
       "      <th>1</th>\n",
       "      <td>Andhra Pradesh</td>\n",
       "      <td>1417</td>\n",
       "      <td>198</td>\n",
       "      <td>31.0</td>\n",
       "      <td>20</td>\n",
       "      <td>1666</td>\n",
       "      <td>60799</td>\n",
       "      <td>193</td>\n",
       "      <td>6480</td>\n",
       "      <td>65</td>\n",
       "      <td>16658</td>\n",
       "      <td>86110.0</td>\n",
       "    </tr>\n",
       "    <tr>\n",
       "      <th>2</th>\n",
       "      <td>Arunachal Pradesh</td>\n",
       "      <td>122</td>\n",
       "      <td>62</td>\n",
       "      <td>NaN</td>\n",
       "      <td>15</td>\n",
       "      <td>199</td>\n",
       "      <td>2320</td>\n",
       "      <td>208</td>\n",
       "      <td>2136</td>\n",
       "      <td>10</td>\n",
       "      <td>268</td>\n",
       "      <td>5218.0</td>\n",
       "    </tr>\n",
       "    <tr>\n",
       "      <th>3</th>\n",
       "      <td>Assam</td>\n",
       "      <td>1007</td>\n",
       "      <td>166</td>\n",
       "      <td>14.0</td>\n",
       "      <td>33</td>\n",
       "      <td>1220</td>\n",
       "      <td>19115</td>\n",
       "      <td>1176</td>\n",
       "      <td>10944</td>\n",
       "      <td>50</td>\n",
       "      <td>6198</td>\n",
       "      <td>38916.0</td>\n",
       "    </tr>\n",
       "    <tr>\n",
       "      <th>4</th>\n",
       "      <td>Bihar</td>\n",
       "      <td>2007</td>\n",
       "      <td>63</td>\n",
       "      <td>33.0</td>\n",
       "      <td>43</td>\n",
       "      <td>2146</td>\n",
       "      <td>17796</td>\n",
       "      <td>930</td>\n",
       "      <td>6083</td>\n",
       "      <td>103</td>\n",
       "      <td>5936</td>\n",
       "      <td>33133.0</td>\n",
       "    </tr>\n",
       "  </tbody>\n",
       "</table>\n",
       "</div>"
      ],
      "text/plain": [
       "                    State/UT NumPrimaryHealthCenters_HMIS  \\\n",
       "0  Andaman & Nicobar Islands                           27   \n",
       "1             Andhra Pradesh                         1417   \n",
       "2          Arunachal Pradesh                          122   \n",
       "3                      Assam                         1007   \n",
       "4                      Bihar                         2007   \n",
       "\n",
       "   NumCommunityHealthCenters_HMIS  NumSubDistrictHospitals_HMIS  \\\n",
       "0                               4                           NaN   \n",
       "1                             198                          31.0   \n",
       "2                              62                           NaN   \n",
       "3                             166                          14.0   \n",
       "4                              63                          33.0   \n",
       "\n",
       "   NumDistrictHospitals_HMIS  TotalPublicHealthFacilities_HMIS  \\\n",
       "0                          3                                34   \n",
       "1                         20                              1666   \n",
       "2                         15                               199   \n",
       "3                         33                              1220   \n",
       "4                         43                              2146   \n",
       "\n",
       "   NumPublicBeds_HMIS  NumRuralHospitals_NHP18  NumRuralBeds_NHP18  \\\n",
       "0                1246                       27                 575   \n",
       "1               60799                      193                6480   \n",
       "2                2320                      208                2136   \n",
       "3               19115                     1176               10944   \n",
       "4               17796                      930                6083   \n",
       "\n",
       "   NumUrbanHospitals_NHP18  NumUrbanBeds_NHP18    Total  \n",
       "0                        3                 500   2392.0  \n",
       "1                       65               16658  86110.0  \n",
       "2                       10                 268   5218.0  \n",
       "3                       50                6198  38916.0  \n",
       "4                      103                5936  33133.0  "
      ]
     },
     "execution_count": 61,
     "metadata": {},
     "output_type": "execute_result"
    }
   ],
   "source": [
    "state_medical_beds.head()"
   ]
  },
  {
   "cell_type": "code",
   "execution_count": 55,
   "metadata": {},
   "outputs": [],
   "source": [
    "state_medical_beds.drop(['Sno'], axis=1, inplace=True)"
   ]
  },
  {
   "cell_type": "code",
   "execution_count": 60,
   "metadata": {},
   "outputs": [],
   "source": [
    "state_medical_beds['Total'] = state_medical_beds.sum(axis=1, skipna=True)"
   ]
  },
  {
   "cell_type": "code",
   "execution_count": 62,
   "metadata": {},
   "outputs": [],
   "source": [
    "state_total_beds = state_medical_beds[['State/UT', 'Total']]"
   ]
  },
  {
   "cell_type": "code",
   "execution_count": 63,
   "metadata": {},
   "outputs": [
    {
     "data": {
      "text/html": [
       "<div>\n",
       "<style scoped>\n",
       "    .dataframe tbody tr th:only-of-type {\n",
       "        vertical-align: middle;\n",
       "    }\n",
       "\n",
       "    .dataframe tbody tr th {\n",
       "        vertical-align: top;\n",
       "    }\n",
       "\n",
       "    .dataframe thead th {\n",
       "        text-align: right;\n",
       "    }\n",
       "</style>\n",
       "<table border=\"1\" class=\"dataframe\">\n",
       "  <thead>\n",
       "    <tr style=\"text-align: right;\">\n",
       "      <th></th>\n",
       "      <th>State/UT</th>\n",
       "      <th>Total</th>\n",
       "    </tr>\n",
       "  </thead>\n",
       "  <tbody>\n",
       "    <tr>\n",
       "      <th>0</th>\n",
       "      <td>Andaman &amp; Nicobar Islands</td>\n",
       "      <td>2392.0</td>\n",
       "    </tr>\n",
       "    <tr>\n",
       "      <th>1</th>\n",
       "      <td>Andhra Pradesh</td>\n",
       "      <td>86110.0</td>\n",
       "    </tr>\n",
       "    <tr>\n",
       "      <th>2</th>\n",
       "      <td>Arunachal Pradesh</td>\n",
       "      <td>5218.0</td>\n",
       "    </tr>\n",
       "    <tr>\n",
       "      <th>3</th>\n",
       "      <td>Assam</td>\n",
       "      <td>38916.0</td>\n",
       "    </tr>\n",
       "    <tr>\n",
       "      <th>4</th>\n",
       "      <td>Bihar</td>\n",
       "      <td>33133.0</td>\n",
       "    </tr>\n",
       "    <tr>\n",
       "      <th>5</th>\n",
       "      <td>Chandigarh</td>\n",
       "      <td>4592.0</td>\n",
       "    </tr>\n",
       "    <tr>\n",
       "      <th>6</th>\n",
       "      <td>Chhattisgarh</td>\n",
       "      <td>25213.0</td>\n",
       "    </tr>\n",
       "    <tr>\n",
       "      <th>7</th>\n",
       "      <td>Dadra &amp; Nagar Haveli</td>\n",
       "      <td>1185.0</td>\n",
       "    </tr>\n",
       "    <tr>\n",
       "      <th>8</th>\n",
       "      <td>Daman &amp; Diu</td>\n",
       "      <td>555.0</td>\n",
       "    </tr>\n",
       "    <tr>\n",
       "      <th>9</th>\n",
       "      <td>Delhi</td>\n",
       "      <td>45760.0</td>\n",
       "    </tr>\n",
       "    <tr>\n",
       "      <th>10</th>\n",
       "      <td>Goa</td>\n",
       "      <td>5770.0</td>\n",
       "    </tr>\n",
       "    <tr>\n",
       "      <th>11</th>\n",
       "      <td>Gujarat</td>\n",
       "      <td>76597.0</td>\n",
       "    </tr>\n",
       "    <tr>\n",
       "      <th>12</th>\n",
       "      <td>Haryana</td>\n",
       "      <td>26615.0</td>\n",
       "    </tr>\n",
       "    <tr>\n",
       "      <th>13</th>\n",
       "      <td>Himachal Pradesh</td>\n",
       "      <td>22732.0</td>\n",
       "    </tr>\n",
       "    <tr>\n",
       "      <th>14</th>\n",
       "      <td>Jammu &amp; Kashmir</td>\n",
       "      <td>24059.0</td>\n",
       "    </tr>\n",
       "    <tr>\n",
       "      <th>15</th>\n",
       "      <td>Jharkhand</td>\n",
       "      <td>19516.0</td>\n",
       "    </tr>\n",
       "    <tr>\n",
       "      <th>16</th>\n",
       "      <td>Karnataka</td>\n",
       "      <td>132682.0</td>\n",
       "    </tr>\n",
       "    <tr>\n",
       "      <th>17</th>\n",
       "      <td>Kerala</td>\n",
       "      <td>80456.0</td>\n",
       "    </tr>\n",
       "    <tr>\n",
       "      <th>18</th>\n",
       "      <td>Lakshadweep</td>\n",
       "      <td>575.0</td>\n",
       "    </tr>\n",
       "    <tr>\n",
       "      <th>19</th>\n",
       "      <td>Madhya Pradesh</td>\n",
       "      <td>69744.0</td>\n",
       "    </tr>\n",
       "    <tr>\n",
       "      <th>20</th>\n",
       "      <td>Maharashtra</td>\n",
       "      <td>124995.0</td>\n",
       "    </tr>\n",
       "    <tr>\n",
       "      <th>21</th>\n",
       "      <td>Manipur</td>\n",
       "      <td>4160.0</td>\n",
       "    </tr>\n",
       "    <tr>\n",
       "      <th>22</th>\n",
       "      <td>Meghalaya</td>\n",
       "      <td>9421.0</td>\n",
       "    </tr>\n",
       "    <tr>\n",
       "      <th>23</th>\n",
       "      <td>Mizoram</td>\n",
       "      <td>4508.0</td>\n",
       "    </tr>\n",
       "    <tr>\n",
       "      <th>24</th>\n",
       "      <td>Nagaland</td>\n",
       "      <td>4058.0</td>\n",
       "    </tr>\n",
       "    <tr>\n",
       "      <th>25</th>\n",
       "      <td>Odisha</td>\n",
       "      <td>39058.0</td>\n",
       "    </tr>\n",
       "    <tr>\n",
       "      <th>26</th>\n",
       "      <td>Puducherry</td>\n",
       "      <td>8111.0</td>\n",
       "    </tr>\n",
       "    <tr>\n",
       "      <th>27</th>\n",
       "      <td>Punjab</td>\n",
       "      <td>33105.0</td>\n",
       "    </tr>\n",
       "    <tr>\n",
       "      <th>28</th>\n",
       "      <td>Rajasthan</td>\n",
       "      <td>88259.0</td>\n",
       "    </tr>\n",
       "    <tr>\n",
       "      <th>29</th>\n",
       "      <td>Sikkim</td>\n",
       "      <td>2777.0</td>\n",
       "    </tr>\n",
       "    <tr>\n",
       "      <th>30</th>\n",
       "      <td>Tamil Nadu</td>\n",
       "      <td>154673.0</td>\n",
       "    </tr>\n",
       "    <tr>\n",
       "      <th>31</th>\n",
       "      <td>Telangana</td>\n",
       "      <td>40280.0</td>\n",
       "    </tr>\n",
       "    <tr>\n",
       "      <th>32</th>\n",
       "      <td>Tripura</td>\n",
       "      <td>9667.0</td>\n",
       "    </tr>\n",
       "    <tr>\n",
       "      <th>33</th>\n",
       "      <td>Uttar Pradesh</td>\n",
       "      <td>144172.0</td>\n",
       "    </tr>\n",
       "    <tr>\n",
       "      <th>34</th>\n",
       "      <td>Uttarakhand</td>\n",
       "      <td>16123.0</td>\n",
       "    </tr>\n",
       "    <tr>\n",
       "      <th>35</th>\n",
       "      <td>West Bengal</td>\n",
       "      <td>133731.0</td>\n",
       "    </tr>\n",
       "    <tr>\n",
       "      <th>36</th>\n",
       "      <td>All India</td>\n",
       "      <td>1518918.0</td>\n",
       "    </tr>\n",
       "  </tbody>\n",
       "</table>\n",
       "</div>"
      ],
      "text/plain": [
       "                     State/UT      Total\n",
       "0   Andaman & Nicobar Islands     2392.0\n",
       "1              Andhra Pradesh    86110.0\n",
       "2           Arunachal Pradesh     5218.0\n",
       "3                       Assam    38916.0\n",
       "4                       Bihar    33133.0\n",
       "5                  Chandigarh     4592.0\n",
       "6                Chhattisgarh    25213.0\n",
       "7        Dadra & Nagar Haveli     1185.0\n",
       "8                 Daman & Diu      555.0\n",
       "9                       Delhi    45760.0\n",
       "10                        Goa     5770.0\n",
       "11                    Gujarat    76597.0\n",
       "12                    Haryana    26615.0\n",
       "13           Himachal Pradesh    22732.0\n",
       "14            Jammu & Kashmir    24059.0\n",
       "15                  Jharkhand    19516.0\n",
       "16                  Karnataka   132682.0\n",
       "17                     Kerala    80456.0\n",
       "18                Lakshadweep      575.0\n",
       "19             Madhya Pradesh    69744.0\n",
       "20                Maharashtra   124995.0\n",
       "21                    Manipur     4160.0\n",
       "22                  Meghalaya     9421.0\n",
       "23                    Mizoram     4508.0\n",
       "24                   Nagaland     4058.0\n",
       "25                     Odisha    39058.0\n",
       "26                 Puducherry     8111.0\n",
       "27                     Punjab    33105.0\n",
       "28                  Rajasthan    88259.0\n",
       "29                     Sikkim     2777.0\n",
       "30                 Tamil Nadu   154673.0\n",
       "31                  Telangana    40280.0\n",
       "32                    Tripura     9667.0\n",
       "33              Uttar Pradesh   144172.0\n",
       "34                Uttarakhand    16123.0\n",
       "35                West Bengal   133731.0\n",
       "36                  All India  1518918.0"
      ]
     },
     "execution_count": 63,
     "metadata": {},
     "output_type": "execute_result"
    }
   ],
   "source": [
    "state_total_beds"
   ]
  },
  {
   "cell_type": "code",
   "execution_count": null,
   "metadata": {},
   "outputs": [],
   "source": [
    "# changing column names\n",
    "'State/UnionTerritory'\n",
    "\n",
    "'State/UT'\n"
   ]
  },
  {
   "cell_type": "code",
   "execution_count": 65,
   "metadata": {},
   "outputs": [],
   "source": [
    "state_total_beds = state_total_beds.rename(columns={'State/UT': 'State/UnionTerritory'}, errors=\"raise\")"
   ]
  },
  {
   "cell_type": "code",
   "execution_count": 67,
   "metadata": {
    "scrolled": false
   },
   "outputs": [
    {
     "data": {
      "text/html": [
       "<style  type=\"text/css\" >\n",
       "    #T_7a764e40_ae13_11ea_b322_48bf6be162d8row0_col1 {\n",
       "            background-color:  #fff5f0;\n",
       "            color:  #000000;\n",
       "        }    #T_7a764e40_ae13_11ea_b322_48bf6be162d8row1_col1 {\n",
       "            background-color:  #ffece3;\n",
       "            color:  #000000;\n",
       "        }    #T_7a764e40_ae13_11ea_b322_48bf6be162d8row2_col1 {\n",
       "            background-color:  #fff5f0;\n",
       "            color:  #000000;\n",
       "        }    #T_7a764e40_ae13_11ea_b322_48bf6be162d8row3_col1 {\n",
       "            background-color:  #fff1ea;\n",
       "            color:  #000000;\n",
       "        }    #T_7a764e40_ae13_11ea_b322_48bf6be162d8row4_col1 {\n",
       "            background-color:  #fff2eb;\n",
       "            color:  #000000;\n",
       "        }    #T_7a764e40_ae13_11ea_b322_48bf6be162d8row5_col1 {\n",
       "            background-color:  #fff5f0;\n",
       "            color:  #000000;\n",
       "        }    #T_7a764e40_ae13_11ea_b322_48bf6be162d8row6_col1 {\n",
       "            background-color:  #fff2ec;\n",
       "            color:  #000000;\n",
       "        }    #T_7a764e40_ae13_11ea_b322_48bf6be162d8row7_col1 {\n",
       "            background-color:  #fff5f0;\n",
       "            color:  #000000;\n",
       "        }    #T_7a764e40_ae13_11ea_b322_48bf6be162d8row8_col1 {\n",
       "            background-color:  #fff5f0;\n",
       "            color:  #000000;\n",
       "        }    #T_7a764e40_ae13_11ea_b322_48bf6be162d8row9_col1 {\n",
       "            background-color:  #fff0e9;\n",
       "            color:  #000000;\n",
       "        }    #T_7a764e40_ae13_11ea_b322_48bf6be162d8row10_col1 {\n",
       "            background-color:  #fff5f0;\n",
       "            color:  #000000;\n",
       "        }    #T_7a764e40_ae13_11ea_b322_48bf6be162d8row11_col1 {\n",
       "            background-color:  #ffede5;\n",
       "            color:  #000000;\n",
       "        }    #T_7a764e40_ae13_11ea_b322_48bf6be162d8row12_col1 {\n",
       "            background-color:  #fff2ec;\n",
       "            color:  #000000;\n",
       "        }    #T_7a764e40_ae13_11ea_b322_48bf6be162d8row13_col1 {\n",
       "            background-color:  #fff3ed;\n",
       "            color:  #000000;\n",
       "        }    #T_7a764e40_ae13_11ea_b322_48bf6be162d8row14_col1 {\n",
       "            background-color:  #fff3ed;\n",
       "            color:  #000000;\n",
       "        }    #T_7a764e40_ae13_11ea_b322_48bf6be162d8row15_col1 {\n",
       "            background-color:  #fff3ed;\n",
       "            color:  #000000;\n",
       "        }    #T_7a764e40_ae13_11ea_b322_48bf6be162d8row16_col1 {\n",
       "            background-color:  #fee7db;\n",
       "            color:  #000000;\n",
       "        }    #T_7a764e40_ae13_11ea_b322_48bf6be162d8row17_col1 {\n",
       "            background-color:  #ffece4;\n",
       "            color:  #000000;\n",
       "        }    #T_7a764e40_ae13_11ea_b322_48bf6be162d8row18_col1 {\n",
       "            background-color:  #fff5f0;\n",
       "            color:  #000000;\n",
       "        }    #T_7a764e40_ae13_11ea_b322_48bf6be162d8row19_col1 {\n",
       "            background-color:  #ffeee6;\n",
       "            color:  #000000;\n",
       "        }    #T_7a764e40_ae13_11ea_b322_48bf6be162d8row20_col1 {\n",
       "            background-color:  #fee8dd;\n",
       "            color:  #000000;\n",
       "        }    #T_7a764e40_ae13_11ea_b322_48bf6be162d8row21_col1 {\n",
       "            background-color:  #fff5f0;\n",
       "            color:  #000000;\n",
       "        }    #T_7a764e40_ae13_11ea_b322_48bf6be162d8row22_col1 {\n",
       "            background-color:  #fff4ef;\n",
       "            color:  #000000;\n",
       "        }    #T_7a764e40_ae13_11ea_b322_48bf6be162d8row23_col1 {\n",
       "            background-color:  #fff5f0;\n",
       "            color:  #000000;\n",
       "        }    #T_7a764e40_ae13_11ea_b322_48bf6be162d8row24_col1 {\n",
       "            background-color:  #fff5f0;\n",
       "            color:  #000000;\n",
       "        }    #T_7a764e40_ae13_11ea_b322_48bf6be162d8row25_col1 {\n",
       "            background-color:  #fff1ea;\n",
       "            color:  #000000;\n",
       "        }    #T_7a764e40_ae13_11ea_b322_48bf6be162d8row26_col1 {\n",
       "            background-color:  #fff4ef;\n",
       "            color:  #000000;\n",
       "        }    #T_7a764e40_ae13_11ea_b322_48bf6be162d8row27_col1 {\n",
       "            background-color:  #fff2eb;\n",
       "            color:  #000000;\n",
       "        }    #T_7a764e40_ae13_11ea_b322_48bf6be162d8row28_col1 {\n",
       "            background-color:  #ffece3;\n",
       "            color:  #000000;\n",
       "        }    #T_7a764e40_ae13_11ea_b322_48bf6be162d8row29_col1 {\n",
       "            background-color:  #fff5f0;\n",
       "            color:  #000000;\n",
       "        }    #T_7a764e40_ae13_11ea_b322_48bf6be162d8row30_col1 {\n",
       "            background-color:  #fee5d8;\n",
       "            color:  #000000;\n",
       "        }    #T_7a764e40_ae13_11ea_b322_48bf6be162d8row31_col1 {\n",
       "            background-color:  #fff1ea;\n",
       "            color:  #000000;\n",
       "        }    #T_7a764e40_ae13_11ea_b322_48bf6be162d8row32_col1 {\n",
       "            background-color:  #fff4ef;\n",
       "            color:  #000000;\n",
       "        }    #T_7a764e40_ae13_11ea_b322_48bf6be162d8row33_col1 {\n",
       "            background-color:  #fee5d9;\n",
       "            color:  #000000;\n",
       "        }    #T_7a764e40_ae13_11ea_b322_48bf6be162d8row34_col1 {\n",
       "            background-color:  #fff4ee;\n",
       "            color:  #000000;\n",
       "        }    #T_7a764e40_ae13_11ea_b322_48bf6be162d8row35_col1 {\n",
       "            background-color:  #fee7db;\n",
       "            color:  #000000;\n",
       "        }    #T_7a764e40_ae13_11ea_b322_48bf6be162d8row36_col1 {\n",
       "            background-color:  #67000d;\n",
       "            color:  #f1f1f1;\n",
       "        }</style><table id=\"T_7a764e40_ae13_11ea_b322_48bf6be162d8\" ><thead>    <tr>        <th class=\"blank level0\" ></th>        <th class=\"col_heading level0 col0\" >State/UnionTerritory</th>        <th class=\"col_heading level0 col1\" >Total</th>    </tr></thead><tbody>\n",
       "                <tr>\n",
       "                        <th id=\"T_7a764e40_ae13_11ea_b322_48bf6be162d8level0_row0\" class=\"row_heading level0 row0\" >0</th>\n",
       "                        <td id=\"T_7a764e40_ae13_11ea_b322_48bf6be162d8row0_col0\" class=\"data row0 col0\" >Andaman & Nicobar Islands</td>\n",
       "                        <td id=\"T_7a764e40_ae13_11ea_b322_48bf6be162d8row0_col1\" class=\"data row0 col1\" >2392.000000</td>\n",
       "            </tr>\n",
       "            <tr>\n",
       "                        <th id=\"T_7a764e40_ae13_11ea_b322_48bf6be162d8level0_row1\" class=\"row_heading level0 row1\" >1</th>\n",
       "                        <td id=\"T_7a764e40_ae13_11ea_b322_48bf6be162d8row1_col0\" class=\"data row1 col0\" >Andhra Pradesh</td>\n",
       "                        <td id=\"T_7a764e40_ae13_11ea_b322_48bf6be162d8row1_col1\" class=\"data row1 col1\" >86110.000000</td>\n",
       "            </tr>\n",
       "            <tr>\n",
       "                        <th id=\"T_7a764e40_ae13_11ea_b322_48bf6be162d8level0_row2\" class=\"row_heading level0 row2\" >2</th>\n",
       "                        <td id=\"T_7a764e40_ae13_11ea_b322_48bf6be162d8row2_col0\" class=\"data row2 col0\" >Arunachal Pradesh</td>\n",
       "                        <td id=\"T_7a764e40_ae13_11ea_b322_48bf6be162d8row2_col1\" class=\"data row2 col1\" >5218.000000</td>\n",
       "            </tr>\n",
       "            <tr>\n",
       "                        <th id=\"T_7a764e40_ae13_11ea_b322_48bf6be162d8level0_row3\" class=\"row_heading level0 row3\" >3</th>\n",
       "                        <td id=\"T_7a764e40_ae13_11ea_b322_48bf6be162d8row3_col0\" class=\"data row3 col0\" >Assam</td>\n",
       "                        <td id=\"T_7a764e40_ae13_11ea_b322_48bf6be162d8row3_col1\" class=\"data row3 col1\" >38916.000000</td>\n",
       "            </tr>\n",
       "            <tr>\n",
       "                        <th id=\"T_7a764e40_ae13_11ea_b322_48bf6be162d8level0_row4\" class=\"row_heading level0 row4\" >4</th>\n",
       "                        <td id=\"T_7a764e40_ae13_11ea_b322_48bf6be162d8row4_col0\" class=\"data row4 col0\" >Bihar</td>\n",
       "                        <td id=\"T_7a764e40_ae13_11ea_b322_48bf6be162d8row4_col1\" class=\"data row4 col1\" >33133.000000</td>\n",
       "            </tr>\n",
       "            <tr>\n",
       "                        <th id=\"T_7a764e40_ae13_11ea_b322_48bf6be162d8level0_row5\" class=\"row_heading level0 row5\" >5</th>\n",
       "                        <td id=\"T_7a764e40_ae13_11ea_b322_48bf6be162d8row5_col0\" class=\"data row5 col0\" >Chandigarh</td>\n",
       "                        <td id=\"T_7a764e40_ae13_11ea_b322_48bf6be162d8row5_col1\" class=\"data row5 col1\" >4592.000000</td>\n",
       "            </tr>\n",
       "            <tr>\n",
       "                        <th id=\"T_7a764e40_ae13_11ea_b322_48bf6be162d8level0_row6\" class=\"row_heading level0 row6\" >6</th>\n",
       "                        <td id=\"T_7a764e40_ae13_11ea_b322_48bf6be162d8row6_col0\" class=\"data row6 col0\" >Chhattisgarh</td>\n",
       "                        <td id=\"T_7a764e40_ae13_11ea_b322_48bf6be162d8row6_col1\" class=\"data row6 col1\" >25213.000000</td>\n",
       "            </tr>\n",
       "            <tr>\n",
       "                        <th id=\"T_7a764e40_ae13_11ea_b322_48bf6be162d8level0_row7\" class=\"row_heading level0 row7\" >7</th>\n",
       "                        <td id=\"T_7a764e40_ae13_11ea_b322_48bf6be162d8row7_col0\" class=\"data row7 col0\" >Dadra & Nagar Haveli</td>\n",
       "                        <td id=\"T_7a764e40_ae13_11ea_b322_48bf6be162d8row7_col1\" class=\"data row7 col1\" >1185.000000</td>\n",
       "            </tr>\n",
       "            <tr>\n",
       "                        <th id=\"T_7a764e40_ae13_11ea_b322_48bf6be162d8level0_row8\" class=\"row_heading level0 row8\" >8</th>\n",
       "                        <td id=\"T_7a764e40_ae13_11ea_b322_48bf6be162d8row8_col0\" class=\"data row8 col0\" >Daman & Diu</td>\n",
       "                        <td id=\"T_7a764e40_ae13_11ea_b322_48bf6be162d8row8_col1\" class=\"data row8 col1\" >555.000000</td>\n",
       "            </tr>\n",
       "            <tr>\n",
       "                        <th id=\"T_7a764e40_ae13_11ea_b322_48bf6be162d8level0_row9\" class=\"row_heading level0 row9\" >9</th>\n",
       "                        <td id=\"T_7a764e40_ae13_11ea_b322_48bf6be162d8row9_col0\" class=\"data row9 col0\" >Delhi</td>\n",
       "                        <td id=\"T_7a764e40_ae13_11ea_b322_48bf6be162d8row9_col1\" class=\"data row9 col1\" >45760.000000</td>\n",
       "            </tr>\n",
       "            <tr>\n",
       "                        <th id=\"T_7a764e40_ae13_11ea_b322_48bf6be162d8level0_row10\" class=\"row_heading level0 row10\" >10</th>\n",
       "                        <td id=\"T_7a764e40_ae13_11ea_b322_48bf6be162d8row10_col0\" class=\"data row10 col0\" >Goa</td>\n",
       "                        <td id=\"T_7a764e40_ae13_11ea_b322_48bf6be162d8row10_col1\" class=\"data row10 col1\" >5770.000000</td>\n",
       "            </tr>\n",
       "            <tr>\n",
       "                        <th id=\"T_7a764e40_ae13_11ea_b322_48bf6be162d8level0_row11\" class=\"row_heading level0 row11\" >11</th>\n",
       "                        <td id=\"T_7a764e40_ae13_11ea_b322_48bf6be162d8row11_col0\" class=\"data row11 col0\" >Gujarat</td>\n",
       "                        <td id=\"T_7a764e40_ae13_11ea_b322_48bf6be162d8row11_col1\" class=\"data row11 col1\" >76597.000000</td>\n",
       "            </tr>\n",
       "            <tr>\n",
       "                        <th id=\"T_7a764e40_ae13_11ea_b322_48bf6be162d8level0_row12\" class=\"row_heading level0 row12\" >12</th>\n",
       "                        <td id=\"T_7a764e40_ae13_11ea_b322_48bf6be162d8row12_col0\" class=\"data row12 col0\" >Haryana</td>\n",
       "                        <td id=\"T_7a764e40_ae13_11ea_b322_48bf6be162d8row12_col1\" class=\"data row12 col1\" >26615.000000</td>\n",
       "            </tr>\n",
       "            <tr>\n",
       "                        <th id=\"T_7a764e40_ae13_11ea_b322_48bf6be162d8level0_row13\" class=\"row_heading level0 row13\" >13</th>\n",
       "                        <td id=\"T_7a764e40_ae13_11ea_b322_48bf6be162d8row13_col0\" class=\"data row13 col0\" >Himachal Pradesh</td>\n",
       "                        <td id=\"T_7a764e40_ae13_11ea_b322_48bf6be162d8row13_col1\" class=\"data row13 col1\" >22732.000000</td>\n",
       "            </tr>\n",
       "            <tr>\n",
       "                        <th id=\"T_7a764e40_ae13_11ea_b322_48bf6be162d8level0_row14\" class=\"row_heading level0 row14\" >14</th>\n",
       "                        <td id=\"T_7a764e40_ae13_11ea_b322_48bf6be162d8row14_col0\" class=\"data row14 col0\" >Jammu & Kashmir</td>\n",
       "                        <td id=\"T_7a764e40_ae13_11ea_b322_48bf6be162d8row14_col1\" class=\"data row14 col1\" >24059.000000</td>\n",
       "            </tr>\n",
       "            <tr>\n",
       "                        <th id=\"T_7a764e40_ae13_11ea_b322_48bf6be162d8level0_row15\" class=\"row_heading level0 row15\" >15</th>\n",
       "                        <td id=\"T_7a764e40_ae13_11ea_b322_48bf6be162d8row15_col0\" class=\"data row15 col0\" >Jharkhand</td>\n",
       "                        <td id=\"T_7a764e40_ae13_11ea_b322_48bf6be162d8row15_col1\" class=\"data row15 col1\" >19516.000000</td>\n",
       "            </tr>\n",
       "            <tr>\n",
       "                        <th id=\"T_7a764e40_ae13_11ea_b322_48bf6be162d8level0_row16\" class=\"row_heading level0 row16\" >16</th>\n",
       "                        <td id=\"T_7a764e40_ae13_11ea_b322_48bf6be162d8row16_col0\" class=\"data row16 col0\" >Karnataka</td>\n",
       "                        <td id=\"T_7a764e40_ae13_11ea_b322_48bf6be162d8row16_col1\" class=\"data row16 col1\" >132682.000000</td>\n",
       "            </tr>\n",
       "            <tr>\n",
       "                        <th id=\"T_7a764e40_ae13_11ea_b322_48bf6be162d8level0_row17\" class=\"row_heading level0 row17\" >17</th>\n",
       "                        <td id=\"T_7a764e40_ae13_11ea_b322_48bf6be162d8row17_col0\" class=\"data row17 col0\" >Kerala</td>\n",
       "                        <td id=\"T_7a764e40_ae13_11ea_b322_48bf6be162d8row17_col1\" class=\"data row17 col1\" >80456.000000</td>\n",
       "            </tr>\n",
       "            <tr>\n",
       "                        <th id=\"T_7a764e40_ae13_11ea_b322_48bf6be162d8level0_row18\" class=\"row_heading level0 row18\" >18</th>\n",
       "                        <td id=\"T_7a764e40_ae13_11ea_b322_48bf6be162d8row18_col0\" class=\"data row18 col0\" >Lakshadweep</td>\n",
       "                        <td id=\"T_7a764e40_ae13_11ea_b322_48bf6be162d8row18_col1\" class=\"data row18 col1\" >575.000000</td>\n",
       "            </tr>\n",
       "            <tr>\n",
       "                        <th id=\"T_7a764e40_ae13_11ea_b322_48bf6be162d8level0_row19\" class=\"row_heading level0 row19\" >19</th>\n",
       "                        <td id=\"T_7a764e40_ae13_11ea_b322_48bf6be162d8row19_col0\" class=\"data row19 col0\" >Madhya Pradesh</td>\n",
       "                        <td id=\"T_7a764e40_ae13_11ea_b322_48bf6be162d8row19_col1\" class=\"data row19 col1\" >69744.000000</td>\n",
       "            </tr>\n",
       "            <tr>\n",
       "                        <th id=\"T_7a764e40_ae13_11ea_b322_48bf6be162d8level0_row20\" class=\"row_heading level0 row20\" >20</th>\n",
       "                        <td id=\"T_7a764e40_ae13_11ea_b322_48bf6be162d8row20_col0\" class=\"data row20 col0\" >Maharashtra</td>\n",
       "                        <td id=\"T_7a764e40_ae13_11ea_b322_48bf6be162d8row20_col1\" class=\"data row20 col1\" >124995.000000</td>\n",
       "            </tr>\n",
       "            <tr>\n",
       "                        <th id=\"T_7a764e40_ae13_11ea_b322_48bf6be162d8level0_row21\" class=\"row_heading level0 row21\" >21</th>\n",
       "                        <td id=\"T_7a764e40_ae13_11ea_b322_48bf6be162d8row21_col0\" class=\"data row21 col0\" >Manipur</td>\n",
       "                        <td id=\"T_7a764e40_ae13_11ea_b322_48bf6be162d8row21_col1\" class=\"data row21 col1\" >4160.000000</td>\n",
       "            </tr>\n",
       "            <tr>\n",
       "                        <th id=\"T_7a764e40_ae13_11ea_b322_48bf6be162d8level0_row22\" class=\"row_heading level0 row22\" >22</th>\n",
       "                        <td id=\"T_7a764e40_ae13_11ea_b322_48bf6be162d8row22_col0\" class=\"data row22 col0\" >Meghalaya</td>\n",
       "                        <td id=\"T_7a764e40_ae13_11ea_b322_48bf6be162d8row22_col1\" class=\"data row22 col1\" >9421.000000</td>\n",
       "            </tr>\n",
       "            <tr>\n",
       "                        <th id=\"T_7a764e40_ae13_11ea_b322_48bf6be162d8level0_row23\" class=\"row_heading level0 row23\" >23</th>\n",
       "                        <td id=\"T_7a764e40_ae13_11ea_b322_48bf6be162d8row23_col0\" class=\"data row23 col0\" >Mizoram</td>\n",
       "                        <td id=\"T_7a764e40_ae13_11ea_b322_48bf6be162d8row23_col1\" class=\"data row23 col1\" >4508.000000</td>\n",
       "            </tr>\n",
       "            <tr>\n",
       "                        <th id=\"T_7a764e40_ae13_11ea_b322_48bf6be162d8level0_row24\" class=\"row_heading level0 row24\" >24</th>\n",
       "                        <td id=\"T_7a764e40_ae13_11ea_b322_48bf6be162d8row24_col0\" class=\"data row24 col0\" >Nagaland</td>\n",
       "                        <td id=\"T_7a764e40_ae13_11ea_b322_48bf6be162d8row24_col1\" class=\"data row24 col1\" >4058.000000</td>\n",
       "            </tr>\n",
       "            <tr>\n",
       "                        <th id=\"T_7a764e40_ae13_11ea_b322_48bf6be162d8level0_row25\" class=\"row_heading level0 row25\" >25</th>\n",
       "                        <td id=\"T_7a764e40_ae13_11ea_b322_48bf6be162d8row25_col0\" class=\"data row25 col0\" >Odisha</td>\n",
       "                        <td id=\"T_7a764e40_ae13_11ea_b322_48bf6be162d8row25_col1\" class=\"data row25 col1\" >39058.000000</td>\n",
       "            </tr>\n",
       "            <tr>\n",
       "                        <th id=\"T_7a764e40_ae13_11ea_b322_48bf6be162d8level0_row26\" class=\"row_heading level0 row26\" >26</th>\n",
       "                        <td id=\"T_7a764e40_ae13_11ea_b322_48bf6be162d8row26_col0\" class=\"data row26 col0\" >Puducherry</td>\n",
       "                        <td id=\"T_7a764e40_ae13_11ea_b322_48bf6be162d8row26_col1\" class=\"data row26 col1\" >8111.000000</td>\n",
       "            </tr>\n",
       "            <tr>\n",
       "                        <th id=\"T_7a764e40_ae13_11ea_b322_48bf6be162d8level0_row27\" class=\"row_heading level0 row27\" >27</th>\n",
       "                        <td id=\"T_7a764e40_ae13_11ea_b322_48bf6be162d8row27_col0\" class=\"data row27 col0\" >Punjab</td>\n",
       "                        <td id=\"T_7a764e40_ae13_11ea_b322_48bf6be162d8row27_col1\" class=\"data row27 col1\" >33105.000000</td>\n",
       "            </tr>\n",
       "            <tr>\n",
       "                        <th id=\"T_7a764e40_ae13_11ea_b322_48bf6be162d8level0_row28\" class=\"row_heading level0 row28\" >28</th>\n",
       "                        <td id=\"T_7a764e40_ae13_11ea_b322_48bf6be162d8row28_col0\" class=\"data row28 col0\" >Rajasthan</td>\n",
       "                        <td id=\"T_7a764e40_ae13_11ea_b322_48bf6be162d8row28_col1\" class=\"data row28 col1\" >88259.000000</td>\n",
       "            </tr>\n",
       "            <tr>\n",
       "                        <th id=\"T_7a764e40_ae13_11ea_b322_48bf6be162d8level0_row29\" class=\"row_heading level0 row29\" >29</th>\n",
       "                        <td id=\"T_7a764e40_ae13_11ea_b322_48bf6be162d8row29_col0\" class=\"data row29 col0\" >Sikkim</td>\n",
       "                        <td id=\"T_7a764e40_ae13_11ea_b322_48bf6be162d8row29_col1\" class=\"data row29 col1\" >2777.000000</td>\n",
       "            </tr>\n",
       "            <tr>\n",
       "                        <th id=\"T_7a764e40_ae13_11ea_b322_48bf6be162d8level0_row30\" class=\"row_heading level0 row30\" >30</th>\n",
       "                        <td id=\"T_7a764e40_ae13_11ea_b322_48bf6be162d8row30_col0\" class=\"data row30 col0\" >Tamil Nadu</td>\n",
       "                        <td id=\"T_7a764e40_ae13_11ea_b322_48bf6be162d8row30_col1\" class=\"data row30 col1\" >154673.000000</td>\n",
       "            </tr>\n",
       "            <tr>\n",
       "                        <th id=\"T_7a764e40_ae13_11ea_b322_48bf6be162d8level0_row31\" class=\"row_heading level0 row31\" >31</th>\n",
       "                        <td id=\"T_7a764e40_ae13_11ea_b322_48bf6be162d8row31_col0\" class=\"data row31 col0\" >Telangana</td>\n",
       "                        <td id=\"T_7a764e40_ae13_11ea_b322_48bf6be162d8row31_col1\" class=\"data row31 col1\" >40280.000000</td>\n",
       "            </tr>\n",
       "            <tr>\n",
       "                        <th id=\"T_7a764e40_ae13_11ea_b322_48bf6be162d8level0_row32\" class=\"row_heading level0 row32\" >32</th>\n",
       "                        <td id=\"T_7a764e40_ae13_11ea_b322_48bf6be162d8row32_col0\" class=\"data row32 col0\" >Tripura</td>\n",
       "                        <td id=\"T_7a764e40_ae13_11ea_b322_48bf6be162d8row32_col1\" class=\"data row32 col1\" >9667.000000</td>\n",
       "            </tr>\n",
       "            <tr>\n",
       "                        <th id=\"T_7a764e40_ae13_11ea_b322_48bf6be162d8level0_row33\" class=\"row_heading level0 row33\" >33</th>\n",
       "                        <td id=\"T_7a764e40_ae13_11ea_b322_48bf6be162d8row33_col0\" class=\"data row33 col0\" >Uttar Pradesh</td>\n",
       "                        <td id=\"T_7a764e40_ae13_11ea_b322_48bf6be162d8row33_col1\" class=\"data row33 col1\" >144172.000000</td>\n",
       "            </tr>\n",
       "            <tr>\n",
       "                        <th id=\"T_7a764e40_ae13_11ea_b322_48bf6be162d8level0_row34\" class=\"row_heading level0 row34\" >34</th>\n",
       "                        <td id=\"T_7a764e40_ae13_11ea_b322_48bf6be162d8row34_col0\" class=\"data row34 col0\" >Uttarakhand</td>\n",
       "                        <td id=\"T_7a764e40_ae13_11ea_b322_48bf6be162d8row34_col1\" class=\"data row34 col1\" >16123.000000</td>\n",
       "            </tr>\n",
       "            <tr>\n",
       "                        <th id=\"T_7a764e40_ae13_11ea_b322_48bf6be162d8level0_row35\" class=\"row_heading level0 row35\" >35</th>\n",
       "                        <td id=\"T_7a764e40_ae13_11ea_b322_48bf6be162d8row35_col0\" class=\"data row35 col0\" >West Bengal</td>\n",
       "                        <td id=\"T_7a764e40_ae13_11ea_b322_48bf6be162d8row35_col1\" class=\"data row35 col1\" >133731.000000</td>\n",
       "            </tr>\n",
       "            <tr>\n",
       "                        <th id=\"T_7a764e40_ae13_11ea_b322_48bf6be162d8level0_row36\" class=\"row_heading level0 row36\" >36</th>\n",
       "                        <td id=\"T_7a764e40_ae13_11ea_b322_48bf6be162d8row36_col0\" class=\"data row36 col0\" >All India</td>\n",
       "                        <td id=\"T_7a764e40_ae13_11ea_b322_48bf6be162d8row36_col1\" class=\"data row36 col1\" >1518918.000000</td>\n",
       "            </tr>\n",
       "    </tbody></table>"
      ],
      "text/plain": [
       "<pandas.io.formats.style.Styler at 0x1279d6c50>"
      ]
     },
     "execution_count": 67,
     "metadata": {},
     "output_type": "execute_result"
    }
   ],
   "source": [
    "state_total_beds.style.background_gradient(cmap= \"Reds\")"
   ]
  },
  {
   "cell_type": "code",
   "execution_count": 72,
   "metadata": {},
   "outputs": [],
   "source": [
    "state_total_beds = state_total_beds.drop([36])"
   ]
  },
  {
   "cell_type": "code",
   "execution_count": 73,
   "metadata": {},
   "outputs": [
    {
     "data": {
      "text/html": [
       "<style  type=\"text/css\" >\n",
       "    #T_228608d2_ae14_11ea_81e9_48bf6be162d8row0_col1 {\n",
       "            background-color:  #fff3ed;\n",
       "            color:  #000000;\n",
       "        }    #T_228608d2_ae14_11ea_81e9_48bf6be162d8row1_col1 {\n",
       "            background-color:  #f6553c;\n",
       "            color:  #000000;\n",
       "        }    #T_228608d2_ae14_11ea_81e9_48bf6be162d8row2_col1 {\n",
       "            background-color:  #fff0e9;\n",
       "            color:  #000000;\n",
       "        }    #T_228608d2_ae14_11ea_81e9_48bf6be162d8row3_col1 {\n",
       "            background-color:  #fcbca2;\n",
       "            color:  #000000;\n",
       "        }    #T_228608d2_ae14_11ea_81e9_48bf6be162d8row4_col1 {\n",
       "            background-color:  #fdc6b0;\n",
       "            color:  #000000;\n",
       "        }    #T_228608d2_ae14_11ea_81e9_48bf6be162d8row5_col1 {\n",
       "            background-color:  #fff1ea;\n",
       "            color:  #000000;\n",
       "        }    #T_228608d2_ae14_11ea_81e9_48bf6be162d8row6_col1 {\n",
       "            background-color:  #fdd7c6;\n",
       "            color:  #000000;\n",
       "        }    #T_228608d2_ae14_11ea_81e9_48bf6be162d8row7_col1 {\n",
       "            background-color:  #fff4ef;\n",
       "            color:  #000000;\n",
       "        }    #T_228608d2_ae14_11ea_81e9_48bf6be162d8row8_col1 {\n",
       "            background-color:  #fff5f0;\n",
       "            color:  #000000;\n",
       "        }    #T_228608d2_ae14_11ea_81e9_48bf6be162d8row9_col1 {\n",
       "            background-color:  #fcad90;\n",
       "            color:  #000000;\n",
       "        }    #T_228608d2_ae14_11ea_81e9_48bf6be162d8row10_col1 {\n",
       "            background-color:  #fff0e8;\n",
       "            color:  #000000;\n",
       "        }    #T_228608d2_ae14_11ea_81e9_48bf6be162d8row11_col1 {\n",
       "            background-color:  #fb6c4c;\n",
       "            color:  #000000;\n",
       "        }    #T_228608d2_ae14_11ea_81e9_48bf6be162d8row12_col1 {\n",
       "            background-color:  #fdd3c1;\n",
       "            color:  #000000;\n",
       "        }    #T_228608d2_ae14_11ea_81e9_48bf6be162d8row13_col1 {\n",
       "            background-color:  #fedbcc;\n",
       "            color:  #000000;\n",
       "        }    #T_228608d2_ae14_11ea_81e9_48bf6be162d8row14_col1 {\n",
       "            background-color:  #fed8c7;\n",
       "            color:  #000000;\n",
       "        }    #T_228608d2_ae14_11ea_81e9_48bf6be162d8row15_col1 {\n",
       "            background-color:  #fee1d3;\n",
       "            color:  #000000;\n",
       "        }    #T_228608d2_ae14_11ea_81e9_48bf6be162d8row16_col1 {\n",
       "            background-color:  #aa1016;\n",
       "            color:  #f1f1f1;\n",
       "        }    #T_228608d2_ae14_11ea_81e9_48bf6be162d8row17_col1 {\n",
       "            background-color:  #f96346;\n",
       "            color:  #000000;\n",
       "        }    #T_228608d2_ae14_11ea_81e9_48bf6be162d8row18_col1 {\n",
       "            background-color:  #fff5f0;\n",
       "            color:  #000000;\n",
       "        }    #T_228608d2_ae14_11ea_81e9_48bf6be162d8row19_col1 {\n",
       "            background-color:  #fb7b5b;\n",
       "            color:  #000000;\n",
       "        }    #T_228608d2_ae14_11ea_81e9_48bf6be162d8row20_col1 {\n",
       "            background-color:  #b91419;\n",
       "            color:  #f1f1f1;\n",
       "        }    #T_228608d2_ae14_11ea_81e9_48bf6be162d8row21_col1 {\n",
       "            background-color:  #fff2eb;\n",
       "            color:  #000000;\n",
       "        }    #T_228608d2_ae14_11ea_81e9_48bf6be162d8row22_col1 {\n",
       "            background-color:  #ffece3;\n",
       "            color:  #000000;\n",
       "        }    #T_228608d2_ae14_11ea_81e9_48bf6be162d8row23_col1 {\n",
       "            background-color:  #fff1ea;\n",
       "            color:  #000000;\n",
       "        }    #T_228608d2_ae14_11ea_81e9_48bf6be162d8row24_col1 {\n",
       "            background-color:  #fff2eb;\n",
       "            color:  #000000;\n",
       "        }    #T_228608d2_ae14_11ea_81e9_48bf6be162d8row25_col1 {\n",
       "            background-color:  #fcbca2;\n",
       "            color:  #000000;\n",
       "        }    #T_228608d2_ae14_11ea_81e9_48bf6be162d8row26_col1 {\n",
       "            background-color:  #ffede5;\n",
       "            color:  #000000;\n",
       "        }    #T_228608d2_ae14_11ea_81e9_48bf6be162d8row27_col1 {\n",
       "            background-color:  #fdc6b0;\n",
       "            color:  #000000;\n",
       "        }    #T_228608d2_ae14_11ea_81e9_48bf6be162d8row28_col1 {\n",
       "            background-color:  #f4503a;\n",
       "            color:  #000000;\n",
       "        }    #T_228608d2_ae14_11ea_81e9_48bf6be162d8row29_col1 {\n",
       "            background-color:  #fff3ed;\n",
       "            color:  #000000;\n",
       "        }    #T_228608d2_ae14_11ea_81e9_48bf6be162d8row30_col1 {\n",
       "            background-color:  #67000d;\n",
       "            color:  #f1f1f1;\n",
       "        }    #T_228608d2_ae14_11ea_81e9_48bf6be162d8row31_col1 {\n",
       "            background-color:  #fcb99f;\n",
       "            color:  #000000;\n",
       "        }    #T_228608d2_ae14_11ea_81e9_48bf6be162d8row32_col1 {\n",
       "            background-color:  #ffebe2;\n",
       "            color:  #000000;\n",
       "        }    #T_228608d2_ae14_11ea_81e9_48bf6be162d8row33_col1 {\n",
       "            background-color:  #880811;\n",
       "            color:  #f1f1f1;\n",
       "        }    #T_228608d2_ae14_11ea_81e9_48bf6be162d8row34_col1 {\n",
       "            background-color:  #fee5d8;\n",
       "            color:  #000000;\n",
       "        }    #T_228608d2_ae14_11ea_81e9_48bf6be162d8row35_col1 {\n",
       "            background-color:  #a81016;\n",
       "            color:  #f1f1f1;\n",
       "        }</style><table id=\"T_228608d2_ae14_11ea_81e9_48bf6be162d8\" ><thead>    <tr>        <th class=\"blank level0\" ></th>        <th class=\"col_heading level0 col0\" >State/UnionTerritory</th>        <th class=\"col_heading level0 col1\" >Total</th>    </tr></thead><tbody>\n",
       "                <tr>\n",
       "                        <th id=\"T_228608d2_ae14_11ea_81e9_48bf6be162d8level0_row0\" class=\"row_heading level0 row0\" >0</th>\n",
       "                        <td id=\"T_228608d2_ae14_11ea_81e9_48bf6be162d8row0_col0\" class=\"data row0 col0\" >Andaman & Nicobar Islands</td>\n",
       "                        <td id=\"T_228608d2_ae14_11ea_81e9_48bf6be162d8row0_col1\" class=\"data row0 col1\" >2392.000000</td>\n",
       "            </tr>\n",
       "            <tr>\n",
       "                        <th id=\"T_228608d2_ae14_11ea_81e9_48bf6be162d8level0_row1\" class=\"row_heading level0 row1\" >1</th>\n",
       "                        <td id=\"T_228608d2_ae14_11ea_81e9_48bf6be162d8row1_col0\" class=\"data row1 col0\" >Andhra Pradesh</td>\n",
       "                        <td id=\"T_228608d2_ae14_11ea_81e9_48bf6be162d8row1_col1\" class=\"data row1 col1\" >86110.000000</td>\n",
       "            </tr>\n",
       "            <tr>\n",
       "                        <th id=\"T_228608d2_ae14_11ea_81e9_48bf6be162d8level0_row2\" class=\"row_heading level0 row2\" >2</th>\n",
       "                        <td id=\"T_228608d2_ae14_11ea_81e9_48bf6be162d8row2_col0\" class=\"data row2 col0\" >Arunachal Pradesh</td>\n",
       "                        <td id=\"T_228608d2_ae14_11ea_81e9_48bf6be162d8row2_col1\" class=\"data row2 col1\" >5218.000000</td>\n",
       "            </tr>\n",
       "            <tr>\n",
       "                        <th id=\"T_228608d2_ae14_11ea_81e9_48bf6be162d8level0_row3\" class=\"row_heading level0 row3\" >3</th>\n",
       "                        <td id=\"T_228608d2_ae14_11ea_81e9_48bf6be162d8row3_col0\" class=\"data row3 col0\" >Assam</td>\n",
       "                        <td id=\"T_228608d2_ae14_11ea_81e9_48bf6be162d8row3_col1\" class=\"data row3 col1\" >38916.000000</td>\n",
       "            </tr>\n",
       "            <tr>\n",
       "                        <th id=\"T_228608d2_ae14_11ea_81e9_48bf6be162d8level0_row4\" class=\"row_heading level0 row4\" >4</th>\n",
       "                        <td id=\"T_228608d2_ae14_11ea_81e9_48bf6be162d8row4_col0\" class=\"data row4 col0\" >Bihar</td>\n",
       "                        <td id=\"T_228608d2_ae14_11ea_81e9_48bf6be162d8row4_col1\" class=\"data row4 col1\" >33133.000000</td>\n",
       "            </tr>\n",
       "            <tr>\n",
       "                        <th id=\"T_228608d2_ae14_11ea_81e9_48bf6be162d8level0_row5\" class=\"row_heading level0 row5\" >5</th>\n",
       "                        <td id=\"T_228608d2_ae14_11ea_81e9_48bf6be162d8row5_col0\" class=\"data row5 col0\" >Chandigarh</td>\n",
       "                        <td id=\"T_228608d2_ae14_11ea_81e9_48bf6be162d8row5_col1\" class=\"data row5 col1\" >4592.000000</td>\n",
       "            </tr>\n",
       "            <tr>\n",
       "                        <th id=\"T_228608d2_ae14_11ea_81e9_48bf6be162d8level0_row6\" class=\"row_heading level0 row6\" >6</th>\n",
       "                        <td id=\"T_228608d2_ae14_11ea_81e9_48bf6be162d8row6_col0\" class=\"data row6 col0\" >Chhattisgarh</td>\n",
       "                        <td id=\"T_228608d2_ae14_11ea_81e9_48bf6be162d8row6_col1\" class=\"data row6 col1\" >25213.000000</td>\n",
       "            </tr>\n",
       "            <tr>\n",
       "                        <th id=\"T_228608d2_ae14_11ea_81e9_48bf6be162d8level0_row7\" class=\"row_heading level0 row7\" >7</th>\n",
       "                        <td id=\"T_228608d2_ae14_11ea_81e9_48bf6be162d8row7_col0\" class=\"data row7 col0\" >Dadra & Nagar Haveli</td>\n",
       "                        <td id=\"T_228608d2_ae14_11ea_81e9_48bf6be162d8row7_col1\" class=\"data row7 col1\" >1185.000000</td>\n",
       "            </tr>\n",
       "            <tr>\n",
       "                        <th id=\"T_228608d2_ae14_11ea_81e9_48bf6be162d8level0_row8\" class=\"row_heading level0 row8\" >8</th>\n",
       "                        <td id=\"T_228608d2_ae14_11ea_81e9_48bf6be162d8row8_col0\" class=\"data row8 col0\" >Daman & Diu</td>\n",
       "                        <td id=\"T_228608d2_ae14_11ea_81e9_48bf6be162d8row8_col1\" class=\"data row8 col1\" >555.000000</td>\n",
       "            </tr>\n",
       "            <tr>\n",
       "                        <th id=\"T_228608d2_ae14_11ea_81e9_48bf6be162d8level0_row9\" class=\"row_heading level0 row9\" >9</th>\n",
       "                        <td id=\"T_228608d2_ae14_11ea_81e9_48bf6be162d8row9_col0\" class=\"data row9 col0\" >Delhi</td>\n",
       "                        <td id=\"T_228608d2_ae14_11ea_81e9_48bf6be162d8row9_col1\" class=\"data row9 col1\" >45760.000000</td>\n",
       "            </tr>\n",
       "            <tr>\n",
       "                        <th id=\"T_228608d2_ae14_11ea_81e9_48bf6be162d8level0_row10\" class=\"row_heading level0 row10\" >10</th>\n",
       "                        <td id=\"T_228608d2_ae14_11ea_81e9_48bf6be162d8row10_col0\" class=\"data row10 col0\" >Goa</td>\n",
       "                        <td id=\"T_228608d2_ae14_11ea_81e9_48bf6be162d8row10_col1\" class=\"data row10 col1\" >5770.000000</td>\n",
       "            </tr>\n",
       "            <tr>\n",
       "                        <th id=\"T_228608d2_ae14_11ea_81e9_48bf6be162d8level0_row11\" class=\"row_heading level0 row11\" >11</th>\n",
       "                        <td id=\"T_228608d2_ae14_11ea_81e9_48bf6be162d8row11_col0\" class=\"data row11 col0\" >Gujarat</td>\n",
       "                        <td id=\"T_228608d2_ae14_11ea_81e9_48bf6be162d8row11_col1\" class=\"data row11 col1\" >76597.000000</td>\n",
       "            </tr>\n",
       "            <tr>\n",
       "                        <th id=\"T_228608d2_ae14_11ea_81e9_48bf6be162d8level0_row12\" class=\"row_heading level0 row12\" >12</th>\n",
       "                        <td id=\"T_228608d2_ae14_11ea_81e9_48bf6be162d8row12_col0\" class=\"data row12 col0\" >Haryana</td>\n",
       "                        <td id=\"T_228608d2_ae14_11ea_81e9_48bf6be162d8row12_col1\" class=\"data row12 col1\" >26615.000000</td>\n",
       "            </tr>\n",
       "            <tr>\n",
       "                        <th id=\"T_228608d2_ae14_11ea_81e9_48bf6be162d8level0_row13\" class=\"row_heading level0 row13\" >13</th>\n",
       "                        <td id=\"T_228608d2_ae14_11ea_81e9_48bf6be162d8row13_col0\" class=\"data row13 col0\" >Himachal Pradesh</td>\n",
       "                        <td id=\"T_228608d2_ae14_11ea_81e9_48bf6be162d8row13_col1\" class=\"data row13 col1\" >22732.000000</td>\n",
       "            </tr>\n",
       "            <tr>\n",
       "                        <th id=\"T_228608d2_ae14_11ea_81e9_48bf6be162d8level0_row14\" class=\"row_heading level0 row14\" >14</th>\n",
       "                        <td id=\"T_228608d2_ae14_11ea_81e9_48bf6be162d8row14_col0\" class=\"data row14 col0\" >Jammu & Kashmir</td>\n",
       "                        <td id=\"T_228608d2_ae14_11ea_81e9_48bf6be162d8row14_col1\" class=\"data row14 col1\" >24059.000000</td>\n",
       "            </tr>\n",
       "            <tr>\n",
       "                        <th id=\"T_228608d2_ae14_11ea_81e9_48bf6be162d8level0_row15\" class=\"row_heading level0 row15\" >15</th>\n",
       "                        <td id=\"T_228608d2_ae14_11ea_81e9_48bf6be162d8row15_col0\" class=\"data row15 col0\" >Jharkhand</td>\n",
       "                        <td id=\"T_228608d2_ae14_11ea_81e9_48bf6be162d8row15_col1\" class=\"data row15 col1\" >19516.000000</td>\n",
       "            </tr>\n",
       "            <tr>\n",
       "                        <th id=\"T_228608d2_ae14_11ea_81e9_48bf6be162d8level0_row16\" class=\"row_heading level0 row16\" >16</th>\n",
       "                        <td id=\"T_228608d2_ae14_11ea_81e9_48bf6be162d8row16_col0\" class=\"data row16 col0\" >Karnataka</td>\n",
       "                        <td id=\"T_228608d2_ae14_11ea_81e9_48bf6be162d8row16_col1\" class=\"data row16 col1\" >132682.000000</td>\n",
       "            </tr>\n",
       "            <tr>\n",
       "                        <th id=\"T_228608d2_ae14_11ea_81e9_48bf6be162d8level0_row17\" class=\"row_heading level0 row17\" >17</th>\n",
       "                        <td id=\"T_228608d2_ae14_11ea_81e9_48bf6be162d8row17_col0\" class=\"data row17 col0\" >Kerala</td>\n",
       "                        <td id=\"T_228608d2_ae14_11ea_81e9_48bf6be162d8row17_col1\" class=\"data row17 col1\" >80456.000000</td>\n",
       "            </tr>\n",
       "            <tr>\n",
       "                        <th id=\"T_228608d2_ae14_11ea_81e9_48bf6be162d8level0_row18\" class=\"row_heading level0 row18\" >18</th>\n",
       "                        <td id=\"T_228608d2_ae14_11ea_81e9_48bf6be162d8row18_col0\" class=\"data row18 col0\" >Lakshadweep</td>\n",
       "                        <td id=\"T_228608d2_ae14_11ea_81e9_48bf6be162d8row18_col1\" class=\"data row18 col1\" >575.000000</td>\n",
       "            </tr>\n",
       "            <tr>\n",
       "                        <th id=\"T_228608d2_ae14_11ea_81e9_48bf6be162d8level0_row19\" class=\"row_heading level0 row19\" >19</th>\n",
       "                        <td id=\"T_228608d2_ae14_11ea_81e9_48bf6be162d8row19_col0\" class=\"data row19 col0\" >Madhya Pradesh</td>\n",
       "                        <td id=\"T_228608d2_ae14_11ea_81e9_48bf6be162d8row19_col1\" class=\"data row19 col1\" >69744.000000</td>\n",
       "            </tr>\n",
       "            <tr>\n",
       "                        <th id=\"T_228608d2_ae14_11ea_81e9_48bf6be162d8level0_row20\" class=\"row_heading level0 row20\" >20</th>\n",
       "                        <td id=\"T_228608d2_ae14_11ea_81e9_48bf6be162d8row20_col0\" class=\"data row20 col0\" >Maharashtra</td>\n",
       "                        <td id=\"T_228608d2_ae14_11ea_81e9_48bf6be162d8row20_col1\" class=\"data row20 col1\" >124995.000000</td>\n",
       "            </tr>\n",
       "            <tr>\n",
       "                        <th id=\"T_228608d2_ae14_11ea_81e9_48bf6be162d8level0_row21\" class=\"row_heading level0 row21\" >21</th>\n",
       "                        <td id=\"T_228608d2_ae14_11ea_81e9_48bf6be162d8row21_col0\" class=\"data row21 col0\" >Manipur</td>\n",
       "                        <td id=\"T_228608d2_ae14_11ea_81e9_48bf6be162d8row21_col1\" class=\"data row21 col1\" >4160.000000</td>\n",
       "            </tr>\n",
       "            <tr>\n",
       "                        <th id=\"T_228608d2_ae14_11ea_81e9_48bf6be162d8level0_row22\" class=\"row_heading level0 row22\" >22</th>\n",
       "                        <td id=\"T_228608d2_ae14_11ea_81e9_48bf6be162d8row22_col0\" class=\"data row22 col0\" >Meghalaya</td>\n",
       "                        <td id=\"T_228608d2_ae14_11ea_81e9_48bf6be162d8row22_col1\" class=\"data row22 col1\" >9421.000000</td>\n",
       "            </tr>\n",
       "            <tr>\n",
       "                        <th id=\"T_228608d2_ae14_11ea_81e9_48bf6be162d8level0_row23\" class=\"row_heading level0 row23\" >23</th>\n",
       "                        <td id=\"T_228608d2_ae14_11ea_81e9_48bf6be162d8row23_col0\" class=\"data row23 col0\" >Mizoram</td>\n",
       "                        <td id=\"T_228608d2_ae14_11ea_81e9_48bf6be162d8row23_col1\" class=\"data row23 col1\" >4508.000000</td>\n",
       "            </tr>\n",
       "            <tr>\n",
       "                        <th id=\"T_228608d2_ae14_11ea_81e9_48bf6be162d8level0_row24\" class=\"row_heading level0 row24\" >24</th>\n",
       "                        <td id=\"T_228608d2_ae14_11ea_81e9_48bf6be162d8row24_col0\" class=\"data row24 col0\" >Nagaland</td>\n",
       "                        <td id=\"T_228608d2_ae14_11ea_81e9_48bf6be162d8row24_col1\" class=\"data row24 col1\" >4058.000000</td>\n",
       "            </tr>\n",
       "            <tr>\n",
       "                        <th id=\"T_228608d2_ae14_11ea_81e9_48bf6be162d8level0_row25\" class=\"row_heading level0 row25\" >25</th>\n",
       "                        <td id=\"T_228608d2_ae14_11ea_81e9_48bf6be162d8row25_col0\" class=\"data row25 col0\" >Odisha</td>\n",
       "                        <td id=\"T_228608d2_ae14_11ea_81e9_48bf6be162d8row25_col1\" class=\"data row25 col1\" >39058.000000</td>\n",
       "            </tr>\n",
       "            <tr>\n",
       "                        <th id=\"T_228608d2_ae14_11ea_81e9_48bf6be162d8level0_row26\" class=\"row_heading level0 row26\" >26</th>\n",
       "                        <td id=\"T_228608d2_ae14_11ea_81e9_48bf6be162d8row26_col0\" class=\"data row26 col0\" >Puducherry</td>\n",
       "                        <td id=\"T_228608d2_ae14_11ea_81e9_48bf6be162d8row26_col1\" class=\"data row26 col1\" >8111.000000</td>\n",
       "            </tr>\n",
       "            <tr>\n",
       "                        <th id=\"T_228608d2_ae14_11ea_81e9_48bf6be162d8level0_row27\" class=\"row_heading level0 row27\" >27</th>\n",
       "                        <td id=\"T_228608d2_ae14_11ea_81e9_48bf6be162d8row27_col0\" class=\"data row27 col0\" >Punjab</td>\n",
       "                        <td id=\"T_228608d2_ae14_11ea_81e9_48bf6be162d8row27_col1\" class=\"data row27 col1\" >33105.000000</td>\n",
       "            </tr>\n",
       "            <tr>\n",
       "                        <th id=\"T_228608d2_ae14_11ea_81e9_48bf6be162d8level0_row28\" class=\"row_heading level0 row28\" >28</th>\n",
       "                        <td id=\"T_228608d2_ae14_11ea_81e9_48bf6be162d8row28_col0\" class=\"data row28 col0\" >Rajasthan</td>\n",
       "                        <td id=\"T_228608d2_ae14_11ea_81e9_48bf6be162d8row28_col1\" class=\"data row28 col1\" >88259.000000</td>\n",
       "            </tr>\n",
       "            <tr>\n",
       "                        <th id=\"T_228608d2_ae14_11ea_81e9_48bf6be162d8level0_row29\" class=\"row_heading level0 row29\" >29</th>\n",
       "                        <td id=\"T_228608d2_ae14_11ea_81e9_48bf6be162d8row29_col0\" class=\"data row29 col0\" >Sikkim</td>\n",
       "                        <td id=\"T_228608d2_ae14_11ea_81e9_48bf6be162d8row29_col1\" class=\"data row29 col1\" >2777.000000</td>\n",
       "            </tr>\n",
       "            <tr>\n",
       "                        <th id=\"T_228608d2_ae14_11ea_81e9_48bf6be162d8level0_row30\" class=\"row_heading level0 row30\" >30</th>\n",
       "                        <td id=\"T_228608d2_ae14_11ea_81e9_48bf6be162d8row30_col0\" class=\"data row30 col0\" >Tamil Nadu</td>\n",
       "                        <td id=\"T_228608d2_ae14_11ea_81e9_48bf6be162d8row30_col1\" class=\"data row30 col1\" >154673.000000</td>\n",
       "            </tr>\n",
       "            <tr>\n",
       "                        <th id=\"T_228608d2_ae14_11ea_81e9_48bf6be162d8level0_row31\" class=\"row_heading level0 row31\" >31</th>\n",
       "                        <td id=\"T_228608d2_ae14_11ea_81e9_48bf6be162d8row31_col0\" class=\"data row31 col0\" >Telangana</td>\n",
       "                        <td id=\"T_228608d2_ae14_11ea_81e9_48bf6be162d8row31_col1\" class=\"data row31 col1\" >40280.000000</td>\n",
       "            </tr>\n",
       "            <tr>\n",
       "                        <th id=\"T_228608d2_ae14_11ea_81e9_48bf6be162d8level0_row32\" class=\"row_heading level0 row32\" >32</th>\n",
       "                        <td id=\"T_228608d2_ae14_11ea_81e9_48bf6be162d8row32_col0\" class=\"data row32 col0\" >Tripura</td>\n",
       "                        <td id=\"T_228608d2_ae14_11ea_81e9_48bf6be162d8row32_col1\" class=\"data row32 col1\" >9667.000000</td>\n",
       "            </tr>\n",
       "            <tr>\n",
       "                        <th id=\"T_228608d2_ae14_11ea_81e9_48bf6be162d8level0_row33\" class=\"row_heading level0 row33\" >33</th>\n",
       "                        <td id=\"T_228608d2_ae14_11ea_81e9_48bf6be162d8row33_col0\" class=\"data row33 col0\" >Uttar Pradesh</td>\n",
       "                        <td id=\"T_228608d2_ae14_11ea_81e9_48bf6be162d8row33_col1\" class=\"data row33 col1\" >144172.000000</td>\n",
       "            </tr>\n",
       "            <tr>\n",
       "                        <th id=\"T_228608d2_ae14_11ea_81e9_48bf6be162d8level0_row34\" class=\"row_heading level0 row34\" >34</th>\n",
       "                        <td id=\"T_228608d2_ae14_11ea_81e9_48bf6be162d8row34_col0\" class=\"data row34 col0\" >Uttarakhand</td>\n",
       "                        <td id=\"T_228608d2_ae14_11ea_81e9_48bf6be162d8row34_col1\" class=\"data row34 col1\" >16123.000000</td>\n",
       "            </tr>\n",
       "            <tr>\n",
       "                        <th id=\"T_228608d2_ae14_11ea_81e9_48bf6be162d8level0_row35\" class=\"row_heading level0 row35\" >35</th>\n",
       "                        <td id=\"T_228608d2_ae14_11ea_81e9_48bf6be162d8row35_col0\" class=\"data row35 col0\" >West Bengal</td>\n",
       "                        <td id=\"T_228608d2_ae14_11ea_81e9_48bf6be162d8row35_col1\" class=\"data row35 col1\" >133731.000000</td>\n",
       "            </tr>\n",
       "    </tbody></table>"
      ],
      "text/plain": [
       "<pandas.io.formats.style.Styler at 0x127a5e0f0>"
      ]
     },
     "execution_count": 73,
     "metadata": {},
     "output_type": "execute_result"
    }
   ],
   "source": [
    "# how to round up the total??\n",
    "state_total_beds.style.background_gradient(cmap= \"Reds\")"
   ]
  },
  {
   "cell_type": "code",
   "execution_count": 76,
   "metadata": {},
   "outputs": [
    {
     "data": {
      "text/plain": [
       "<BarContainer object of 36 artists>"
      ]
     },
     "execution_count": 76,
     "metadata": {},
     "output_type": "execute_result"
    },
    {
     "data": {
      "image/png": "[encoded data removed]",
      "text/plain": [
       "<Figure size 2160x1080 with 1 Axes>"
      ]
     },
     "metadata": {
      "needs_background": "light"
     },
     "output_type": "display_data"
    }
   ],
   "source": [
    "# state_total_beds.plot(kind = 'barh')\n",
    "\n",
    "plt.figure(figsize=(30,15))\n",
    "plt.barh(state_total_beds['State/UnionTerritory'], state_total_beds['Total'])"
   ]
  },
  {
   "cell_type": "code",
   "execution_count": 17,
   "metadata": {},
   "outputs": [
    {
     "name": "stdout",
     "output_type": "stream",
     "text": [
      "<class 'pandas.core.frame.DataFrame'>\n",
      "RangeIndex: 2991 entries, 0 to 2990\n",
      "Data columns (total 8 columns):\n",
      " #   Column                    Non-Null Count  Dtype \n",
      "---  ------                    --------------  ----- \n",
      " 0   Date                      2991 non-null   object\n",
      " 1   Time                      2991 non-null   object\n",
      " 2   State/UnionTerritory      2991 non-null   object\n",
      " 3   ConfirmedIndianNational   2991 non-null   object\n",
      " 4   ConfirmedForeignNational  2991 non-null   object\n",
      " 5   Cured                     2991 non-null   int64 \n",
      " 6   Deaths                    2991 non-null   int64 \n",
      " 7   Confirmed                 2991 non-null   int64 \n",
      "dtypes: int64(3), object(5)\n",
      "memory usage: 187.1+ KB\n"
     ]
    }
   ],
   "source": [
    "df.info()"
   ]
  },
  {
   "cell_type": "code",
   "execution_count": 16,
   "metadata": {},
   "outputs": [
    {
     "data": {
      "text/html": [
       "<div>\n",
       "<style scoped>\n",
       "    .dataframe tbody tr th:only-of-type {\n",
       "        vertical-align: middle;\n",
       "    }\n",
       "\n",
       "    .dataframe tbody tr th {\n",
       "        vertical-align: top;\n",
       "    }\n",
       "\n",
       "    .dataframe thead th {\n",
       "        text-align: right;\n",
       "    }\n",
       "</style>\n",
       "<table border=\"1\" class=\"dataframe\">\n",
       "  <thead>\n",
       "    <tr style=\"text-align: right;\">\n",
       "      <th></th>\n",
       "      <th>Cured</th>\n",
       "      <th>Deaths</th>\n",
       "      <th>Confirmed</th>\n",
       "    </tr>\n",
       "  </thead>\n",
       "  <tbody>\n",
       "    <tr>\n",
       "      <th>count</th>\n",
       "      <td>2991.000000</td>\n",
       "      <td>2991.000000</td>\n",
       "      <td>2991.000000</td>\n",
       "    </tr>\n",
       "    <tr>\n",
       "      <th>mean</th>\n",
       "      <td>927.865597</td>\n",
       "      <td>64.840187</td>\n",
       "      <td>2202.333668</td>\n",
       "    </tr>\n",
       "    <tr>\n",
       "      <th>std</th>\n",
       "      <td>3354.157599</td>\n",
       "      <td>264.954939</td>\n",
       "      <td>7548.386880</td>\n",
       "    </tr>\n",
       "    <tr>\n",
       "      <th>min</th>\n",
       "      <td>0.000000</td>\n",
       "      <td>0.000000</td>\n",
       "      <td>0.000000</td>\n",
       "    </tr>\n",
       "    <tr>\n",
       "      <th>25%</th>\n",
       "      <td>1.000000</td>\n",
       "      <td>0.000000</td>\n",
       "      <td>12.000000</td>\n",
       "    </tr>\n",
       "    <tr>\n",
       "      <th>50%</th>\n",
       "      <td>25.000000</td>\n",
       "      <td>1.000000</td>\n",
       "      <td>94.000000</td>\n",
       "    </tr>\n",
       "    <tr>\n",
       "      <th>75%</th>\n",
       "      <td>360.000000</td>\n",
       "      <td>17.000000</td>\n",
       "      <td>1259.000000</td>\n",
       "    </tr>\n",
       "    <tr>\n",
       "      <th>max</th>\n",
       "      <td>47796.000000</td>\n",
       "      <td>3717.000000</td>\n",
       "      <td>101141.000000</td>\n",
       "    </tr>\n",
       "  </tbody>\n",
       "</table>\n",
       "</div>"
      ],
      "text/plain": [
       "              Cured       Deaths      Confirmed\n",
       "count   2991.000000  2991.000000    2991.000000\n",
       "mean     927.865597    64.840187    2202.333668\n",
       "std     3354.157599   264.954939    7548.386880\n",
       "min        0.000000     0.000000       0.000000\n",
       "25%        1.000000     0.000000      12.000000\n",
       "50%       25.000000     1.000000      94.000000\n",
       "75%      360.000000    17.000000    1259.000000\n",
       "max    47796.000000  3717.000000  101141.000000"
      ]
     },
     "execution_count": 16,
     "metadata": {},
     "output_type": "execute_result"
    }
   ],
   "source": [
    "df.describe()"
   ]
  },
  {
   "cell_type": "code",
   "execution_count": null,
   "metadata": {},
   "outputs": [],
   "source": [
    "print(df.info());"
   ]
  },
  {
   "cell_type": "code",
   "execution_count": null,
   "metadata": {},
   "outputs": [],
   "source": []
  },
  {
   "cell_type": "code",
   "execution_count": null,
   "metadata": {},
   "outputs": [],
   "source": []
  },
  {
   "cell_type": "code",
   "execution_count": null,
   "metadata": {},
   "outputs": [],
   "source": []
  },
  {
   "cell_type": "code",
   "execution_count": null,
   "metadata": {},
   "outputs": [],
   "source": []
  },
  {
   "cell_type": "code",
   "execution_count": null,
   "metadata": {},
   "outputs": [],
   "source": []
  },
  {
   "cell_type": "code",
   "execution_count": null,
   "metadata": {},
   "outputs": [],
   "source": []
  },
  {
   "cell_type": "code",
   "execution_count": null,
   "metadata": {},
   "outputs": [],
   "source": []
  },
  {
   "cell_type": "code",
   "execution_count": null,
   "metadata": {},
   "outputs": [],
   "source": []
  },
  {
   "cell_type": "code",
   "execution_count": null,
   "metadata": {},
   "outputs": [],
   "source": []
  },
  {
   "cell_type": "code",
   "execution_count": null,
   "metadata": {},
   "outputs": [],
   "source": []
  },
  {
   "cell_type": "code",
   "execution_count": null,
   "metadata": {},
   "outputs": [],
   "source": []
  },
  {
   "cell_type": "code",
   "execution_count": null,
   "metadata": {},
   "outputs": [],
   "source": []
  },
  {
   "cell_type": "code",
   "execution_count": null,
   "metadata": {},
   "outputs": [],
   "source": []
  },
  {
   "cell_type": "code",
   "execution_count": null,
   "metadata": {},
   "outputs": [],
   "source": []
  },
  {
   "cell_type": "code",
   "execution_count": null,
   "metadata": {},
   "outputs": [],
   "source": [
    "print(df[['Age', 'Height', 'Weight']].head())\n",
    "print(df.loc['Avery Bradley']);\n",
    "print(df.iloc[0:3, 0:5])\n",
    "\n",
    "df.loc[(df['Position'] == 'C') & (df['Age'] > 35)]\n",
    "df.loc[df['College'].isin(college_list)].head()\n",
    "df = df.dropna(how='all')\n"
   ]
  },
  {
   "cell_type": "code",
   "execution_count": null,
   "metadata": {},
   "outputs": [],
   "source": [
    "# filtering using query\n",
    "## query(), filter query should be given in string\n",
    "df.query('Age >=35 and Position ==\"SG\" and College==\"Duke\"')"
   ]
  },
  {
   "cell_type": "code",
   "execution_count": null,
   "metadata": {},
   "outputs": [],
   "source": [
    "df.groupby('Team')['Salary'].mean()\n",
    "df.groupby('Position')['Salary'].mean()"
   ]
  },
  {
   "cell_type": "code",
   "execution_count": 2,
   "metadata": {},
   "outputs": [],
   "source": [
    "import pandas as pd"
   ]
  },
  {
   "cell_type": "markdown",
   "metadata": {},
   "source": [
    "### Merge in Python"
   ]
  },
  {
   "cell_type": "code",
   "execution_count": 77,
   "metadata": {},
   "outputs": [],
   "source": [
    "# Merge\n",
    "t1 = pd.DataFrame({'A' : [1,5,7,9], 'B' : [2,4,6,8]}, index=['K0', 'K1', 'K2', 'K3'])\n",
    "\n",
    "t2 = pd.DataFrame({'C': [5,9,11,13], 'D': [2,6,10,12]}, index = ['K0', 'K1', 'K2', 'K3'])"
   ]
  },
  {
   "cell_type": "code",
   "execution_count": 78,
   "metadata": {},
   "outputs": [
    {
     "data": {
      "text/html": [
       "<div>\n",
       "<style scoped>\n",
       "    .dataframe tbody tr th:only-of-type {\n",
       "        vertical-align: middle;\n",
       "    }\n",
       "\n",
       "    .dataframe tbody tr th {\n",
       "        vertical-align: top;\n",
       "    }\n",
       "\n",
       "    .dataframe thead th {\n",
       "        text-align: right;\n",
       "    }\n",
       "</style>\n",
       "<table border=\"1\" class=\"dataframe\">\n",
       "  <thead>\n",
       "    <tr style=\"text-align: right;\">\n",
       "      <th></th>\n",
       "      <th>A</th>\n",
       "      <th>B</th>\n",
       "    </tr>\n",
       "  </thead>\n",
       "  <tbody>\n",
       "    <tr>\n",
       "      <th>K0</th>\n",
       "      <td>1</td>\n",
       "      <td>2</td>\n",
       "    </tr>\n",
       "    <tr>\n",
       "      <th>K1</th>\n",
       "      <td>5</td>\n",
       "      <td>4</td>\n",
       "    </tr>\n",
       "    <tr>\n",
       "      <th>K2</th>\n",
       "      <td>7</td>\n",
       "      <td>6</td>\n",
       "    </tr>\n",
       "    <tr>\n",
       "      <th>K3</th>\n",
       "      <td>9</td>\n",
       "      <td>8</td>\n",
       "    </tr>\n",
       "  </tbody>\n",
       "</table>\n",
       "</div>"
      ],
      "text/plain": [
       "    A  B\n",
       "K0  1  2\n",
       "K1  5  4\n",
       "K2  7  6\n",
       "K3  9  8"
      ]
     },
     "execution_count": 78,
     "metadata": {},
     "output_type": "execute_result"
    }
   ],
   "source": [
    "state_wise_cases\n",
    "\n",
    "state_wise_med\n",
    "\n",
    "\n",
    "state_wise_cases and medical\n",
    "\n",
    "state. total_case medical"
   ]
  },
  {
   "cell_type": "code",
   "execution_count": 81,
   "metadata": {},
   "outputs": [
    {
     "data": {
      "text/html": [
       "<div>\n",
       "<style scoped>\n",
       "    .dataframe tbody tr th:only-of-type {\n",
       "        vertical-align: middle;\n",
       "    }\n",
       "\n",
       "    .dataframe tbody tr th {\n",
       "        vertical-align: top;\n",
       "    }\n",
       "\n",
       "    .dataframe thead th {\n",
       "        text-align: right;\n",
       "    }\n",
       "</style>\n",
       "<table border=\"1\" class=\"dataframe\">\n",
       "  <thead>\n",
       "    <tr style=\"text-align: right;\">\n",
       "      <th></th>\n",
       "      <th>A</th>\n",
       "      <th>B</th>\n",
       "    </tr>\n",
       "  </thead>\n",
       "  <tbody>\n",
       "    <tr>\n",
       "      <th>K0</th>\n",
       "      <td>1</td>\n",
       "      <td>2</td>\n",
       "    </tr>\n",
       "    <tr>\n",
       "      <th>K1</th>\n",
       "      <td>5</td>\n",
       "      <td>4</td>\n",
       "    </tr>\n",
       "    <tr>\n",
       "      <th>K2</th>\n",
       "      <td>7</td>\n",
       "      <td>6</td>\n",
       "    </tr>\n",
       "    <tr>\n",
       "      <th>K3</th>\n",
       "      <td>9</td>\n",
       "      <td>8</td>\n",
       "    </tr>\n",
       "  </tbody>\n",
       "</table>\n",
       "</div>"
      ],
      "text/plain": [
       "    A  B\n",
       "K0  1  2\n",
       "K1  5  4\n",
       "K2  7  6\n",
       "K3  9  8"
      ]
     },
     "execution_count": 81,
     "metadata": {},
     "output_type": "execute_result"
    }
   ],
   "source": [
    "t1"
   ]
  },
  {
   "cell_type": "code",
   "execution_count": 80,
   "metadata": {},
   "outputs": [
    {
     "data": {
      "text/html": [
       "<div>\n",
       "<style scoped>\n",
       "    .dataframe tbody tr th:only-of-type {\n",
       "        vertical-align: middle;\n",
       "    }\n",
       "\n",
       "    .dataframe tbody tr th {\n",
       "        vertical-align: top;\n",
       "    }\n",
       "\n",
       "    .dataframe thead th {\n",
       "        text-align: right;\n",
       "    }\n",
       "</style>\n",
       "<table border=\"1\" class=\"dataframe\">\n",
       "  <thead>\n",
       "    <tr style=\"text-align: right;\">\n",
       "      <th></th>\n",
       "      <th>C</th>\n",
       "      <th>D</th>\n",
       "    </tr>\n",
       "  </thead>\n",
       "  <tbody>\n",
       "    <tr>\n",
       "      <th>K0</th>\n",
       "      <td>5</td>\n",
       "      <td>2</td>\n",
       "    </tr>\n",
       "    <tr>\n",
       "      <th>K1</th>\n",
       "      <td>9</td>\n",
       "      <td>6</td>\n",
       "    </tr>\n",
       "    <tr>\n",
       "      <th>K2</th>\n",
       "      <td>11</td>\n",
       "      <td>10</td>\n",
       "    </tr>\n",
       "    <tr>\n",
       "      <th>K3</th>\n",
       "      <td>13</td>\n",
       "      <td>12</td>\n",
       "    </tr>\n",
       "  </tbody>\n",
       "</table>\n",
       "</div>"
      ],
      "text/plain": [
       "     C   D\n",
       "K0   5   2\n",
       "K1   9   6\n",
       "K2  11  10\n",
       "K3  13  12"
      ]
     },
     "execution_count": 80,
     "metadata": {},
     "output_type": "execute_result"
    }
   ],
   "source": [
    "t2"
   ]
  },
  {
   "cell_type": "code",
   "execution_count": 86,
   "metadata": {},
   "outputs": [],
   "source": [
    "df_cases_beds_map = pd.merge(left = df_today, right= state_total_beds, how='left', left_on = ['State/UnionTerritory'], right_on=['State/UnionTerritory'])"
   ]
  },
  {
   "cell_type": "code",
   "execution_count": 89,
   "metadata": {},
   "outputs": [
    {
     "data": {
      "text/html": [
       "<div>\n",
       "<style scoped>\n",
       "    .dataframe tbody tr th:only-of-type {\n",
       "        vertical-align: middle;\n",
       "    }\n",
       "\n",
       "    .dataframe tbody tr th {\n",
       "        vertical-align: top;\n",
       "    }\n",
       "\n",
       "    .dataframe thead th {\n",
       "        text-align: right;\n",
       "    }\n",
       "</style>\n",
       "<table border=\"1\" class=\"dataframe\">\n",
       "  <thead>\n",
       "    <tr style=\"text-align: right;\">\n",
       "      <th></th>\n",
       "      <th>Date</th>\n",
       "      <th>Time</th>\n",
       "      <th>State/UnionTerritory</th>\n",
       "      <th>Cured</th>\n",
       "      <th>Deaths</th>\n",
       "      <th>Confirmed</th>\n",
       "      <th>Total_Active_Cases</th>\n",
       "      <th>Total</th>\n",
       "    </tr>\n",
       "  </thead>\n",
       "  <tbody>\n",
       "    <tr>\n",
       "      <th>0</th>\n",
       "      <td>13/06/20</td>\n",
       "      <td>8:00 AM</td>\n",
       "      <td>Andaman and Nicobar Islands</td>\n",
       "      <td>33</td>\n",
       "      <td>0</td>\n",
       "      <td>38</td>\n",
       "      <td>5</td>\n",
       "      <td>NaN</td>\n",
       "    </tr>\n",
       "    <tr>\n",
       "      <th>1</th>\n",
       "      <td>13/06/20</td>\n",
       "      <td>8:00 AM</td>\n",
       "      <td>Andhra Pradesh</td>\n",
       "      <td>3105</td>\n",
       "      <td>80</td>\n",
       "      <td>5680</td>\n",
       "      <td>2495</td>\n",
       "      <td>86110.0</td>\n",
       "    </tr>\n",
       "    <tr>\n",
       "      <th>2</th>\n",
       "      <td>13/06/20</td>\n",
       "      <td>8:00 AM</td>\n",
       "      <td>Arunachal Pradesh</td>\n",
       "      <td>4</td>\n",
       "      <td>0</td>\n",
       "      <td>67</td>\n",
       "      <td>63</td>\n",
       "      <td>5218.0</td>\n",
       "    </tr>\n",
       "    <tr>\n",
       "      <th>3</th>\n",
       "      <td>13/06/20</td>\n",
       "      <td>8:00 AM</td>\n",
       "      <td>Assam</td>\n",
       "      <td>1537</td>\n",
       "      <td>8</td>\n",
       "      <td>3498</td>\n",
       "      <td>1953</td>\n",
       "      <td>38916.0</td>\n",
       "    </tr>\n",
       "    <tr>\n",
       "      <th>4</th>\n",
       "      <td>13/06/20</td>\n",
       "      <td>8:00 AM</td>\n",
       "      <td>Bihar</td>\n",
       "      <td>3587</td>\n",
       "      <td>36</td>\n",
       "      <td>6103</td>\n",
       "      <td>2480</td>\n",
       "      <td>33133.0</td>\n",
       "    </tr>\n",
       "  </tbody>\n",
       "</table>\n",
       "</div>"
      ],
      "text/plain": [
       "       Date     Time         State/UnionTerritory  Cured  Deaths  Confirmed  \\\n",
       "0  13/06/20  8:00 AM  Andaman and Nicobar Islands     33       0         38   \n",
       "1  13/06/20  8:00 AM               Andhra Pradesh   3105      80       5680   \n",
       "2  13/06/20  8:00 AM            Arunachal Pradesh      4       0         67   \n",
       "3  13/06/20  8:00 AM                        Assam   1537       8       3498   \n",
       "4  13/06/20  8:00 AM                        Bihar   3587      36       6103   \n",
       "\n",
       "   Total_Active_Cases    Total  \n",
       "0                   5      NaN  \n",
       "1                2495  86110.0  \n",
       "2                  63   5218.0  \n",
       "3                1953  38916.0  \n",
       "4                2480  33133.0  "
      ]
     },
     "execution_count": 89,
     "metadata": {},
     "output_type": "execute_result"
    }
   ],
   "source": [
    "df_cases_beds_map.head()"
   ]
  },
  {
   "cell_type": "code",
   "execution_count": 96,
   "metadata": {},
   "outputs": [
    {
     "data": {
      "application/vnd.plotly.v1+json": {
       "config": {
        "plotlyServerURL": "https://plot.ly"
       },
       "data": [
        {
         "alignmentgroup": "True",
         "hoverlabel": {
          "namelength": 0
         },
         "hovertemplate": "<b>%{hovertext}</b><br><br>State/UnionTerritory=%{x}<br>Total=%{y}",
         "hovertext": [
          5,
          2495,
          63,
          1953,
          2480,
          43,
          873,
          28,
          22212,
          394,
          5619,
          3789,
          183,
          2591,
          937,
          2997,
          1303,
          176,
          2802,
          49628,
          308,
          21,
          103,
          107,
          1014,
          88,
          641,
          2898,
          61,
          18284,
          2032,
          682,
          756,
          4642,
          5587,
          7984
         ],
         "legendgroup": "",
         "marker": {
          "color": "#636efa"
         },
         "name": "",
         "offsetgroup": "",
         "orientation": "v",
         "showlegend": false,
         "textposition": "auto",
         "type": "bar",
         "x": [
          "Andaman and Nicobar Islands",
          "Andhra Pradesh",
          "Arunachal Pradesh",
          "Assam",
          "Bihar",
          "Chandigarh",
          "Chhattisgarh",
          "Dadra and Nagar Haveli and Daman and Diu",
          "Delhi",
          "Goa",
          "Gujarat",
          "Haryana",
          "Himachal Pradesh",
          "Jammu and Kashmir",
          "Jharkhand",
          "Karnataka",
          "Kerala",
          "Ladakh",
          "Madhya Pradesh",
          "Maharashtra",
          "Manipur",
          "Meghalaya",
          "Mizoram",
          "Nagaland",
          "Odisha",
          "Puducherry",
          "Punjab",
          "Rajasthan",
          "Sikkim",
          "Tamil Nadu",
          "Telangana",
          "Tripura",
          "Uttarakhand",
          "Uttar Pradesh",
          "West Bengal",
          "Cases being reassigned to states"
         ],
         "xaxis": "x",
         "y": [
          null,
          86110,
          5218,
          38916,
          33133,
          4592,
          25213,
          null,
          45760,
          5770,
          76597,
          26615,
          22732,
          null,
          19516,
          132682,
          80456,
          null,
          69744,
          124995,
          4160,
          9421,
          4508,
          4058,
          39058,
          8111,
          33105,
          88259,
          2777,
          154673,
          40280,
          9667,
          16123,
          144172,
          133731,
          null
         ],
         "yaxis": "y"
        }
       ],
       "layout": {
        "barmode": "relative",
        "legend": {
         "tracegroupgap": 0
        },
        "margin": {
         "t": 60
        },
        "template": {
         "data": {
          "bar": [
           {
            "error_x": {
             "color": "#2a3f5f"
            },
            "error_y": {
             "color": "#2a3f5f"
            },
            "marker": {
             "line": {
              "color": "#E5ECF6",
              "width": 0.5
             }
            },
            "type": "bar"
           }
          ],
          "barpolar": [
           {
            "marker": {
             "line": {
              "color": "#E5ECF6",
              "width": 0.5
             }
            },
            "type": "barpolar"
           }
          ],
          "carpet": [
           {
            "aaxis": {
             "endlinecolor": "#2a3f5f",
             "gridcolor": "white",
             "linecolor": "white",
             "minorgridcolor": "white",
             "startlinecolor": "#2a3f5f"
            },
            "baxis": {
             "endlinecolor": "#2a3f5f",
             "gridcolor": "white",
             "linecolor": "white",
             "minorgridcolor": "white",
             "startlinecolor": "#2a3f5f"
            },
            "type": "carpet"
           }
          ],
          "choropleth": [
           {
            "colorbar": {
             "outlinewidth": 0,
             "ticks": ""
            },
            "type": "choropleth"
           }
          ],
          "contour": [
           {
            "colorbar": {
             "outlinewidth": 0,
             "ticks": ""
            },
            "colorscale": [
             [
              0,
              "#0d0887"
             ],
             [
              0.1111111111111111,
              "#46039f"
             ],
             [
              0.2222222222222222,
              "#7201a8"
             ],
             [
              0.3333333333333333,
              "#9c179e"
             ],
             [
              0.4444444444444444,
              "#bd3786"
             ],
             [
              0.5555555555555556,
              "#d8576b"
             ],
             [
              0.6666666666666666,
              "#ed7953"
             ],
             [
              0.7777777777777778,
              "#fb9f3a"
             ],
             [
              0.8888888888888888,
              "#fdca26"
             ],
             [
              1,
              "#f0f921"
             ]
            ],
            "type": "contour"
           }
          ],
          "contourcarpet": [
           {
            "colorbar": {
             "outlinewidth": 0,
             "ticks": ""
            },
            "type": "contourcarpet"
           }
          ],
          "heatmap": [
           {
            "colorbar": {
             "outlinewidth": 0,
             "ticks": ""
            },
            "colorscale": [
             [
              0,
              "#0d0887"
             ],
             [
              0.1111111111111111,
              "#46039f"
             ],
             [
              0.2222222222222222,
              "#7201a8"
             ],
             [
              0.3333333333333333,
              "#9c179e"
             ],
             [
              0.4444444444444444,
              "#bd3786"
             ],
             [
              0.5555555555555556,
              "#d8576b"
             ],
             [
              0.6666666666666666,
              "#ed7953"
             ],
             [
              0.7777777777777778,
              "#fb9f3a"
             ],
             [
              0.8888888888888888,
              "#fdca26"
             ],
             [
              1,
              "#f0f921"
             ]
            ],
            "type": "heatmap"
           }
          ],
          "heatmapgl": [
           {
            "colorbar": {
             "outlinewidth": 0,
             "ticks": ""
            },
            "colorscale": [
             [
              0,
              "#0d0887"
             ],
             [
              0.1111111111111111,
              "#46039f"
             ],
             [
              0.2222222222222222,
              "#7201a8"
             ],
             [
              0.3333333333333333,
              "#9c179e"
             ],
             [
              0.4444444444444444,
              "#bd3786"
             ],
             [
              0.5555555555555556,
              "#d8576b"
             ],
             [
              0.6666666666666666,
              "#ed7953"
             ],
             [
              0.7777777777777778,
              "#fb9f3a"
             ],
             [
              0.8888888888888888,
              "#fdca26"
             ],
             [
              1,
              "#f0f921"
             ]
            ],
            "type": "heatmapgl"
           }
          ],
          "histogram": [
           {
            "marker": {
             "colorbar": {
              "outlinewidth": 0,
              "ticks": ""
             }
            },
            "type": "histogram"
           }
          ],
          "histogram2d": [
           {
            "colorbar": {
             "outlinewidth": 0,
             "ticks": ""
            },
            "colorscale": [
             [
              0,
              "#0d0887"
             ],
             [
              0.1111111111111111,
              "#46039f"
             ],
             [
              0.2222222222222222,
              "#7201a8"
             ],
             [
              0.3333333333333333,
              "#9c179e"
             ],
             [
              0.4444444444444444,
              "#bd3786"
             ],
             [
              0.5555555555555556,
              "#d8576b"
             ],
             [
              0.6666666666666666,
              "#ed7953"
             ],
             [
              0.7777777777777778,
              "#fb9f3a"
             ],
             [
              0.8888888888888888,
              "#fdca26"
             ],
             [
              1,
              "#f0f921"
             ]
            ],
            "type": "histogram2d"
           }
          ],
          "histogram2dcontour": [
           {
            "colorbar": {
             "outlinewidth": 0,
             "ticks": ""
            },
            "colorscale": [
             [
              0,
              "#0d0887"
             ],
             [
              0.1111111111111111,
              "#46039f"
             ],
             [
              0.2222222222222222,
              "#7201a8"
             ],
             [
              0.3333333333333333,
              "#9c179e"
             ],
             [
              0.4444444444444444,
              "#bd3786"
             ],
             [
              0.5555555555555556,
              "#d8576b"
             ],
             [
              0.6666666666666666,
              "#ed7953"
             ],
             [
              0.7777777777777778,
              "#fb9f3a"
             ],
             [
              0.8888888888888888,
              "#fdca26"
             ],
             [
              1,
              "#f0f921"
             ]
            ],
            "type": "histogram2dcontour"
           }
          ],
          "mesh3d": [
           {
            "colorbar": {
             "outlinewidth": 0,
             "ticks": ""
            },
            "type": "mesh3d"
           }
          ],
          "parcoords": [
           {
            "line": {
             "colorbar": {
              "outlinewidth": 0,
              "ticks": ""
             }
            },
            "type": "parcoords"
           }
          ],
          "pie": [
           {
            "automargin": true,
            "type": "pie"
           }
          ],
          "scatter": [
           {
            "marker": {
             "colorbar": {
              "outlinewidth": 0,
              "ticks": ""
             }
            },
            "type": "scatter"
           }
          ],
          "scatter3d": [
           {
            "line": {
             "colorbar": {
              "outlinewidth": 0,
              "ticks": ""
             }
            },
            "marker": {
             "colorbar": {
              "outlinewidth": 0,
              "ticks": ""
             }
            },
            "type": "scatter3d"
           }
          ],
          "scattercarpet": [
           {
            "marker": {
             "colorbar": {
              "outlinewidth": 0,
              "ticks": ""
             }
            },
            "type": "scattercarpet"
           }
          ],
          "scattergeo": [
           {
            "marker": {
             "colorbar": {
              "outlinewidth": 0,
              "ticks": ""
             }
            },
            "type": "scattergeo"
           }
          ],
          "scattergl": [
           {
            "marker": {
             "colorbar": {
              "outlinewidth": 0,
              "ticks": ""
             }
            },
            "type": "scattergl"
           }
          ],
          "scattermapbox": [
           {
            "marker": {
             "colorbar": {
              "outlinewidth": 0,
              "ticks": ""
             }
            },
            "type": "scattermapbox"
           }
          ],
          "scatterpolar": [
           {
            "marker": {
             "colorbar": {
              "outlinewidth": 0,
              "ticks": ""
             }
            },
            "type": "scatterpolar"
           }
          ],
          "scatterpolargl": [
           {
            "marker": {
             "colorbar": {
              "outlinewidth": 0,
              "ticks": ""
             }
            },
            "type": "scatterpolargl"
           }
          ],
          "scatterternary": [
           {
            "marker": {
             "colorbar": {
              "outlinewidth": 0,
              "ticks": ""
             }
            },
            "type": "scatterternary"
           }
          ],
          "surface": [
           {
            "colorbar": {
             "outlinewidth": 0,
             "ticks": ""
            },
            "colorscale": [
             [
              0,
              "#0d0887"
             ],
             [
              0.1111111111111111,
              "#46039f"
             ],
             [
              0.2222222222222222,
              "#7201a8"
             ],
             [
              0.3333333333333333,
              "#9c179e"
             ],
             [
              0.4444444444444444,
              "#bd3786"
             ],
             [
              0.5555555555555556,
              "#d8576b"
             ],
             [
              0.6666666666666666,
              "#ed7953"
             ],
             [
              0.7777777777777778,
              "#fb9f3a"
             ],
             [
              0.8888888888888888,
              "#fdca26"
             ],
             [
              1,
              "#f0f921"
             ]
            ],
            "type": "surface"
           }
          ],
          "table": [
           {
            "cells": {
             "fill": {
              "color": "#EBF0F8"
             },
             "line": {
              "color": "white"
             }
            },
            "header": {
             "fill": {
              "color": "#C8D4E3"
             },
             "line": {
              "color": "white"
             }
            },
            "type": "table"
           }
          ]
         },
         "layout": {
          "annotationdefaults": {
           "arrowcolor": "#2a3f5f",
           "arrowhead": 0,
           "arrowwidth": 1
          },
          "coloraxis": {
           "colorbar": {
            "outlinewidth": 0,
            "ticks": ""
           }
          },
          "colorscale": {
           "diverging": [
            [
             0,
             "#8e0152"
            ],
            [
             0.1,
             "#c51b7d"
            ],
            [
             0.2,
             "#de77ae"
            ],
            [
             0.3,
             "#f1b6da"
            ],
            [
             0.4,
             "#fde0ef"
            ],
            [
             0.5,
             "#f7f7f7"
            ],
            [
             0.6,
             "#e6f5d0"
            ],
            [
             0.7,
             "#b8e186"
            ],
            [
             0.8,
             "#7fbc41"
            ],
            [
             0.9,
             "#4d9221"
            ],
            [
             1,
             "#276419"
            ]
           ],
           "sequential": [
            [
             0,
             "#0d0887"
            ],
            [
             0.1111111111111111,
             "#46039f"
            ],
            [
             0.2222222222222222,
             "#7201a8"
            ],
            [
             0.3333333333333333,
             "#9c179e"
            ],
            [
             0.4444444444444444,
             "#bd3786"
            ],
            [
             0.5555555555555556,
             "#d8576b"
            ],
            [
             0.6666666666666666,
             "#ed7953"
            ],
            [
             0.7777777777777778,
             "#fb9f3a"
            ],
            [
             0.8888888888888888,
             "#fdca26"
            ],
            [
             1,
             "#f0f921"
            ]
           ],
           "sequentialminus": [
            [
             0,
             "#0d0887"
            ],
            [
             0.1111111111111111,
             "#46039f"
            ],
            [
             0.2222222222222222,
             "#7201a8"
            ],
            [
             0.3333333333333333,
             "#9c179e"
            ],
            [
             0.4444444444444444,
             "#bd3786"
            ],
            [
             0.5555555555555556,
             "#d8576b"
            ],
            [
             0.6666666666666666,
             "#ed7953"
            ],
            [
             0.7777777777777778,
             "#fb9f3a"
            ],
            [
             0.8888888888888888,
             "#fdca26"
            ],
            [
             1,
             "#f0f921"
            ]
           ]
          },
          "colorway": [
           "#636efa",
           "#EF553B",
           "#00cc96",
           "#ab63fa",
           "#FFA15A",
           "#19d3f3",
           "#FF6692",
           "#B6E880",
           "#FF97FF",
           "#FECB52"
          ],
          "font": {
           "color": "#2a3f5f"
          },
          "geo": {
           "bgcolor": "white",
           "lakecolor": "white",
           "landcolor": "#E5ECF6",
           "showlakes": true,
           "showland": true,
           "subunitcolor": "white"
          },
          "hoverlabel": {
           "align": "left"
          },
          "hovermode": "closest",
          "mapbox": {
           "style": "light"
          },
          "paper_bgcolor": "white",
          "plot_bgcolor": "#E5ECF6",
          "polar": {
           "angularaxis": {
            "gridcolor": "white",
            "linecolor": "white",
            "ticks": ""
           },
           "bgcolor": "#E5ECF6",
           "radialaxis": {
            "gridcolor": "white",
            "linecolor": "white",
            "ticks": ""
           }
          },
          "scene": {
           "xaxis": {
            "backgroundcolor": "#E5ECF6",
            "gridcolor": "white",
            "gridwidth": 2,
            "linecolor": "white",
            "showbackground": true,
            "ticks": "",
            "zerolinecolor": "white"
           },
           "yaxis": {
            "backgroundcolor": "#E5ECF6",
            "gridcolor": "white",
            "gridwidth": 2,
            "linecolor": "white",
            "showbackground": true,
            "ticks": "",
            "zerolinecolor": "white"
           },
           "zaxis": {
            "backgroundcolor": "#E5ECF6",
            "gridcolor": "white",
            "gridwidth": 2,
            "linecolor": "white",
            "showbackground": true,
            "ticks": "",
            "zerolinecolor": "white"
           }
          },
          "shapedefaults": {
           "line": {
            "color": "#2a3f5f"
           }
          },
          "ternary": {
           "aaxis": {
            "gridcolor": "white",
            "linecolor": "white",
            "ticks": ""
           },
           "baxis": {
            "gridcolor": "white",
            "linecolor": "white",
            "ticks": ""
           },
           "bgcolor": "#E5ECF6",
           "caxis": {
            "gridcolor": "white",
            "linecolor": "white",
            "ticks": ""
           }
          },
          "title": {
           "x": 0.05
          },
          "xaxis": {
           "automargin": true,
           "gridcolor": "white",
           "linecolor": "white",
           "ticks": "",
           "title": {
            "standoff": 15
           },
           "zerolinecolor": "white",
           "zerolinewidth": 2
          },
          "yaxis": {
           "automargin": true,
           "gridcolor": "white",
           "linecolor": "white",
           "ticks": "",
           "title": {
            "standoff": 15
           },
           "zerolinecolor": "white",
           "zerolinewidth": 2
          }
         }
        },
        "xaxis": {
         "anchor": "y",
         "domain": [
          0,
          1
         ],
         "title": {
          "text": "State/UnionTerritory"
         }
        },
        "yaxis": {
         "anchor": "x",
         "domain": [
          0,
          1
         ],
         "title": {
          "text": "Total"
         }
        }
       }
      },
      "text/html": [
       "<div>\n",
       "        \n",
       "        \n",
       "            <div id=\"e069f56a-6ac2-4c05-a19f-650b3176a0ba\" class=\"plotly-graph-div\" style=\"height:525px; width:100%;\"></div>\n",
       "            <script type=\"text/javascript\">\n",
       "                require([\"plotly\"], function(Plotly) {\n",
       "                    window.PLOTLYENV=window.PLOTLYENV || {};\n",
       "                    \n",
       "                if (document.getElementById(\"e069f56a-6ac2-4c05-a19f-650b3176a0ba\")) {\n",
       "                    Plotly.newPlot(\n",
       "                        'e069f56a-6ac2-4c05-a19f-650b3176a0ba',\n",
       "                        [{\"alignmentgroup\": \"True\", \"hoverlabel\": {\"namelength\": 0}, \"hovertemplate\": \"<b>%{hovertext}</b><br><br>State/UnionTerritory=%{x}<br>Total=%{y}\", \"hovertext\": [5.0, 2495.0, 63.0, 1953.0, 2480.0, 43.0, 873.0, 28.0, 22212.0, 394.0, 5619.0, 3789.0, 183.0, 2591.0, 937.0, 2997.0, 1303.0, 176.0, 2802.0, 49628.0, 308.0, 21.0, 103.0, 107.0, 1014.0, 88.0, 641.0, 2898.0, 61.0, 18284.0, 2032.0, 682.0, 756.0, 4642.0, 5587.0, 7984.0], \"legendgroup\": \"\", \"marker\": {\"color\": \"#636efa\"}, \"name\": \"\", \"offsetgroup\": \"\", \"orientation\": \"v\", \"showlegend\": false, \"textposition\": \"auto\", \"type\": \"bar\", \"x\": [\"Andaman and Nicobar Islands\", \"Andhra Pradesh\", \"Arunachal Pradesh\", \"Assam\", \"Bihar\", \"Chandigarh\", \"Chhattisgarh\", \"Dadra and Nagar Haveli and Daman and Diu\", \"Delhi\", \"Goa\", \"Gujarat\", \"Haryana\", \"Himachal Pradesh\", \"Jammu and Kashmir\", \"Jharkhand\", \"Karnataka\", \"Kerala\", \"Ladakh\", \"Madhya Pradesh\", \"Maharashtra\", \"Manipur\", \"Meghalaya\", \"Mizoram\", \"Nagaland\", \"Odisha\", \"Puducherry\", \"Punjab\", \"Rajasthan\", \"Sikkim\", \"Tamil Nadu\", \"Telangana\", \"Tripura\", \"Uttarakhand\", \"Uttar Pradesh\", \"West Bengal\", \"Cases being reassigned to states\"], \"xaxis\": \"x\", \"y\": [null, 86110.0, 5218.0, 38916.0, 33133.0, 4592.0, 25213.0, null, 45760.0, 5770.0, 76597.0, 26615.0, 22732.0, null, 19516.0, 132682.0, 80456.0, null, 69744.0, 124995.0, 4160.0, 9421.0, 4508.0, 4058.0, 39058.0, 8111.0, 33105.0, 88259.0, 2777.0, 154673.0, 40280.0, 9667.0, 16123.0, 144172.0, 133731.0, null], \"yaxis\": \"y\"}],\n",
       "                        {\"barmode\": \"relative\", \"legend\": {\"tracegroupgap\": 0}, \"margin\": {\"t\": 60}, \"template\": {\"data\": {\"bar\": [{\"error_x\": {\"color\": \"#2a3f5f\"}, \"error_y\": {\"color\": \"#2a3f5f\"}, \"marker\": {\"line\": {\"color\": \"#E5ECF6\", \"width\": 0.5}}, \"type\": \"bar\"}], \"barpolar\": [{\"marker\": {\"line\": {\"color\": \"#E5ECF6\", \"width\": 0.5}}, \"type\": \"barpolar\"}], \"carpet\": [{\"aaxis\": {\"endlinecolor\": \"#2a3f5f\", \"gridcolor\": \"white\", \"linecolor\": \"white\", \"minorgridcolor\": \"white\", \"startlinecolor\": \"#2a3f5f\"}, \"baxis\": {\"endlinecolor\": \"#2a3f5f\", \"gridcolor\": \"white\", \"linecolor\": \"white\", \"minorgridcolor\": \"white\", \"startlinecolor\": \"#2a3f5f\"}, \"type\": \"carpet\"}], \"choropleth\": [{\"colorbar\": {\"outlinewidth\": 0, \"ticks\": \"\"}, \"type\": \"choropleth\"}], \"contour\": [{\"colorbar\": {\"outlinewidth\": 0, \"ticks\": \"\"}, \"colorscale\": [[0.0, \"#0d0887\"], [0.1111111111111111, \"#46039f\"], [0.2222222222222222, \"#7201a8\"], [0.3333333333333333, \"#9c179e\"], [0.4444444444444444, \"#bd3786\"], [0.5555555555555556, \"#d8576b\"], [0.6666666666666666, \"#ed7953\"], [0.7777777777777778, \"#fb9f3a\"], [0.8888888888888888, \"#fdca26\"], [1.0, \"#f0f921\"]], \"type\": \"contour\"}], \"contourcarpet\": [{\"colorbar\": {\"outlinewidth\": 0, \"ticks\": \"\"}, \"type\": \"contourcarpet\"}], \"heatmap\": [{\"colorbar\": {\"outlinewidth\": 0, \"ticks\": \"\"}, \"colorscale\": [[0.0, \"#0d0887\"], [0.1111111111111111, \"#46039f\"], [0.2222222222222222, \"#7201a8\"], [0.3333333333333333, \"#9c179e\"], [0.4444444444444444, \"#bd3786\"], [0.5555555555555556, \"#d8576b\"], [0.6666666666666666, \"#ed7953\"], [0.7777777777777778, \"#fb9f3a\"], [0.8888888888888888, \"#fdca26\"], [1.0, \"#f0f921\"]], \"type\": \"heatmap\"}], \"heatmapgl\": [{\"colorbar\": {\"outlinewidth\": 0, \"ticks\": \"\"}, \"colorscale\": [[0.0, \"#0d0887\"], [0.1111111111111111, \"#46039f\"], [0.2222222222222222, \"#7201a8\"], [0.3333333333333333, \"#9c179e\"], [0.4444444444444444, \"#bd3786\"], [0.5555555555555556, \"#d8576b\"], [0.6666666666666666, \"#ed7953\"], [0.7777777777777778, \"#fb9f3a\"], [0.8888888888888888, \"#fdca26\"], [1.0, \"#f0f921\"]], \"type\": \"heatmapgl\"}], \"histogram\": [{\"marker\": {\"colorbar\": {\"outlinewidth\": 0, \"ticks\": \"\"}}, \"type\": \"histogram\"}], \"histogram2d\": [{\"colorbar\": {\"outlinewidth\": 0, \"ticks\": \"\"}, \"colorscale\": [[0.0, \"#0d0887\"], [0.1111111111111111, \"#46039f\"], [0.2222222222222222, \"#7201a8\"], [0.3333333333333333, \"#9c179e\"], [0.4444444444444444, \"#bd3786\"], [0.5555555555555556, \"#d8576b\"], [0.6666666666666666, \"#ed7953\"], [0.7777777777777778, \"#fb9f3a\"], [0.8888888888888888, \"#fdca26\"], [1.0, \"#f0f921\"]], \"type\": \"histogram2d\"}], \"histogram2dcontour\": [{\"colorbar\": {\"outlinewidth\": 0, \"ticks\": \"\"}, \"colorscale\": [[0.0, \"#0d0887\"], [0.1111111111111111, \"#46039f\"], [0.2222222222222222, \"#7201a8\"], [0.3333333333333333, \"#9c179e\"], [0.4444444444444444, \"#bd3786\"], [0.5555555555555556, \"#d8576b\"], [0.6666666666666666, \"#ed7953\"], [0.7777777777777778, \"#fb9f3a\"], [0.8888888888888888, \"#fdca26\"], [1.0, \"#f0f921\"]], \"type\": \"histogram2dcontour\"}], \"mesh3d\": [{\"colorbar\": {\"outlinewidth\": 0, \"ticks\": \"\"}, \"type\": \"mesh3d\"}], \"parcoords\": [{\"line\": {\"colorbar\": {\"outlinewidth\": 0, \"ticks\": \"\"}}, \"type\": \"parcoords\"}], \"pie\": [{\"automargin\": true, \"type\": \"pie\"}], \"scatter\": [{\"marker\": {\"colorbar\": {\"outlinewidth\": 0, \"ticks\": \"\"}}, \"type\": \"scatter\"}], \"scatter3d\": [{\"line\": {\"colorbar\": {\"outlinewidth\": 0, \"ticks\": \"\"}}, \"marker\": {\"colorbar\": {\"outlinewidth\": 0, \"ticks\": \"\"}}, \"type\": \"scatter3d\"}], \"scattercarpet\": [{\"marker\": {\"colorbar\": {\"outlinewidth\": 0, \"ticks\": \"\"}}, \"type\": \"scattercarpet\"}], \"scattergeo\": [{\"marker\": {\"colorbar\": {\"outlinewidth\": 0, \"ticks\": \"\"}}, \"type\": \"scattergeo\"}], \"scattergl\": [{\"marker\": {\"colorbar\": {\"outlinewidth\": 0, \"ticks\": \"\"}}, \"type\": \"scattergl\"}], \"scattermapbox\": [{\"marker\": {\"colorbar\": {\"outlinewidth\": 0, \"ticks\": \"\"}}, \"type\": \"scattermapbox\"}], \"scatterpolar\": [{\"marker\": {\"colorbar\": {\"outlinewidth\": 0, \"ticks\": \"\"}}, \"type\": \"scatterpolar\"}], \"scatterpolargl\": [{\"marker\": {\"colorbar\": {\"outlinewidth\": 0, \"ticks\": \"\"}}, \"type\": \"scatterpolargl\"}], \"scatterternary\": [{\"marker\": {\"colorbar\": {\"outlinewidth\": 0, \"ticks\": \"\"}}, \"type\": \"scatterternary\"}], \"surface\": [{\"colorbar\": {\"outlinewidth\": 0, \"ticks\": \"\"}, \"colorscale\": [[0.0, \"#0d0887\"], [0.1111111111111111, \"#46039f\"], [0.2222222222222222, \"#7201a8\"], [0.3333333333333333, \"#9c179e\"], [0.4444444444444444, \"#bd3786\"], [0.5555555555555556, \"#d8576b\"], [0.6666666666666666, \"#ed7953\"], [0.7777777777777778, \"#fb9f3a\"], [0.8888888888888888, \"#fdca26\"], [1.0, \"#f0f921\"]], \"type\": \"surface\"}], \"table\": [{\"cells\": {\"fill\": {\"color\": \"#EBF0F8\"}, \"line\": {\"color\": \"white\"}}, \"header\": {\"fill\": {\"color\": \"#C8D4E3\"}, \"line\": {\"color\": \"white\"}}, \"type\": \"table\"}]}, \"layout\": {\"annotationdefaults\": {\"arrowcolor\": \"#2a3f5f\", \"arrowhead\": 0, \"arrowwidth\": 1}, \"coloraxis\": {\"colorbar\": {\"outlinewidth\": 0, \"ticks\": \"\"}}, \"colorscale\": {\"diverging\": [[0, \"#8e0152\"], [0.1, \"#c51b7d\"], [0.2, \"#de77ae\"], [0.3, \"#f1b6da\"], [0.4, \"#fde0ef\"], [0.5, \"#f7f7f7\"], [0.6, \"#e6f5d0\"], [0.7, \"#b8e186\"], [0.8, \"#7fbc41\"], [0.9, \"#4d9221\"], [1, \"#276419\"]], \"sequential\": [[0.0, \"#0d0887\"], [0.1111111111111111, \"#46039f\"], [0.2222222222222222, \"#7201a8\"], [0.3333333333333333, \"#9c179e\"], [0.4444444444444444, \"#bd3786\"], [0.5555555555555556, \"#d8576b\"], [0.6666666666666666, \"#ed7953\"], [0.7777777777777778, \"#fb9f3a\"], [0.8888888888888888, \"#fdca26\"], [1.0, \"#f0f921\"]], \"sequentialminus\": [[0.0, \"#0d0887\"], [0.1111111111111111, \"#46039f\"], [0.2222222222222222, \"#7201a8\"], [0.3333333333333333, \"#9c179e\"], [0.4444444444444444, \"#bd3786\"], [0.5555555555555556, \"#d8576b\"], [0.6666666666666666, \"#ed7953\"], [0.7777777777777778, \"#fb9f3a\"], [0.8888888888888888, \"#fdca26\"], [1.0, \"#f0f921\"]]}, \"colorway\": [\"#636efa\", \"#EF553B\", \"#00cc96\", \"#ab63fa\", \"#FFA15A\", \"#19d3f3\", \"#FF6692\", \"#B6E880\", \"#FF97FF\", \"#FECB52\"], \"font\": {\"color\": \"#2a3f5f\"}, \"geo\": {\"bgcolor\": \"white\", \"lakecolor\": \"white\", \"landcolor\": \"#E5ECF6\", \"showlakes\": true, \"showland\": true, \"subunitcolor\": \"white\"}, \"hoverlabel\": {\"align\": \"left\"}, \"hovermode\": \"closest\", \"mapbox\": {\"style\": \"light\"}, \"paper_bgcolor\": \"white\", \"plot_bgcolor\": \"#E5ECF6\", \"polar\": {\"angularaxis\": {\"gridcolor\": \"white\", \"linecolor\": \"white\", \"ticks\": \"\"}, \"bgcolor\": \"#E5ECF6\", \"radialaxis\": {\"gridcolor\": \"white\", \"linecolor\": \"white\", \"ticks\": \"\"}}, \"scene\": {\"xaxis\": {\"backgroundcolor\": \"#E5ECF6\", \"gridcolor\": \"white\", \"gridwidth\": 2, \"linecolor\": \"white\", \"showbackground\": true, \"ticks\": \"\", \"zerolinecolor\": \"white\"}, \"yaxis\": {\"backgroundcolor\": \"#E5ECF6\", \"gridcolor\": \"white\", \"gridwidth\": 2, \"linecolor\": \"white\", \"showbackground\": true, \"ticks\": \"\", \"zerolinecolor\": \"white\"}, \"zaxis\": {\"backgroundcolor\": \"#E5ECF6\", \"gridcolor\": \"white\", \"gridwidth\": 2, \"linecolor\": \"white\", \"showbackground\": true, \"ticks\": \"\", \"zerolinecolor\": \"white\"}}, \"shapedefaults\": {\"line\": {\"color\": \"#2a3f5f\"}}, \"ternary\": {\"aaxis\": {\"gridcolor\": \"white\", \"linecolor\": \"white\", \"ticks\": \"\"}, \"baxis\": {\"gridcolor\": \"white\", \"linecolor\": \"white\", \"ticks\": \"\"}, \"bgcolor\": \"#E5ECF6\", \"caxis\": {\"gridcolor\": \"white\", \"linecolor\": \"white\", \"ticks\": \"\"}}, \"title\": {\"x\": 0.05}, \"xaxis\": {\"automargin\": true, \"gridcolor\": \"white\", \"linecolor\": \"white\", \"ticks\": \"\", \"title\": {\"standoff\": 15}, \"zerolinecolor\": \"white\", \"zerolinewidth\": 2}, \"yaxis\": {\"automargin\": true, \"gridcolor\": \"white\", \"linecolor\": \"white\", \"ticks\": \"\", \"title\": {\"standoff\": 15}, \"zerolinecolor\": \"white\", \"zerolinewidth\": 2}}}, \"xaxis\": {\"anchor\": \"y\", \"domain\": [0.0, 1.0], \"title\": {\"text\": \"State/UnionTerritory\"}}, \"yaxis\": {\"anchor\": \"x\", \"domain\": [0.0, 1.0], \"title\": {\"text\": \"Total\"}}},\n",
       "                        {\"responsive\": true}\n",
       "                    ).then(function(){\n",
       "                            \n",
       "var gd = document.getElementById('e069f56a-6ac2-4c05-a19f-650b3176a0ba');\n",
       "var x = new MutationObserver(function (mutations, observer) {{\n",
       "        var display = window.getComputedStyle(gd).display;\n",
       "        if (!display || display === 'none') {{\n",
       "            console.log([gd, 'removed!']);\n",
       "            Plotly.purge(gd);\n",
       "            observer.disconnect();\n",
       "        }}\n",
       "}});\n",
       "\n",
       "// Listen for the removal of the full notebook cells\n",
       "var notebookContainer = gd.closest('#notebook-container');\n",
       "if (notebookContainer) {{\n",
       "    x.observe(notebookContainer, {childList: true});\n",
       "}}\n",
       "\n",
       "// Listen for the clearing of the current output cell\n",
       "var outputEl = gd.closest('.output');\n",
       "if (outputEl) {{\n",
       "    x.observe(outputEl, {childList: true});\n",
       "}}\n",
       "\n",
       "                        })\n",
       "                };\n",
       "                });\n",
       "            </script>\n",
       "        </div>"
      ]
     },
     "metadata": {},
     "output_type": "display_data"
    }
   ],
   "source": [
    "px.bar(df_cases_beds_map, x='State/UnionTerritory', y='Total', hover_name = 'Total_Active_Cases')"
   ]
  },
  {
   "cell_type": "code",
   "execution_count": 103,
   "metadata": {},
   "outputs": [
    {
     "data": {
      "application/vnd.plotly.v1+json": {
       "config": {
        "plotlyServerURL": "https://plot.ly"
       },
       "data": [
        {
         "hoverlabel": {
          "namelength": 0
         },
         "hovertemplate": "State/UnionTerritory=%{x}<br>Total_Active_Cases=%{marker.color}",
         "legendgroup": "",
         "marker": {
          "color": [
           5,
           2495,
           63,
           1953,
           2480,
           43,
           873,
           28,
           22212,
           394,
           5619,
           3789,
           183,
           2591,
           937,
           2997,
           1303,
           176,
           2802,
           49628,
           308,
           21,
           103,
           107,
           1014,
           88,
           641,
           2898,
           61,
           18284,
           2032,
           682,
           756,
           4642,
           5587,
           7984
          ],
          "coloraxis": "coloraxis",
          "symbol": "circle"
         },
         "mode": "markers",
         "name": "",
         "showlegend": false,
         "type": "scatter",
         "x": [
          "Andaman and Nicobar Islands",
          "Andhra Pradesh",
          "Arunachal Pradesh",
          "Assam",
          "Bihar",
          "Chandigarh",
          "Chhattisgarh",
          "Dadra and Nagar Haveli and Daman and Diu",
          "Delhi",
          "Goa",
          "Gujarat",
          "Haryana",
          "Himachal Pradesh",
          "Jammu and Kashmir",
          "Jharkhand",
          "Karnataka",
          "Kerala",
          "Ladakh",
          "Madhya Pradesh",
          "Maharashtra",
          "Manipur",
          "Meghalaya",
          "Mizoram",
          "Nagaland",
          "Odisha",
          "Puducherry",
          "Punjab",
          "Rajasthan",
          "Sikkim",
          "Tamil Nadu",
          "Telangana",
          "Tripura",
          "Uttarakhand",
          "Uttar Pradesh",
          "West Bengal",
          "Cases being reassigned to states"
         ],
         "xaxis": "x",
         "y": [
          5,
          2495,
          63,
          1953,
          2480,
          43,
          873,
          28,
          22212,
          394,
          5619,
          3789,
          183,
          2591,
          937,
          2997,
          1303,
          176,
          2802,
          49628,
          308,
          21,
          103,
          107,
          1014,
          88,
          641,
          2898,
          61,
          18284,
          2032,
          682,
          756,
          4642,
          5587,
          7984
         ],
         "yaxis": "y"
        }
       ],
       "layout": {
        "coloraxis": {
         "colorbar": {
          "title": {
           "text": "Total_Active_Cases"
          }
         },
         "colorscale": [
          [
           0,
           "#0d0887"
          ],
          [
           0.1111111111111111,
           "#46039f"
          ],
          [
           0.2222222222222222,
           "#7201a8"
          ],
          [
           0.3333333333333333,
           "#9c179e"
          ],
          [
           0.4444444444444444,
           "#bd3786"
          ],
          [
           0.5555555555555556,
           "#d8576b"
          ],
          [
           0.6666666666666666,
           "#ed7953"
          ],
          [
           0.7777777777777778,
           "#fb9f3a"
          ],
          [
           0.8888888888888888,
           "#fdca26"
          ],
          [
           1,
           "#f0f921"
          ]
         ]
        },
        "legend": {
         "tracegroupgap": 0
        },
        "margin": {
         "t": 60
        },
        "template": {
         "data": {
          "bar": [
           {
            "error_x": {
             "color": "#2a3f5f"
            },
            "error_y": {
             "color": "#2a3f5f"
            },
            "marker": {
             "line": {
              "color": "#E5ECF6",
              "width": 0.5
             }
            },
            "type": "bar"
           }
          ],
          "barpolar": [
           {
            "marker": {
             "line": {
              "color": "#E5ECF6",
              "width": 0.5
             }
            },
            "type": "barpolar"
           }
          ],
          "carpet": [
           {
            "aaxis": {
             "endlinecolor": "#2a3f5f",
             "gridcolor": "white",
             "linecolor": "white",
             "minorgridcolor": "white",
             "startlinecolor": "#2a3f5f"
            },
            "baxis": {
             "endlinecolor": "#2a3f5f",
             "gridcolor": "white",
             "linecolor": "white",
             "minorgridcolor": "white",
             "startlinecolor": "#2a3f5f"
            },
            "type": "carpet"
           }
          ],
          "choropleth": [
           {
            "colorbar": {
             "outlinewidth": 0,
             "ticks": ""
            },
            "type": "choropleth"
           }
          ],
          "contour": [
           {
            "colorbar": {
             "outlinewidth": 0,
             "ticks": ""
            },
            "colorscale": [
             [
              0,
              "#0d0887"
             ],
             [
              0.1111111111111111,
              "#46039f"
             ],
             [
              0.2222222222222222,
              "#7201a8"
             ],
             [
              0.3333333333333333,
              "#9c179e"
             ],
             [
              0.4444444444444444,
              "#bd3786"
             ],
             [
              0.5555555555555556,
              "#d8576b"
             ],
             [
              0.6666666666666666,
              "#ed7953"
             ],
             [
              0.7777777777777778,
              "#fb9f3a"
             ],
             [
              0.8888888888888888,
              "#fdca26"
             ],
             [
              1,
              "#f0f921"
             ]
            ],
            "type": "contour"
           }
          ],
          "contourcarpet": [
           {
            "colorbar": {
             "outlinewidth": 0,
             "ticks": ""
            },
            "type": "contourcarpet"
           }
          ],
          "heatmap": [
           {
            "colorbar": {
             "outlinewidth": 0,
             "ticks": ""
            },
            "colorscale": [
             [
              0,
              "#0d0887"
             ],
             [
              0.1111111111111111,
              "#46039f"
             ],
             [
              0.2222222222222222,
              "#7201a8"
             ],
             [
              0.3333333333333333,
              "#9c179e"
             ],
             [
              0.4444444444444444,
              "#bd3786"
             ],
             [
              0.5555555555555556,
              "#d8576b"
             ],
             [
              0.6666666666666666,
              "#ed7953"
             ],
             [
              0.7777777777777778,
              "#fb9f3a"
             ],
             [
              0.8888888888888888,
              "#fdca26"
             ],
             [
              1,
              "#f0f921"
             ]
            ],
            "type": "heatmap"
           }
          ],
          "heatmapgl": [
           {
            "colorbar": {
             "outlinewidth": 0,
             "ticks": ""
            },
            "colorscale": [
             [
              0,
              "#0d0887"
             ],
             [
              0.1111111111111111,
              "#46039f"
             ],
             [
              0.2222222222222222,
              "#7201a8"
             ],
             [
              0.3333333333333333,
              "#9c179e"
             ],
             [
              0.4444444444444444,
              "#bd3786"
             ],
             [
              0.5555555555555556,
              "#d8576b"
             ],
             [
              0.6666666666666666,
              "#ed7953"
             ],
             [
              0.7777777777777778,
              "#fb9f3a"
             ],
             [
              0.8888888888888888,
              "#fdca26"
             ],
             [
              1,
              "#f0f921"
             ]
            ],
            "type": "heatmapgl"
           }
          ],
          "histogram": [
           {
            "marker": {
             "colorbar": {
              "outlinewidth": 0,
              "ticks": ""
             }
            },
            "type": "histogram"
           }
          ],
          "histogram2d": [
           {
            "colorbar": {
             "outlinewidth": 0,
             "ticks": ""
            },
            "colorscale": [
             [
              0,
              "#0d0887"
             ],
             [
              0.1111111111111111,
              "#46039f"
             ],
             [
              0.2222222222222222,
              "#7201a8"
             ],
             [
              0.3333333333333333,
              "#9c179e"
             ],
             [
              0.4444444444444444,
              "#bd3786"
             ],
             [
              0.5555555555555556,
              "#d8576b"
             ],
             [
              0.6666666666666666,
              "#ed7953"
             ],
             [
              0.7777777777777778,
              "#fb9f3a"
             ],
             [
              0.8888888888888888,
              "#fdca26"
             ],
             [
              1,
              "#f0f921"
             ]
            ],
            "type": "histogram2d"
           }
          ],
          "histogram2dcontour": [
           {
            "colorbar": {
             "outlinewidth": 0,
             "ticks": ""
            },
            "colorscale": [
             [
              0,
              "#0d0887"
             ],
             [
              0.1111111111111111,
              "#46039f"
             ],
             [
              0.2222222222222222,
              "#7201a8"
             ],
             [
              0.3333333333333333,
              "#9c179e"
             ],
             [
              0.4444444444444444,
              "#bd3786"
             ],
             [
              0.5555555555555556,
              "#d8576b"
             ],
             [
              0.6666666666666666,
              "#ed7953"
             ],
             [
              0.7777777777777778,
              "#fb9f3a"
             ],
             [
              0.8888888888888888,
              "#fdca26"
             ],
             [
              1,
              "#f0f921"
             ]
            ],
            "type": "histogram2dcontour"
           }
          ],
          "mesh3d": [
           {
            "colorbar": {
             "outlinewidth": 0,
             "ticks": ""
            },
            "type": "mesh3d"
           }
          ],
          "parcoords": [
           {
            "line": {
             "colorbar": {
              "outlinewidth": 0,
              "ticks": ""
             }
            },
            "type": "parcoords"
           }
          ],
          "pie": [
           {
            "automargin": true,
            "type": "pie"
           }
          ],
          "scatter": [
           {
            "marker": {
             "colorbar": {
              "outlinewidth": 0,
              "ticks": ""
             }
            },
            "type": "scatter"
           }
          ],
          "scatter3d": [
           {
            "line": {
             "colorbar": {
              "outlinewidth": 0,
              "ticks": ""
             }
            },
            "marker": {
             "colorbar": {
              "outlinewidth": 0,
              "ticks": ""
             }
            },
            "type": "scatter3d"
           }
          ],
          "scattercarpet": [
           {
            "marker": {
             "colorbar": {
              "outlinewidth": 0,
              "ticks": ""
             }
            },
            "type": "scattercarpet"
           }
          ],
          "scattergeo": [
           {
            "marker": {
             "colorbar": {
              "outlinewidth": 0,
              "ticks": ""
             }
            },
            "type": "scattergeo"
           }
          ],
          "scattergl": [
           {
            "marker": {
             "colorbar": {
              "outlinewidth": 0,
              "ticks": ""
             }
            },
            "type": "scattergl"
           }
          ],
          "scattermapbox": [
           {
            "marker": {
             "colorbar": {
              "outlinewidth": 0,
              "ticks": ""
             }
            },
            "type": "scattermapbox"
           }
          ],
          "scatterpolar": [
           {
            "marker": {
             "colorbar": {
              "outlinewidth": 0,
              "ticks": ""
             }
            },
            "type": "scatterpolar"
           }
          ],
          "scatterpolargl": [
           {
            "marker": {
             "colorbar": {
              "outlinewidth": 0,
              "ticks": ""
             }
            },
            "type": "scatterpolargl"
           }
          ],
          "scatterternary": [
           {
            "marker": {
             "colorbar": {
              "outlinewidth": 0,
              "ticks": ""
             }
            },
            "type": "scatterternary"
           }
          ],
          "surface": [
           {
            "colorbar": {
             "outlinewidth": 0,
             "ticks": ""
            },
            "colorscale": [
             [
              0,
              "#0d0887"
             ],
             [
              0.1111111111111111,
              "#46039f"
             ],
             [
              0.2222222222222222,
              "#7201a8"
             ],
             [
              0.3333333333333333,
              "#9c179e"
             ],
             [
              0.4444444444444444,
              "#bd3786"
             ],
             [
              0.5555555555555556,
              "#d8576b"
             ],
             [
              0.6666666666666666,
              "#ed7953"
             ],
             [
              0.7777777777777778,
              "#fb9f3a"
             ],
             [
              0.8888888888888888,
              "#fdca26"
             ],
             [
              1,
              "#f0f921"
             ]
            ],
            "type": "surface"
           }
          ],
          "table": [
           {
            "cells": {
             "fill": {
              "color": "#EBF0F8"
             },
             "line": {
              "color": "white"
             }
            },
            "header": {
             "fill": {
              "color": "#C8D4E3"
             },
             "line": {
              "color": "white"
             }
            },
            "type": "table"
           }
          ]
         },
         "layout": {
          "annotationdefaults": {
           "arrowcolor": "#2a3f5f",
           "arrowhead": 0,
           "arrowwidth": 1
          },
          "coloraxis": {
           "colorbar": {
            "outlinewidth": 0,
            "ticks": ""
           }
          },
          "colorscale": {
           "diverging": [
            [
             0,
             "#8e0152"
            ],
            [
             0.1,
             "#c51b7d"
            ],
            [
             0.2,
             "#de77ae"
            ],
            [
             0.3,
             "#f1b6da"
            ],
            [
             0.4,
             "#fde0ef"
            ],
            [
             0.5,
             "#f7f7f7"
            ],
            [
             0.6,
             "#e6f5d0"
            ],
            [
             0.7,
             "#b8e186"
            ],
            [
             0.8,
             "#7fbc41"
            ],
            [
             0.9,
             "#4d9221"
            ],
            [
             1,
             "#276419"
            ]
           ],
           "sequential": [
            [
             0,
             "#0d0887"
            ],
            [
             0.1111111111111111,
             "#46039f"
            ],
            [
             0.2222222222222222,
             "#7201a8"
            ],
            [
             0.3333333333333333,
             "#9c179e"
            ],
            [
             0.4444444444444444,
             "#bd3786"
            ],
            [
             0.5555555555555556,
             "#d8576b"
            ],
            [
             0.6666666666666666,
             "#ed7953"
            ],
            [
             0.7777777777777778,
             "#fb9f3a"
            ],
            [
             0.8888888888888888,
             "#fdca26"
            ],
            [
             1,
             "#f0f921"
            ]
           ],
           "sequentialminus": [
            [
             0,
             "#0d0887"
            ],
            [
             0.1111111111111111,
             "#46039f"
            ],
            [
             0.2222222222222222,
             "#7201a8"
            ],
            [
             0.3333333333333333,
             "#9c179e"
            ],
            [
             0.4444444444444444,
             "#bd3786"
            ],
            [
             0.5555555555555556,
             "#d8576b"
            ],
            [
             0.6666666666666666,
             "#ed7953"
            ],
            [
             0.7777777777777778,
             "#fb9f3a"
            ],
            [
             0.8888888888888888,
             "#fdca26"
            ],
            [
             1,
             "#f0f921"
            ]
           ]
          },
          "colorway": [
           "#636efa",
           "#EF553B",
           "#00cc96",
           "#ab63fa",
           "#FFA15A",
           "#19d3f3",
           "#FF6692",
           "#B6E880",
           "#FF97FF",
           "#FECB52"
          ],
          "font": {
           "color": "#2a3f5f"
          },
          "geo": {
           "bgcolor": "white",
           "lakecolor": "white",
           "landcolor": "#E5ECF6",
           "showlakes": true,
           "showland": true,
           "subunitcolor": "white"
          },
          "hoverlabel": {
           "align": "left"
          },
          "hovermode": "closest",
          "mapbox": {
           "style": "light"
          },
          "paper_bgcolor": "white",
          "plot_bgcolor": "#E5ECF6",
          "polar": {
           "angularaxis": {
            "gridcolor": "white",
            "linecolor": "white",
            "ticks": ""
           },
           "bgcolor": "#E5ECF6",
           "radialaxis": {
            "gridcolor": "white",
            "linecolor": "white",
            "ticks": ""
           }
          },
          "scene": {
           "xaxis": {
            "backgroundcolor": "#E5ECF6",
            "gridcolor": "white",
            "gridwidth": 2,
            "linecolor": "white",
            "showbackground": true,
            "ticks": "",
            "zerolinecolor": "white"
           },
           "yaxis": {
            "backgroundcolor": "#E5ECF6",
            "gridcolor": "white",
            "gridwidth": 2,
            "linecolor": "white",
            "showbackground": true,
            "ticks": "",
            "zerolinecolor": "white"
           },
           "zaxis": {
            "backgroundcolor": "#E5ECF6",
            "gridcolor": "white",
            "gridwidth": 2,
            "linecolor": "white",
            "showbackground": true,
            "ticks": "",
            "zerolinecolor": "white"
           }
          },
          "shapedefaults": {
           "line": {
            "color": "#2a3f5f"
           }
          },
          "ternary": {
           "aaxis": {
            "gridcolor": "white",
            "linecolor": "white",
            "ticks": ""
           },
           "baxis": {
            "gridcolor": "white",
            "linecolor": "white",
            "ticks": ""
           },
           "bgcolor": "#E5ECF6",
           "caxis": {
            "gridcolor": "white",
            "linecolor": "white",
            "ticks": ""
           }
          },
          "title": {
           "x": 0.05
          },
          "xaxis": {
           "automargin": true,
           "gridcolor": "white",
           "linecolor": "white",
           "ticks": "",
           "title": {
            "standoff": 15
           },
           "zerolinecolor": "white",
           "zerolinewidth": 2
          },
          "yaxis": {
           "automargin": true,
           "gridcolor": "white",
           "linecolor": "white",
           "ticks": "",
           "title": {
            "standoff": 15
           },
           "zerolinecolor": "white",
           "zerolinewidth": 2
          }
         }
        },
        "xaxis": {
         "anchor": "y",
         "domain": [
          0,
          1
         ],
         "title": {
          "text": "State/UnionTerritory"
         }
        },
        "yaxis": {
         "anchor": "x",
         "domain": [
          0,
          1
         ],
         "title": {
          "text": "Total_Active_Cases"
         }
        }
       }
      },
      "text/html": [
       "<div>\n",
       "        \n",
       "        \n",
       "            <div id=\"226ebb2e-9698-4892-b22e-39326029d0cc\" class=\"plotly-graph-div\" style=\"height:525px; width:100%;\"></div>\n",
       "            <script type=\"text/javascript\">\n",
       "                require([\"plotly\"], function(Plotly) {\n",
       "                    window.PLOTLYENV=window.PLOTLYENV || {};\n",
       "                    \n",
       "                if (document.getElementById(\"226ebb2e-9698-4892-b22e-39326029d0cc\")) {\n",
       "                    Plotly.newPlot(\n",
       "                        '226ebb2e-9698-4892-b22e-39326029d0cc',\n",
       "                        [{\"hoverlabel\": {\"namelength\": 0}, \"hovertemplate\": \"State/UnionTerritory=%{x}<br>Total_Active_Cases=%{marker.color}\", \"legendgroup\": \"\", \"marker\": {\"color\": [5, 2495, 63, 1953, 2480, 43, 873, 28, 22212, 394, 5619, 3789, 183, 2591, 937, 2997, 1303, 176, 2802, 49628, 308, 21, 103, 107, 1014, 88, 641, 2898, 61, 18284, 2032, 682, 756, 4642, 5587, 7984], \"coloraxis\": \"coloraxis\", \"symbol\": \"circle\"}, \"mode\": \"markers\", \"name\": \"\", \"showlegend\": false, \"type\": \"scatter\", \"x\": [\"Andaman and Nicobar Islands\", \"Andhra Pradesh\", \"Arunachal Pradesh\", \"Assam\", \"Bihar\", \"Chandigarh\", \"Chhattisgarh\", \"Dadra and Nagar Haveli and Daman and Diu\", \"Delhi\", \"Goa\", \"Gujarat\", \"Haryana\", \"Himachal Pradesh\", \"Jammu and Kashmir\", \"Jharkhand\", \"Karnataka\", \"Kerala\", \"Ladakh\", \"Madhya Pradesh\", \"Maharashtra\", \"Manipur\", \"Meghalaya\", \"Mizoram\", \"Nagaland\", \"Odisha\", \"Puducherry\", \"Punjab\", \"Rajasthan\", \"Sikkim\", \"Tamil Nadu\", \"Telangana\", \"Tripura\", \"Uttarakhand\", \"Uttar Pradesh\", \"West Bengal\", \"Cases being reassigned to states\"], \"xaxis\": \"x\", \"y\": [5, 2495, 63, 1953, 2480, 43, 873, 28, 22212, 394, 5619, 3789, 183, 2591, 937, 2997, 1303, 176, 2802, 49628, 308, 21, 103, 107, 1014, 88, 641, 2898, 61, 18284, 2032, 682, 756, 4642, 5587, 7984], \"yaxis\": \"y\"}],\n",
       "                        {\"coloraxis\": {\"colorbar\": {\"title\": {\"text\": \"Total_Active_Cases\"}}, \"colorscale\": [[0.0, \"#0d0887\"], [0.1111111111111111, \"#46039f\"], [0.2222222222222222, \"#7201a8\"], [0.3333333333333333, \"#9c179e\"], [0.4444444444444444, \"#bd3786\"], [0.5555555555555556, \"#d8576b\"], [0.6666666666666666, \"#ed7953\"], [0.7777777777777778, \"#fb9f3a\"], [0.8888888888888888, \"#fdca26\"], [1.0, \"#f0f921\"]]}, \"legend\": {\"tracegroupgap\": 0}, \"margin\": {\"t\": 60}, \"template\": {\"data\": {\"bar\": [{\"error_x\": {\"color\": \"#2a3f5f\"}, \"error_y\": {\"color\": \"#2a3f5f\"}, \"marker\": {\"line\": {\"color\": \"#E5ECF6\", \"width\": 0.5}}, \"type\": \"bar\"}], \"barpolar\": [{\"marker\": {\"line\": {\"color\": \"#E5ECF6\", \"width\": 0.5}}, \"type\": \"barpolar\"}], \"carpet\": [{\"aaxis\": {\"endlinecolor\": \"#2a3f5f\", \"gridcolor\": \"white\", \"linecolor\": \"white\", \"minorgridcolor\": \"white\", \"startlinecolor\": \"#2a3f5f\"}, \"baxis\": {\"endlinecolor\": \"#2a3f5f\", \"gridcolor\": \"white\", \"linecolor\": \"white\", \"minorgridcolor\": \"white\", \"startlinecolor\": \"#2a3f5f\"}, \"type\": \"carpet\"}], \"choropleth\": [{\"colorbar\": {\"outlinewidth\": 0, \"ticks\": \"\"}, \"type\": \"choropleth\"}], \"contour\": [{\"colorbar\": {\"outlinewidth\": 0, \"ticks\": \"\"}, \"colorscale\": [[0.0, \"#0d0887\"], [0.1111111111111111, \"#46039f\"], [0.2222222222222222, \"#7201a8\"], [0.3333333333333333, \"#9c179e\"], [0.4444444444444444, \"#bd3786\"], [0.5555555555555556, \"#d8576b\"], [0.6666666666666666, \"#ed7953\"], [0.7777777777777778, \"#fb9f3a\"], [0.8888888888888888, \"#fdca26\"], [1.0, \"#f0f921\"]], \"type\": \"contour\"}], \"contourcarpet\": [{\"colorbar\": {\"outlinewidth\": 0, \"ticks\": \"\"}, \"type\": \"contourcarpet\"}], \"heatmap\": [{\"colorbar\": {\"outlinewidth\": 0, \"ticks\": \"\"}, \"colorscale\": [[0.0, \"#0d0887\"], [0.1111111111111111, \"#46039f\"], [0.2222222222222222, \"#7201a8\"], [0.3333333333333333, \"#9c179e\"], [0.4444444444444444, \"#bd3786\"], [0.5555555555555556, \"#d8576b\"], [0.6666666666666666, \"#ed7953\"], [0.7777777777777778, \"#fb9f3a\"], [0.8888888888888888, \"#fdca26\"], [1.0, \"#f0f921\"]], \"type\": \"heatmap\"}], \"heatmapgl\": [{\"colorbar\": {\"outlinewidth\": 0, \"ticks\": \"\"}, \"colorscale\": [[0.0, \"#0d0887\"], [0.1111111111111111, \"#46039f\"], [0.2222222222222222, \"#7201a8\"], [0.3333333333333333, \"#9c179e\"], [0.4444444444444444, \"#bd3786\"], [0.5555555555555556, \"#d8576b\"], [0.6666666666666666, \"#ed7953\"], [0.7777777777777778, \"#fb9f3a\"], [0.8888888888888888, \"#fdca26\"], [1.0, \"#f0f921\"]], \"type\": \"heatmapgl\"}], \"histogram\": [{\"marker\": {\"colorbar\": {\"outlinewidth\": 0, \"ticks\": \"\"}}, \"type\": \"histogram\"}], \"histogram2d\": [{\"colorbar\": {\"outlinewidth\": 0, \"ticks\": \"\"}, \"colorscale\": [[0.0, \"#0d0887\"], [0.1111111111111111, \"#46039f\"], [0.2222222222222222, \"#7201a8\"], [0.3333333333333333, \"#9c179e\"], [0.4444444444444444, \"#bd3786\"], [0.5555555555555556, \"#d8576b\"], [0.6666666666666666, \"#ed7953\"], [0.7777777777777778, \"#fb9f3a\"], [0.8888888888888888, \"#fdca26\"], [1.0, \"#f0f921\"]], \"type\": \"histogram2d\"}], \"histogram2dcontour\": [{\"colorbar\": {\"outlinewidth\": 0, \"ticks\": \"\"}, \"colorscale\": [[0.0, \"#0d0887\"], [0.1111111111111111, \"#46039f\"], [0.2222222222222222, \"#7201a8\"], [0.3333333333333333, \"#9c179e\"], [0.4444444444444444, \"#bd3786\"], [0.5555555555555556, \"#d8576b\"], [0.6666666666666666, \"#ed7953\"], [0.7777777777777778, \"#fb9f3a\"], [0.8888888888888888, \"#fdca26\"], [1.0, \"#f0f921\"]], \"type\": \"histogram2dcontour\"}], \"mesh3d\": [{\"colorbar\": {\"outlinewidth\": 0, \"ticks\": \"\"}, \"type\": \"mesh3d\"}], \"parcoords\": [{\"line\": {\"colorbar\": {\"outlinewidth\": 0, \"ticks\": \"\"}}, \"type\": \"parcoords\"}], \"pie\": [{\"automargin\": true, \"type\": \"pie\"}], \"scatter\": [{\"marker\": {\"colorbar\": {\"outlinewidth\": 0, \"ticks\": \"\"}}, \"type\": \"scatter\"}], \"scatter3d\": [{\"line\": {\"colorbar\": {\"outlinewidth\": 0, \"ticks\": \"\"}}, \"marker\": {\"colorbar\": {\"outlinewidth\": 0, \"ticks\": \"\"}}, \"type\": \"scatter3d\"}], \"scattercarpet\": [{\"marker\": {\"colorbar\": {\"outlinewidth\": 0, \"ticks\": \"\"}}, \"type\": \"scattercarpet\"}], \"scattergeo\": [{\"marker\": {\"colorbar\": {\"outlinewidth\": 0, \"ticks\": \"\"}}, \"type\": \"scattergeo\"}], \"scattergl\": [{\"marker\": {\"colorbar\": {\"outlinewidth\": 0, \"ticks\": \"\"}}, \"type\": \"scattergl\"}], \"scattermapbox\": [{\"marker\": {\"colorbar\": {\"outlinewidth\": 0, \"ticks\": \"\"}}, \"type\": \"scattermapbox\"}], \"scatterpolar\": [{\"marker\": {\"colorbar\": {\"outlinewidth\": 0, \"ticks\": \"\"}}, \"type\": \"scatterpolar\"}], \"scatterpolargl\": [{\"marker\": {\"colorbar\": {\"outlinewidth\": 0, \"ticks\": \"\"}}, \"type\": \"scatterpolargl\"}], \"scatterternary\": [{\"marker\": {\"colorbar\": {\"outlinewidth\": 0, \"ticks\": \"\"}}, \"type\": \"scatterternary\"}], \"surface\": [{\"colorbar\": {\"outlinewidth\": 0, \"ticks\": \"\"}, \"colorscale\": [[0.0, \"#0d0887\"], [0.1111111111111111, \"#46039f\"], [0.2222222222222222, \"#7201a8\"], [0.3333333333333333, \"#9c179e\"], [0.4444444444444444, \"#bd3786\"], [0.5555555555555556, \"#d8576b\"], [0.6666666666666666, \"#ed7953\"], [0.7777777777777778, \"#fb9f3a\"], [0.8888888888888888, \"#fdca26\"], [1.0, \"#f0f921\"]], \"type\": \"surface\"}], \"table\": [{\"cells\": {\"fill\": {\"color\": \"#EBF0F8\"}, \"line\": {\"color\": \"white\"}}, \"header\": {\"fill\": {\"color\": \"#C8D4E3\"}, \"line\": {\"color\": \"white\"}}, \"type\": \"table\"}]}, \"layout\": {\"annotationdefaults\": {\"arrowcolor\": \"#2a3f5f\", \"arrowhead\": 0, \"arrowwidth\": 1}, \"coloraxis\": {\"colorbar\": {\"outlinewidth\": 0, \"ticks\": \"\"}}, \"colorscale\": {\"diverging\": [[0, \"#8e0152\"], [0.1, \"#c51b7d\"], [0.2, \"#de77ae\"], [0.3, \"#f1b6da\"], [0.4, \"#fde0ef\"], [0.5, \"#f7f7f7\"], [0.6, \"#e6f5d0\"], [0.7, \"#b8e186\"], [0.8, \"#7fbc41\"], [0.9, \"#4d9221\"], [1, \"#276419\"]], \"sequential\": [[0.0, \"#0d0887\"], [0.1111111111111111, \"#46039f\"], [0.2222222222222222, \"#7201a8\"], [0.3333333333333333, \"#9c179e\"], [0.4444444444444444, \"#bd3786\"], [0.5555555555555556, \"#d8576b\"], [0.6666666666666666, \"#ed7953\"], [0.7777777777777778, \"#fb9f3a\"], [0.8888888888888888, \"#fdca26\"], [1.0, \"#f0f921\"]], \"sequentialminus\": [[0.0, \"#0d0887\"], [0.1111111111111111, \"#46039f\"], [0.2222222222222222, \"#7201a8\"], [0.3333333333333333, \"#9c179e\"], [0.4444444444444444, \"#bd3786\"], [0.5555555555555556, \"#d8576b\"], [0.6666666666666666, \"#ed7953\"], [0.7777777777777778, \"#fb9f3a\"], [0.8888888888888888, \"#fdca26\"], [1.0, \"#f0f921\"]]}, \"colorway\": [\"#636efa\", \"#EF553B\", \"#00cc96\", \"#ab63fa\", \"#FFA15A\", \"#19d3f3\", \"#FF6692\", \"#B6E880\", \"#FF97FF\", \"#FECB52\"], \"font\": {\"color\": \"#2a3f5f\"}, \"geo\": {\"bgcolor\": \"white\", \"lakecolor\": \"white\", \"landcolor\": \"#E5ECF6\", \"showlakes\": true, \"showland\": true, \"subunitcolor\": \"white\"}, \"hoverlabel\": {\"align\": \"left\"}, \"hovermode\": \"closest\", \"mapbox\": {\"style\": \"light\"}, \"paper_bgcolor\": \"white\", \"plot_bgcolor\": \"#E5ECF6\", \"polar\": {\"angularaxis\": {\"gridcolor\": \"white\", \"linecolor\": \"white\", \"ticks\": \"\"}, \"bgcolor\": \"#E5ECF6\", \"radialaxis\": {\"gridcolor\": \"white\", \"linecolor\": \"white\", \"ticks\": \"\"}}, \"scene\": {\"xaxis\": {\"backgroundcolor\": \"#E5ECF6\", \"gridcolor\": \"white\", \"gridwidth\": 2, \"linecolor\": \"white\", \"showbackground\": true, \"ticks\": \"\", \"zerolinecolor\": \"white\"}, \"yaxis\": {\"backgroundcolor\": \"#E5ECF6\", \"gridcolor\": \"white\", \"gridwidth\": 2, \"linecolor\": \"white\", \"showbackground\": true, \"ticks\": \"\", \"zerolinecolor\": \"white\"}, \"zaxis\": {\"backgroundcolor\": \"#E5ECF6\", \"gridcolor\": \"white\", \"gridwidth\": 2, \"linecolor\": \"white\", \"showbackground\": true, \"ticks\": \"\", \"zerolinecolor\": \"white\"}}, \"shapedefaults\": {\"line\": {\"color\": \"#2a3f5f\"}}, \"ternary\": {\"aaxis\": {\"gridcolor\": \"white\", \"linecolor\": \"white\", \"ticks\": \"\"}, \"baxis\": {\"gridcolor\": \"white\", \"linecolor\": \"white\", \"ticks\": \"\"}, \"bgcolor\": \"#E5ECF6\", \"caxis\": {\"gridcolor\": \"white\", \"linecolor\": \"white\", \"ticks\": \"\"}}, \"title\": {\"x\": 0.05}, \"xaxis\": {\"automargin\": true, \"gridcolor\": \"white\", \"linecolor\": \"white\", \"ticks\": \"\", \"title\": {\"standoff\": 15}, \"zerolinecolor\": \"white\", \"zerolinewidth\": 2}, \"yaxis\": {\"automargin\": true, \"gridcolor\": \"white\", \"linecolor\": \"white\", \"ticks\": \"\", \"title\": {\"standoff\": 15}, \"zerolinecolor\": \"white\", \"zerolinewidth\": 2}}}, \"xaxis\": {\"anchor\": \"y\", \"domain\": [0.0, 1.0], \"title\": {\"text\": \"State/UnionTerritory\"}}, \"yaxis\": {\"anchor\": \"x\", \"domain\": [0.0, 1.0], \"title\": {\"text\": \"Total_Active_Cases\"}}},\n",
       "                        {\"responsive\": true}\n",
       "                    ).then(function(){\n",
       "                            \n",
       "var gd = document.getElementById('226ebb2e-9698-4892-b22e-39326029d0cc');\n",
       "var x = new MutationObserver(function (mutations, observer) {{\n",
       "        var display = window.getComputedStyle(gd).display;\n",
       "        if (!display || display === 'none') {{\n",
       "            console.log([gd, 'removed!']);\n",
       "            Plotly.purge(gd);\n",
       "            observer.disconnect();\n",
       "        }}\n",
       "}});\n",
       "\n",
       "// Listen for the removal of the full notebook cells\n",
       "var notebookContainer = gd.closest('#notebook-container');\n",
       "if (notebookContainer) {{\n",
       "    x.observe(notebookContainer, {childList: true});\n",
       "}}\n",
       "\n",
       "// Listen for the clearing of the current output cell\n",
       "var outputEl = gd.closest('.output');\n",
       "if (outputEl) {{\n",
       "    x.observe(outputEl, {childList: true});\n",
       "}}\n",
       "\n",
       "                        })\n",
       "                };\n",
       "                });\n",
       "            </script>\n",
       "        </div>"
      ]
     },
     "metadata": {},
     "output_type": "display_data"
    }
   ],
   "source": [
    "px.scatter(df_cases_beds_map, x='State/UnionTerritory', y='Total_Active_Cases', color='Total_Active_Cases')"
   ]
  },
  {
   "cell_type": "code",
   "execution_count": 82,
   "metadata": {},
   "outputs": [
    {
     "data": {
      "text/html": [
       "<div>\n",
       "<style scoped>\n",
       "    .dataframe tbody tr th:only-of-type {\n",
       "        vertical-align: middle;\n",
       "    }\n",
       "\n",
       "    .dataframe tbody tr th {\n",
       "        vertical-align: top;\n",
       "    }\n",
       "\n",
       "    .dataframe thead th {\n",
       "        text-align: right;\n",
       "    }\n",
       "</style>\n",
       "<table border=\"1\" class=\"dataframe\">\n",
       "  <thead>\n",
       "    <tr style=\"text-align: right;\">\n",
       "      <th></th>\n",
       "      <th>A</th>\n",
       "      <th>B</th>\n",
       "      <th>C</th>\n",
       "      <th>D</th>\n",
       "    </tr>\n",
       "  </thead>\n",
       "  <tbody>\n",
       "    <tr>\n",
       "      <th>0</th>\n",
       "      <td>1</td>\n",
       "      <td>2</td>\n",
       "      <td>NaN</td>\n",
       "      <td>NaN</td>\n",
       "    </tr>\n",
       "    <tr>\n",
       "      <th>1</th>\n",
       "      <td>5</td>\n",
       "      <td>4</td>\n",
       "      <td>5.0</td>\n",
       "      <td>2.0</td>\n",
       "    </tr>\n",
       "    <tr>\n",
       "      <th>2</th>\n",
       "      <td>7</td>\n",
       "      <td>6</td>\n",
       "      <td>NaN</td>\n",
       "      <td>NaN</td>\n",
       "    </tr>\n",
       "    <tr>\n",
       "      <th>3</th>\n",
       "      <td>9</td>\n",
       "      <td>8</td>\n",
       "      <td>9.0</td>\n",
       "      <td>6.0</td>\n",
       "    </tr>\n",
       "  </tbody>\n",
       "</table>\n",
       "</div>"
      ],
      "text/plain": [
       "   A  B    C    D\n",
       "0  1  2  NaN  NaN\n",
       "1  5  4  5.0  2.0\n",
       "2  7  6  NaN  NaN\n",
       "3  9  8  9.0  6.0"
      ]
     },
     "execution_count": 82,
     "metadata": {},
     "output_type": "execute_result"
    }
   ],
   "source": [
    "pd.merge(left=t1, right=t2, how='left', left_on = ['A'], right_on=['C'])"
   ]
  },
  {
   "cell_type": "code",
   "execution_count": 83,
   "metadata": {},
   "outputs": [
    {
     "data": {
      "text/html": [
       "<div>\n",
       "<style scoped>\n",
       "    .dataframe tbody tr th:only-of-type {\n",
       "        vertical-align: middle;\n",
       "    }\n",
       "\n",
       "    .dataframe tbody tr th {\n",
       "        vertical-align: top;\n",
       "    }\n",
       "\n",
       "    .dataframe thead th {\n",
       "        text-align: right;\n",
       "    }\n",
       "</style>\n",
       "<table border=\"1\" class=\"dataframe\">\n",
       "  <thead>\n",
       "    <tr style=\"text-align: right;\">\n",
       "      <th></th>\n",
       "      <th>A</th>\n",
       "      <th>B</th>\n",
       "      <th>C</th>\n",
       "      <th>D</th>\n",
       "    </tr>\n",
       "  </thead>\n",
       "  <tbody>\n",
       "    <tr>\n",
       "      <th>0</th>\n",
       "      <td>5.0</td>\n",
       "      <td>4.0</td>\n",
       "      <td>5</td>\n",
       "      <td>2</td>\n",
       "    </tr>\n",
       "    <tr>\n",
       "      <th>1</th>\n",
       "      <td>9.0</td>\n",
       "      <td>8.0</td>\n",
       "      <td>9</td>\n",
       "      <td>6</td>\n",
       "    </tr>\n",
       "    <tr>\n",
       "      <th>2</th>\n",
       "      <td>NaN</td>\n",
       "      <td>NaN</td>\n",
       "      <td>11</td>\n",
       "      <td>10</td>\n",
       "    </tr>\n",
       "    <tr>\n",
       "      <th>3</th>\n",
       "      <td>NaN</td>\n",
       "      <td>NaN</td>\n",
       "      <td>13</td>\n",
       "      <td>12</td>\n",
       "    </tr>\n",
       "  </tbody>\n",
       "</table>\n",
       "</div>"
      ],
      "text/plain": [
       "     A    B   C   D\n",
       "0  5.0  4.0   5   2\n",
       "1  9.0  8.0   9   6\n",
       "2  NaN  NaN  11  10\n",
       "3  NaN  NaN  13  12"
      ]
     },
     "execution_count": 83,
     "metadata": {},
     "output_type": "execute_result"
    }
   ],
   "source": [
    "pd.merge(left=t1, right=t2, how='right', left_on = ['A'], right_on=['C'])"
   ]
  },
  {
   "cell_type": "code",
   "execution_count": null,
   "metadata": {},
   "outputs": [],
   "source": [
    "pd.merge(left=t1, right=t2, how='inner', left_on=['A'], right_on=['C'])\n",
    "pd.merge(left=t1, right=t2, how='left', left_on=['A'], right_on=['C'])\n",
    "pd.merge(left=t1, right=t2, how='right', left_on=['A'], right_on=['C'])\n",
    "pd.merge(left=t1, right=t2, how='outer', left_on=['A'], right_on=['C'])"
   ]
  }
 ],
 "metadata": {
  "kernelspec": {
   "display_name": "Python 3",
   "language": "python",
   "name": "python3"
  },
  "language_info": {
   "codemirror_mode": {
    "name": "ipython",
    "version": 3
   },
   "file_extension": ".py",
   "mimetype": "text/x-python",
   "name": "python",
   "nbconvert_exporter": "python",
   "pygments_lexer": "ipython3",
   "version": "3.8.3"
  }
 },
 "nbformat": 4,
 "nbformat_minor": 2
}
